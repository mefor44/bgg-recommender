{
 "cells": [
  {
   "cell_type": "code",
   "execution_count": 19,
   "id": "1736b051",
   "metadata": {},
   "outputs": [],
   "source": [
    "import pandas as pd\n",
    "import numpy as np\n",
    "import scipy.sparse\n",
    "\n",
    "\n",
    "import torch\n",
    "import torch.nn as nn\n",
    "import torch.nn.functional as F\n",
    "import torch.utils.data"
   ]
  },
  {
   "cell_type": "code",
   "execution_count": 13,
   "id": "c095448e",
   "metadata": {},
   "outputs": [],
   "source": [
    "mypath = \"/home/mmarzec12/data/\"\n",
    "savepath = \"/home/mmarzec12/models/mf/model_tuning/\"\n",
    "\n",
    "explicit = pd.read_csv(mypath+\"explicit_train.csv\")\n",
    "validation = pd.read_csv(mypath+\"leave_one_out_validation.csv\")"
   ]
  },
  {
   "cell_type": "code",
   "execution_count": 18,
   "id": "550b05c8",
   "metadata": {},
   "outputs": [],
   "source": [
    "# list with (user,item) tuples from validation set\n",
    "validation_list = [(u,i) for u,i in zip(validation.user_name, validation.game_id)]\n",
    "# dict with user:game key-value pairs from validation set\n",
    "validation_dict = {u:i for u,i in zip(validation.user_name, validation.game_id)}\n",
    "\n",
    "# unique games and users\n",
    "unique_users = explicit.user_name.unique()\n",
    "unique_games = explicit.game_id.unique()\n",
    "\n",
    "# dictonaries to map users to unique ids and vice vers\n",
    "us_to_ids = {u:i for i,u in enumerate(unique_users)}\n",
    "ids_to_us = {i:u for i,u in enumerate(unique_users)}\n",
    "\n",
    "# dictonaries to map games to unique ids and vice vers\n",
    "gs_to_ids = {g:i for i,g in enumerate(unique_games)}\n",
    "ids_to_gs = {i:g for i,g in enumerate(unique_games)}\n",
    "\n",
    "\n",
    "# creating sparse matrix with data\n",
    "row = [us_to_ids[us] for us in explicit.user_name]\n",
    "col = [gs_to_ids[g] for g in explicit.game_id]\n",
    "data = explicit.score\n",
    "\n",
    "A = scipy.sparse.coo_matrix((data, (row, col)), shape=(len(unique_users), len(unique_games)))\n",
    "#A = A.tocsr()"
   ]
  },
  {
   "cell_type": "code",
   "execution_count": 28,
   "id": "f8a1074b",
   "metadata": {},
   "outputs": [
    {
     "data": {
      "text/plain": [
       "6.0"
      ]
     },
     "execution_count": 28,
     "metadata": {},
     "output_type": "execute_result"
    }
   ],
   "source": [
    "A.todok()[1,2]"
   ]
  },
  {
   "cell_type": "code",
   "execution_count": 38,
   "id": "1d1e02a6",
   "metadata": {},
   "outputs": [],
   "source": [
    "class RecDataset(torch.utils.data.Dataset):\n",
    "    \n",
    "    def __init__(self, sparse_matrix):\n",
    "        super().__init__()\n",
    "        self.mat = sparse_matrix.tocoo()\n",
    "        \n",
    "    def __len__():\n",
    "        return self.mat.nnz\n",
    "        \n",
    "    def __getitem__(self, index):\n",
    "        row = self.mat.row[index]\n",
    "        col = self.mat.col[index]\n",
    "        val = self.mat.data[index]\n",
    "        return (row, col), val"
   ]
  },
  {
   "cell_type": "code",
   "execution_count": 46,
   "id": "5d230455",
   "metadata": {},
   "outputs": [],
   "source": [
    "class BaseMF(nn.Module):\n",
    "    \n",
    "    def __init__(self, n_factors, n_users, n_items):\n",
    "        super().__init__()\n",
    "        self.user_biases = nn.Embedding(n_users, 1)\n",
    "        self.item_biases = nn.Embedding(n_items, 1)\n",
    "        self.user_embeddings = nn.Embedding(n_users, n_factors)\n",
    "        self.item_embeddings = nn.Embedding(n_items, n_factors)\n",
    "        \n",
    "        \n",
    "    def forward(self, user_id, item_id):\n",
    "        return (self.user_embeddings(user_id) * self.item_embeddings(item_id)).sum()\n"
   ]
  },
  {
   "cell_type": "code",
   "execution_count": 51,
   "id": "38325024",
   "metadata": {},
   "outputs": [
    {
     "name": "stdout",
     "output_type": "stream",
     "text": [
      "tensor(52.8506, grad_fn=<MseLossBackward0>)\n"
     ]
    },
    {
     "name": "stderr",
     "output_type": "stream",
     "text": [
      "/home/mmarzec12/anaconda3/lib/python3.9/site-packages/torch/nn/modules/loss.py:520: UserWarning: Using a target size (torch.Size([1])) that is different to the input size (torch.Size([])). This will likely lead to incorrect results due to broadcasting. Please ensure they have the same size.\n",
      "  return F.mse_loss(input, target, reduction=self.reduction)\n"
     ]
    },
    {
     "ename": "AttributeError",
     "evalue": "'MSELoss' object has no attribute 'backward'",
     "output_type": "error",
     "traceback": [
      "\u001b[0;31m---------------------------------------------------------------------------\u001b[0m",
      "\u001b[0;31mAttributeError\u001b[0m                            Traceback (most recent call last)",
      "\u001b[0;32m/tmp/ipykernel_4231/902747467.py\u001b[0m in \u001b[0;36m<module>\u001b[0;34m\u001b[0m\n\u001b[1;32m     20\u001b[0m         \u001b[0ml\u001b[0m \u001b[0;34m=\u001b[0m \u001b[0mloss\u001b[0m\u001b[0;34m(\u001b[0m\u001b[0mpred\u001b[0m\u001b[0;34m,\u001b[0m \u001b[0mval\u001b[0m\u001b[0;34m)\u001b[0m\u001b[0;34m\u001b[0m\u001b[0;34m\u001b[0m\u001b[0m\n\u001b[1;32m     21\u001b[0m         \u001b[0mprint\u001b[0m\u001b[0;34m(\u001b[0m\u001b[0ml\u001b[0m\u001b[0;34m)\u001b[0m\u001b[0;34m\u001b[0m\u001b[0;34m\u001b[0m\u001b[0m\n\u001b[0;32m---> 22\u001b[0;31m         \u001b[0mloss\u001b[0m\u001b[0;34m.\u001b[0m\u001b[0mbackward\u001b[0m\u001b[0;34m(\u001b[0m\u001b[0;34m)\u001b[0m\u001b[0;34m\u001b[0m\u001b[0;34m\u001b[0m\u001b[0m\n\u001b[0m\u001b[1;32m     23\u001b[0m \u001b[0;34m\u001b[0m\u001b[0m\n\u001b[1;32m     24\u001b[0m         \u001b[0mopt\u001b[0m\u001b[0;34m.\u001b[0m\u001b[0mstep\u001b[0m\u001b[0;34m(\u001b[0m\u001b[0;34m)\u001b[0m\u001b[0;34m\u001b[0m\u001b[0;34m\u001b[0m\u001b[0m\n",
      "\u001b[0;32m~/anaconda3/lib/python3.9/site-packages/torch/nn/modules/module.py\u001b[0m in \u001b[0;36m__getattr__\u001b[0;34m(self, name)\u001b[0m\n\u001b[1;32m   1175\u001b[0m             \u001b[0;32mif\u001b[0m \u001b[0mname\u001b[0m \u001b[0;32min\u001b[0m \u001b[0mmodules\u001b[0m\u001b[0;34m:\u001b[0m\u001b[0;34m\u001b[0m\u001b[0;34m\u001b[0m\u001b[0m\n\u001b[1;32m   1176\u001b[0m                 \u001b[0;32mreturn\u001b[0m \u001b[0mmodules\u001b[0m\u001b[0;34m[\u001b[0m\u001b[0mname\u001b[0m\u001b[0;34m]\u001b[0m\u001b[0;34m\u001b[0m\u001b[0;34m\u001b[0m\u001b[0m\n\u001b[0;32m-> 1177\u001b[0;31m         raise AttributeError(\"'{}' object has no attribute '{}'\".format(\n\u001b[0m\u001b[1;32m   1178\u001b[0m             type(self).__name__, name))\n\u001b[1;32m   1179\u001b[0m \u001b[0;34m\u001b[0m\u001b[0m\n",
      "\u001b[0;31mAttributeError\u001b[0m: 'MSELoss' object has no attribute 'backward'"
     ]
    }
   ],
   "source": [
    "model = BaseMF(n_factors=20, n_users=len(unique_users), n_items=len(unique_games))\n",
    "\n",
    "loss = nn.MSELoss()\n",
    "opt = torch.optim.SGD(model.parameters(), lr=1e-6)\n",
    "train = RecDataset(A)\n",
    "\n",
    "n_epochs = 5\n",
    "\n",
    "for epoch in range(n_epochs):\n",
    "    for x in train:\n",
    "        ids, val = x\n",
    "        val = torch.FloatTensor([val])\n",
    "        row = torch.LongTensor([ids[0]])\n",
    "        col = torch.LongTensor([ids[1]])\n",
    "        \n",
    "        \n",
    "        opt.zero_grad()\n",
    "        \n",
    "        pred = model(row, col)\n",
    "        l = loss(pred, val)\n",
    "        print(l)\n",
    "        loss.backward()\n",
    "        \n",
    "        opt.step()"
   ]
  },
  {
   "cell_type": "code",
   "execution_count": 11,
   "id": "825299fd",
   "metadata": {},
   "outputs": [
    {
     "data": {
      "text/plain": [
       "<bound method Module.parameters of MF(\n",
       "  (user_biases): Embedding(1, 1)\n",
       "  (item_biases): Embedding(1, 1)\n",
       "  (user_embeddings): Embedding(1, 1)\n",
       "  (item_embeddings): Embedding(1, 1)\n",
       ")>"
      ]
     },
     "execution_count": 11,
     "metadata": {},
     "output_type": "execute_result"
    }
   ],
   "source": [
    "model.parameters"
   ]
  },
  {
   "cell_type": "code",
   "execution_count": 11,
   "id": "b8dbcb0a",
   "metadata": {},
   "outputs": [],
   "source": [
    "mf.requires_grad_ = False"
   ]
  },
  {
   "cell_type": "code",
   "execution_count": 12,
   "id": "6c55a683",
   "metadata": {},
   "outputs": [
    {
     "data": {
      "text/plain": [
       "False"
      ]
     },
     "execution_count": 12,
     "metadata": {},
     "output_type": "execute_result"
    }
   ],
   "source": []
  },
  {
   "cell_type": "code",
   "execution_count": null,
   "id": "7f054ce8",
   "metadata": {},
   "outputs": [],
   "source": []
  },
  {
   "cell_type": "code",
   "execution_count": null,
   "id": "b8c468eb",
   "metadata": {},
   "outputs": [],
   "source": []
  },
  {
   "cell_type": "code",
   "execution_count": null,
   "id": "aa876ff6",
   "metadata": {},
   "outputs": [],
   "source": [
    "    \n",
    "    \n",
    "class ModelPipeline(nn.Module):\n",
    "    \n",
    "    def __init__(self):\n",
    "        pass\n",
    "        \n",
    "        \n",
    "    def fit(self):\n",
    "        return\n",
    "        \n",
    "    def fit_epoch(self):\n",
    "        return"
   ]
  }
 ],
 "metadata": {
  "kernelspec": {
   "display_name": "Python 3 (ipykernel)",
   "language": "python",
   "name": "python3"
  },
  "language_info": {
   "codemirror_mode": {
    "name": "ipython",
    "version": 3
   },
   "file_extension": ".py",
   "mimetype": "text/x-python",
   "name": "python",
   "nbconvert_exporter": "python",
   "pygments_lexer": "ipython3",
   "version": "3.9.7"
  }
 },
 "nbformat": 4,
 "nbformat_minor": 5
}
