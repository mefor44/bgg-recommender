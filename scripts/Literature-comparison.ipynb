{
 "cells": [
  {
   "cell_type": "code",
   "execution_count": 1,
   "id": "c02fd7c5",
   "metadata": {},
   "outputs": [],
   "source": [
    "import pandas as pd\n",
    "import numpy as np\n",
    "from time import perf_counter\n",
    "from tqdm import tqdm\n",
    "import scipy \n",
    "import pickle\n",
    "import glob\n",
    "\n",
    "import scipy.sparse\n",
    "\n",
    "import torch\n",
    "import torch.nn as nn\n",
    "import torch.nn.functional as F\n",
    "import torch.optim as optim\n",
    "\n",
    "\n",
    "from metrics import Evaluator, NDCG, NDCG_user, NDCG_MAP, NDCG_AP_user\n",
    "from my_models import EASE, ParallSynSLIM\n",
    "from utils_VAE import BaseMultiVAE, TrainableMultVAE, loss_function, naive_sparse2tensor, sparse2torch_sparse"
   ]
  },
  {
   "cell_type": "code",
   "execution_count": 2,
   "id": "35c0f275",
   "metadata": {},
   "outputs": [],
   "source": [
    "files = glob.glob(\"D:/0Studia/Data-Science-PW/Masters-thesis/models/comparison_literature/*\")\n",
    "\n",
    "res = []\n",
    "for f in files:\n",
    "    res.append(pd.read_pickle(f))"
   ]
  },
  {
   "cell_type": "code",
   "execution_count": 27,
   "id": "633142d3-53b3-4261-a7ca-b23b7b79e612",
   "metadata": {},
   "outputs": [
    {
     "name": "stdout",
     "output_type": "stream",
     "text": [
      "EASE min_n_users = 200\n",
      "NDCG 0.546\n",
      "MAP 0.378\n",
      "-----------------------------\n",
      "SLIM min_n_users = 200\n",
      "NDCG 0.446\n",
      "MAP 0.282\n",
      "-----------------------------\n",
      "VAE min_n_users = 200\n",
      "NDCG 0.417\n",
      "MAP 0.253\n",
      "-----------------------------\n",
      "VAE min_n_users = 8\n",
      "NDCG 0.076\n",
      "MAP 0.024\n",
      "-----------------------------\n"
     ]
    }
   ],
   "source": [
    "for model in res:\n",
    "    print(model[\"model_name\"], \"min_n_users =\", model[\"min_n_users\"])\n",
    "    print(\"NDCG\", round(model[\"NDCG\"],3))\n",
    "    print(\"MAP\", round(model[\"MAP\"],3))\n",
    "    print(\"-----------------------------\")"
   ]
  },
  {
   "cell_type": "code",
   "execution_count": 21,
   "id": "a5626425",
   "metadata": {},
   "outputs": [
    {
     "data": {
      "text/plain": [
       "[{'model_name': 'EASE',\n",
       "  'min_n_users': 200,\n",
       "  'min_n_items': 200,\n",
       "  'NDCG': 0.5461252600999648,\n",
       "  'MAP': 0.37754507061062187,\n",
       "  'k': 10},\n",
       " {'model_name': 'SLIM',\n",
       "  'min_n_users': 200,\n",
       "  'min_n_items': 200,\n",
       "  'NDCG': 0.4462523373480932,\n",
       "  'MAP': 0.2824251614566555,\n",
       "  'k': 10},\n",
       " {'model_name': 'VAE',\n",
       "  'min_n_users': 200,\n",
       "  'min_n_items': 200,\n",
       "  'NDCG': 0.4172961831571981,\n",
       "  'MAP': 0.2533637689788075,\n",
       "  'k': 10},\n",
       " {'model_name': 'VAE',\n",
       "  'min_n_users': 8,\n",
       "  'min_n_items': 8,\n",
       "  'NDCGs_val': [0.03404932945009125,\n",
       "   0.03990328423915318,\n",
       "   0.04285455201971173,\n",
       "   0.044784510895245294,\n",
       "   0.04590303473783011,\n",
       "   0.04673094261573562,\n",
       "   0.04731526100408935,\n",
       "   0.04794783367804977,\n",
       "   0.04785403714732932,\n",
       "   0.048144598779245505,\n",
       "   0.048700427778776686,\n",
       "   0.049017366231095504,\n",
       "   0.04905446974912582,\n",
       "   0.049145548955875785,\n",
       "   0.049162251271580706],\n",
       "  'NDCG': 0.07579180735941385,\n",
       "  'MAP': 0.024454387299609054,\n",
       "  'n_epochs': 15,\n",
       "  'k': 10,\n",
       "  'training_time': 16656.435301623}]"
      ]
     },
     "execution_count": 21,
     "metadata": {},
     "output_type": "execute_result"
    }
   ],
   "source": [
    "res"
   ]
  },
  {
   "cell_type": "code",
   "execution_count": null,
   "id": "46224922",
   "metadata": {},
   "outputs": [],
   "source": []
  },
  {
   "cell_type": "code",
   "execution_count": null,
   "id": "52e5522c",
   "metadata": {},
   "outputs": [],
   "source": []
  }
 ],
 "metadata": {
  "kernelspec": {
   "display_name": "Python 3 (ipykernel)",
   "language": "python",
   "name": "python3"
  },
  "language_info": {
   "codemirror_mode": {
    "name": "ipython",
    "version": 3
   },
   "file_extension": ".py",
   "mimetype": "text/x-python",
   "name": "python",
   "nbconvert_exporter": "python",
   "pygments_lexer": "ipython3",
   "version": "3.8.12"
  }
 },
 "nbformat": 4,
 "nbformat_minor": 5
}
