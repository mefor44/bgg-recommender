{
 "cells": [
  {
   "cell_type": "code",
   "execution_count": 2,
   "id": "2960228e",
   "metadata": {},
   "outputs": [],
   "source": [
    "import pandas as pd\n",
    "import numpy as np\n",
    "import matplotlib.pyplot as plt\n",
    "import seaborn as sn\n",
    "\n",
    "import scipy.sparse\n",
    "import time\n",
    "import pickle\n",
    "import glob\n",
    "\n",
    "from tqdm.notebook import tqdm\n",
    "\n",
    "from metrics import Evaluator\n",
    "from my_models import EASE"
   ]
  },
  {
   "cell_type": "code",
   "execution_count": 20,
   "id": "6047504b",
   "metadata": {},
   "outputs": [],
   "source": [
    "plot_savepath = \"D:/0Studia/Data-Science-PW\\Masters-thesis/plots/models_related/\""
   ]
  },
  {
   "cell_type": "code",
   "execution_count": 2,
   "id": "e45a90e2",
   "metadata": {},
   "outputs": [
    {
     "name": "stdout",
     "output_type": "stream",
     "text": [
      "There is 1362961 rows with score <= 6.\n"
     ]
    }
   ],
   "source": [
    "mypath = \"D:/0Studia/Data-Science-PW\\Masters-thesis/data/\"\n",
    "savepath = \"D:/0Studia/Data-Science-PW\\Masters-thesis/models/ease/model_tuning/\"\n",
    "\n",
    "explicit = pd.read_csv(mypath+\"explicit_train.csv\")\n",
    "validation = pd.read_csv(mypath+\"leave_one_out_validation.csv\")\n",
    "tag_matrix = scipy.sparse.load_npz(mypath+\"tag_matrix.npz\")\n",
    "\n",
    "\n",
    "# list with (user,item) tuples from validation set\n",
    "validation_list = [(u,i) for u,i in zip(validation.user_name, validation.game_id)]\n",
    "# dict with user:game key-value pairs from validation set\n",
    "validation_dict = {u:i for u,i in zip(validation.user_name, validation.game_id)}\n",
    "\n",
    "# unique games and users\n",
    "unique_users = explicit.user_name.unique()\n",
    "unique_games = explicit.game_id.unique()\n",
    "\n",
    "n_users, n_items = len(unique_users), len(unique_games)\n",
    "\n",
    "# dictonaries to map users to unique ids and vice vers\n",
    "us_to_ids = {u:i for i,u in enumerate(unique_users)}\n",
    "ids_to_us = {i:u for i,u in enumerate(unique_users)}\n",
    "\n",
    "# dictonaries to map games to unique ids and vice vers\n",
    "gs_to_ids = {g:i for i,g in enumerate(unique_games)}\n",
    "ids_to_gs = {i:g for i,g in enumerate(unique_games)}\n",
    "\n",
    "\n",
    "implicit = pd.read_csv(mypath+\"implicit_train.csv\")\n",
    "implicit[\"score\"] = 1\n",
    "\n",
    "# filtering explicit ratings: filter ratings <6 and >=1\n",
    "print(f\"There is {np.sum(explicit.score <= 6)} rows with score <= 6.\")\n",
    "explicit = explicit[explicit.score > 6]\n",
    "\n",
    "# we join implictit and explicit rating data\n",
    "joined = pd.concat([explicit, implicit])\n",
    "joined = joined[[\"user_name\", \"game_id\", \"score\"]]\n",
    "# converting all interaction data to \"1\" \n",
    "joined[\"score\"] = 1\n",
    "\n",
    "# creating sparse matrix with data\n",
    "row = [us_to_ids[us] for us in joined.user_name]\n",
    "col = [gs_to_ids[g] for g in joined.game_id]\n",
    "data = joined.score\n",
    "\n",
    "train_data = scipy.sparse.coo_matrix((data, (row, col)), shape=(len(unique_users), len(unique_games))).tocsr()\n",
    "#item_matrix = user_matrix.T.copy()\n",
    "#dok_matrix = user_matrix.todok()"
   ]
  },
  {
   "cell_type": "markdown",
   "id": "d712963e",
   "metadata": {},
   "source": [
    "## EASE"
   ]
  },
  {
   "cell_type": "code",
   "execution_count": 3,
   "id": "5c31fa47",
   "metadata": {},
   "outputs": [],
   "source": [
    "savepath = \"D:/0Studia/Data-Science-PW\\Masters-thesis/models/ease/model_tuning/\"\n",
    "n_files = len(glob.glob(savepath+\"/*\"))\n",
    "res = []\n",
    "for i in range(1,n_files+1):\n",
    "    res.append(pd.read_pickle(savepath+f\"/ease_{i}\"))"
   ]
  },
  {
   "cell_type": "code",
   "execution_count": 4,
   "id": "45756131",
   "metadata": {},
   "outputs": [],
   "source": [
    "resdf = pd.DataFrame(columns=[\"regularization\", \"metric_name\", \"metric_value\"])\n",
    "rows_list = []\n",
    "for r in res:\n",
    "    d1 = {}\n",
    "    d1[\"regularization\"] = r[\"regularization\"]\n",
    "    d1[\"metric_name\"] = \"NDCG10\"\n",
    "    d1[\"metric_value\"] = r[\"NDCG\"]\n",
    "    rows_list.append(d1)\n",
    "    \n",
    "    d2 = {}\n",
    "    d2[\"regularization\"] = r[\"regularization\"]\n",
    "    d2[\"metric_name\"] = \"ERR10\"\n",
    "    d2[\"metric_value\"] = r[\"ERR\"]\n",
    "    rows_list.append(d2)\n",
    "    \n",
    "    d3 = {}\n",
    "    d3[\"regularization\"] = r[\"regularization\"]\n",
    "    d3[\"metric_name\"] = \"HR10\"\n",
    "    d3[\"metric_value\"] = r[\"HR\"]\n",
    "    rows_list.append(d3)\n",
    "\n",
    "    \n",
    "resdf = pd.DataFrame(rows_list)"
   ]
  },
  {
   "cell_type": "code",
   "execution_count": 6,
   "id": "864b94c2",
   "metadata": {},
   "outputs": [
    {
     "data": {
      "text/html": [
       "<div>\n",
       "<style scoped>\n",
       "    .dataframe tbody tr th:only-of-type {\n",
       "        vertical-align: middle;\n",
       "    }\n",
       "\n",
       "    .dataframe tbody tr th {\n",
       "        vertical-align: top;\n",
       "    }\n",
       "\n",
       "    .dataframe thead th {\n",
       "        text-align: right;\n",
       "    }\n",
       "</style>\n",
       "<table border=\"1\" class=\"dataframe\">\n",
       "  <thead>\n",
       "    <tr style=\"text-align: right;\">\n",
       "      <th></th>\n",
       "      <th>regularization</th>\n",
       "      <th>metric_name</th>\n",
       "      <th>metric_value</th>\n",
       "    </tr>\n",
       "  </thead>\n",
       "  <tbody>\n",
       "    <tr>\n",
       "      <th>0</th>\n",
       "      <td>200</td>\n",
       "      <td>NDCG10</td>\n",
       "      <td>0.282194</td>\n",
       "    </tr>\n",
       "    <tr>\n",
       "      <th>1</th>\n",
       "      <td>200</td>\n",
       "      <td>ERR10</td>\n",
       "      <td>0.229647</td>\n",
       "    </tr>\n",
       "    <tr>\n",
       "      <th>2</th>\n",
       "      <td>200</td>\n",
       "      <td>HR10</td>\n",
       "      <td>0.451927</td>\n",
       "    </tr>\n",
       "    <tr>\n",
       "      <th>3</th>\n",
       "      <td>400</td>\n",
       "      <td>NDCG10</td>\n",
       "      <td>0.284981</td>\n",
       "    </tr>\n",
       "    <tr>\n",
       "      <th>4</th>\n",
       "      <td>400</td>\n",
       "      <td>ERR10</td>\n",
       "      <td>0.232368</td>\n",
       "    </tr>\n",
       "  </tbody>\n",
       "</table>\n",
       "</div>"
      ],
      "text/plain": [
       "   regularization metric_name  metric_value\n",
       "0             200      NDCG10      0.282194\n",
       "1             200       ERR10      0.229647\n",
       "2             200        HR10      0.451927\n",
       "3             400      NDCG10      0.284981\n",
       "4             400       ERR10      0.232368"
      ]
     },
     "execution_count": 6,
     "metadata": {},
     "output_type": "execute_result"
    }
   ],
   "source": [
    "resdf.head()"
   ]
  },
  {
   "cell_type": "code",
   "execution_count": 196,
   "id": "660c5665",
   "metadata": {},
   "outputs": [
    {
     "data": {
      "image/png": "[encoded data removed]",
      "text/plain": [
       "<Figure size 1152x288 with 3 Axes>"
      ]
     },
     "metadata": {
      "needs_background": "light"
     },
     "output_type": "display_data"
    }
   ],
   "source": [
    "metrics = resdf.metric_name.unique()\n",
    "fig, axes = plt.subplots(1, 3, figsize=(16,4))\n",
    "sn.set_color_codes(\"muted\")\n",
    "axes = axes.ravel()\n",
    "plt.xticks(rotation=45)\n",
    "for i in range(len(metrics)):\n",
    "    tmp = resdf[resdf.metric_name==metrics[i]]\n",
    "    axes[i].set_title(f\"Results for {metrics[i]}\", fontsize=17)\n",
    "    clrs = [\"b\" if (x < max(tmp.metric_value)) else \"r\" for x in tmp.metric_value]\n",
    "    sn.barplot(y=\"metric_value\", x=\"regularization\", data=tmp, ax=axes[i], palette=clrs)\n",
    "    axes[i].tick_params(axis='x', rotation=45)\n",
    "    \n",
    "fig.tight_layout()\n",
    "# fig.delaxes(axes[-1])"
   ]
  },
  {
   "cell_type": "code",
   "execution_count": 197,
   "id": "f5e50099",
   "metadata": {},
   "outputs": [],
   "source": [
    "tmp = resdf[resdf.metric_name==\"NDCG10\"] #HR10\n",
    "best_params = tmp.loc[tmp.metric_value.idxmax()].regularization\n",
    "\n",
    "# save the results\n",
    "with open(\"/home/mmarzec12/models/ease/\"+\"ease_best_params\", \"wb\") as handle:\n",
    "    pickle.dump(best_params, handle, protocol=pickle.HIGHEST_PROTOCOL)"
   ]
  },
  {
   "cell_type": "code",
   "execution_count": 187,
   "id": "2fc91b60",
   "metadata": {},
   "outputs": [
    {
     "data": {
      "text/plain": [
       "2400"
      ]
     },
     "execution_count": 187,
     "metadata": {},
     "output_type": "execute_result"
    }
   ],
   "source": [
    "best_params"
   ]
  },
  {
   "cell_type": "markdown",
   "id": "3b9505a7",
   "metadata": {},
   "source": [
    "## CEASE"
   ]
  },
  {
   "cell_type": "code",
   "execution_count": 11,
   "id": "172a66e9",
   "metadata": {},
   "outputs": [],
   "source": [
    "savepath = \"D:/0Studia/Data-Science-PW\\Masters-thesis\\models/cease/model_tuning/\"\n",
    "n_files = len(glob.glob(savepath+\"/*\"))\n",
    "res = []\n",
    "for i in range(1,n_files+1):\n",
    "    res.append(pd.read_pickle(savepath+f\"/cease_{i}\"))\n",
    "    \n",
    "res = res[:8]"
   ]
  },
  {
   "cell_type": "code",
   "execution_count": 12,
   "id": "bd011349-f3c2-4004-8d75-5aa5b3a10063",
   "metadata": {},
   "outputs": [
    {
     "data": {
      "text/plain": [
       "[{'model_name': 'CEASE',\n",
       "  'calculation_time': 58.32758665084839,\n",
       "  'alpha': 1,\n",
       "  'NDCG': 0.2906843031281639,\n",
       "  'ERR': 0.23763084790343603,\n",
       "  'HR': 0.4620200946059917},\n",
       " {'model_name': 'CEASE',\n",
       "  'calculation_time': 59.15926814079285,\n",
       "  'alpha': 5,\n",
       "  'NDCG': 0.29081802365228293,\n",
       "  'ERR': 0.2378566459341367,\n",
       "  'HR': 0.4617725789299989},\n",
       " {'model_name': 'CEASE',\n",
       "  'calculation_time': 59.368834495544434,\n",
       "  'alpha': 10,\n",
       "  'NDCG': 0.2908504857765701,\n",
       "  'ERR': 0.23799285594965985,\n",
       "  'HR': 0.4614425580286752},\n",
       " {'model_name': 'CEASE',\n",
       "  'calculation_time': 59.26719307899475,\n",
       "  'alpha': 50,\n",
       "  'NDCG': 0.28728468458670064,\n",
       "  'ERR': 0.23530173048525876,\n",
       "  'HR': 0.45499798320560303},\n",
       " {'model_name': 'CEASE',\n",
       "  'calculation_time': 58.62268614768982,\n",
       "  'alpha': 100,\n",
       "  'NDCG': 0.28386862411471925,\n",
       "  'ERR': 0.2318630160068868,\n",
       "  'HR': 0.45176194492317845},\n",
       " {'model_name': 'CEASE',\n",
       "  'calculation_time': 58.572964668273926,\n",
       "  'alpha': 500,\n",
       "  'NDCG': 0.28093338707811893,\n",
       "  'ERR': 0.2286615731694753,\n",
       "  'HR': 0.44970848153716403},\n",
       " {'model_name': 'CEASE',\n",
       "  'calculation_time': 58.698686361312866,\n",
       "  'alpha': 1000,\n",
       "  'NDCG': 0.28081085121386545,\n",
       "  'ERR': 0.22852630898105028,\n",
       "  'HR': 0.4496259763118331},\n",
       " {'model_name': 'CEASE',\n",
       "  'calculation_time': 58.223888874053955,\n",
       "  'alpha': 10000,\n",
       "  'NDCG': 0.28075730981663694,\n",
       "  'ERR': 0.2284697958119358,\n",
       "  'HR': 0.4495801400755381}]"
      ]
     },
     "execution_count": 12,
     "metadata": {},
     "output_type": "execute_result"
    }
   ],
   "source": [
    "res"
   ]
  },
  {
   "cell_type": "code",
   "execution_count": 8,
   "id": "71bed4c2",
   "metadata": {},
   "outputs": [],
   "source": [
    "resdf = pd.DataFrame(columns=[\"alpha\", \"metric_name\", \"metric_value\"])\n",
    "rows_list = []\n",
    "for r in res:\n",
    "    d1 = {}\n",
    "    d1[\"alpha\"] = r['alpha']\n",
    "    d1[\"metric_name\"] = \"NDCG10\"\n",
    "    d1[\"metric_value\"] = r[\"NDCG\"]\n",
    "    rows_list.append(d1)\n",
    "    \n",
    "    d2 = {}\n",
    "    d2[\"alpha\"] = r[\"alpha\"]\n",
    "    d2[\"metric_name\"] = \"ERR10\"\n",
    "    d2[\"metric_value\"] = r[\"ERR\"]\n",
    "    rows_list.append(d2)\n",
    "    \n",
    "    d3 = {}\n",
    "    d3[\"alpha\"] = r[\"alpha\"]\n",
    "    d3[\"metric_name\"] = \"HR10\"\n",
    "    d3[\"metric_value\"] = r[\"HR\"]\n",
    "    rows_list.append(d3)\n",
    "\n",
    "    \n",
    "resdf = pd.DataFrame(rows_list)"
   ]
  },
  {
   "cell_type": "code",
   "execution_count": 9,
   "id": "0574248e-6f57-4124-a7bd-876b78a0ecdf",
   "metadata": {},
   "outputs": [
    {
     "data": {
      "text/html": [
       "<div>\n",
       "<style scoped>\n",
       "    .dataframe tbody tr th:only-of-type {\n",
       "        vertical-align: middle;\n",
       "    }\n",
       "\n",
       "    .dataframe tbody tr th {\n",
       "        vertical-align: top;\n",
       "    }\n",
       "\n",
       "    .dataframe thead th {\n",
       "        text-align: right;\n",
       "    }\n",
       "</style>\n",
       "<table border=\"1\" class=\"dataframe\">\n",
       "  <thead>\n",
       "    <tr style=\"text-align: right;\">\n",
       "      <th></th>\n",
       "    </tr>\n",
       "  </thead>\n",
       "  <tbody>\n",
       "  </tbody>\n",
       "</table>\n",
       "</div>"
      ],
      "text/plain": [
       "Empty DataFrame\n",
       "Columns: []\n",
       "Index: []"
      ]
     },
     "execution_count": 9,
     "metadata": {},
     "output_type": "execute_result"
    }
   ],
   "source": [
    "resdf"
   ]
  },
  {
   "cell_type": "code",
   "execution_count": 21,
   "id": "df82cb67",
   "metadata": {},
   "outputs": [
    {
     "data": {
      "image/png": "[encoded data removed]",
      "text/plain": [
       "<Figure size 720x288 with 1 Axes>"
      ]
     },
     "metadata": {
      "needs_background": "light"
     },
     "output_type": "display_data"
    }
   ],
   "source": [
    "metrics = resdf.metric_name.unique()\n",
    "sn.set_color_codes(\"muted\")\n",
    "plt.figure(figsize=(10,4))\n",
    "i = 0\n",
    "tmp = resdf[resdf.metric_name==metrics[i]]\n",
    "plt.title(f\"Results for {metrics[i][:-2]}@{metrics[i][-2:]}\", fontsize=17)\n",
    "clrs = [\"b\" if (x < max(tmp.metric_value)) else \"r\" for x in tmp.metric_value]\n",
    "sn.barplot(y=\"metric_value\", x=\"alpha\", data=tmp, palette=clrs)\n",
    "plt.savefig(plot_savepath+\"CEASE_tuning_alpha.png\")\n",
    "plt.show()"
   ]
  },
  {
   "cell_type": "code",
   "execution_count": 23,
   "id": "c5266039",
   "metadata": {},
   "outputs": [],
   "source": [
    "tmp = resdf[resdf.metric_name==\"NDCG10\"] #HR10\n",
    "best_params = tmp.loc[tmp.metric_value.idxmax()].alpha\n",
    "\n",
    "# save the results\n",
    "with open(\"/home/mmarzec12/models/cease/\"+\"cease_best_params\", \"wb\") as handle:\n",
    "    pickle.dump(best_params, handle, protocol=pickle.HIGHEST_PROTOCOL)"
   ]
  },
  {
   "cell_type": "code",
   "execution_count": 209,
   "id": "bc8c2ee6",
   "metadata": {},
   "outputs": [
    {
     "data": {
      "application/vnd.jupyter.widget-view+json": {
       "model_id": "d9c18c6424954f99adc394380fb09452",
       "version_major": 2,
       "version_minor": 0
      },
      "text/plain": [
       "  0%|          | 0/109084 [00:00<?, ?it/s]"
      ]
     },
     "metadata": {},
     "output_type": "display_data"
    }
   ],
   "source": [
    "k=10\n",
    "reg=1000\n",
    "gram = (train_data.T @ train_data)\n",
    "ease = EASE(regularization=reg)\n",
    "ease.fit(gram)\n",
    "recs = ease.calculate_top_k(train_data, ids_to_gs, ids_to_us, k=k)\n",
    "\n",
    "ev = Evaluator(k=k, true=validation_list, predicted=recs)\n",
    "ev.calculate_metrics()\n",
    "ndcg, err, hr = ev.ndcg, ev.err, ev.hr"
   ]
  },
  {
   "cell_type": "code",
   "execution_count": 210,
   "id": "852621b6",
   "metadata": {},
   "outputs": [
    {
     "data": {
      "text/plain": [
       "(0.2887130122093169, 0.23580008678327405, 0.45949910160976865)"
      ]
     },
     "execution_count": 210,
     "metadata": {},
     "output_type": "execute_result"
    }
   ],
   "source": [
    "ndcg, err, hr"
   ]
  },
  {
   "cell_type": "code",
   "execution_count": null,
   "id": "18cb393f",
   "metadata": {},
   "outputs": [],
   "source": []
  },
  {
   "cell_type": "code",
   "execution_count": 148,
   "id": "75974481",
   "metadata": {},
   "outputs": [],
   "source": [
    "explicit_full = pd.read_csv(mypath+\"explicit_train.csv\")"
   ]
  },
  {
   "cell_type": "code",
   "execution_count": 149,
   "id": "9691e462",
   "metadata": {},
   "outputs": [
    {
     "data": {
      "text/html": [
       "<div>\n",
       "<style scoped>\n",
       "    .dataframe tbody tr th:only-of-type {\n",
       "        vertical-align: middle;\n",
       "    }\n",
       "\n",
       "    .dataframe tbody tr th {\n",
       "        vertical-align: top;\n",
       "    }\n",
       "\n",
       "    .dataframe thead th {\n",
       "        text-align: right;\n",
       "    }\n",
       "</style>\n",
       "<table border=\"1\" class=\"dataframe\">\n",
       "  <thead>\n",
       "    <tr style=\"text-align: right;\">\n",
       "      <th></th>\n",
       "      <th>user_name</th>\n",
       "      <th>game_id</th>\n",
       "      <th>score</th>\n",
       "    </tr>\n",
       "  </thead>\n",
       "  <tbody>\n",
       "    <tr>\n",
       "      <th>4664911</th>\n",
       "      <td>B41939</td>\n",
       "      <td>12333</td>\n",
       "      <td>2.0</td>\n",
       "    </tr>\n",
       "    <tr>\n",
       "      <th>4664912</th>\n",
       "      <td>B41939</td>\n",
       "      <td>242</td>\n",
       "      <td>3.0</td>\n",
       "    </tr>\n",
       "    <tr>\n",
       "      <th>4664913</th>\n",
       "      <td>B41939</td>\n",
       "      <td>17392</td>\n",
       "      <td>6.0</td>\n",
       "    </tr>\n",
       "    <tr>\n",
       "      <th>4664914</th>\n",
       "      <td>B41939</td>\n",
       "      <td>132018</td>\n",
       "      <td>6.0</td>\n",
       "    </tr>\n",
       "    <tr>\n",
       "      <th>4664915</th>\n",
       "      <td>B41939</td>\n",
       "      <td>164949</td>\n",
       "      <td>6.0</td>\n",
       "    </tr>\n",
       "    <tr>\n",
       "      <th>4664916</th>\n",
       "      <td>B41939</td>\n",
       "      <td>165872</td>\n",
       "      <td>3.0</td>\n",
       "    </tr>\n",
       "    <tr>\n",
       "      <th>4664917</th>\n",
       "      <td>B41939</td>\n",
       "      <td>204516</td>\n",
       "      <td>5.0</td>\n",
       "    </tr>\n",
       "    <tr>\n",
       "      <th>4664918</th>\n",
       "      <td>B41939</td>\n",
       "      <td>234</td>\n",
       "      <td>6.0</td>\n",
       "    </tr>\n",
       "    <tr>\n",
       "      <th>4664919</th>\n",
       "      <td>B41939</td>\n",
       "      <td>221</td>\n",
       "      <td>6.0</td>\n",
       "    </tr>\n",
       "    <tr>\n",
       "      <th>4664920</th>\n",
       "      <td>B41939</td>\n",
       "      <td>55829</td>\n",
       "      <td>4.0</td>\n",
       "    </tr>\n",
       "    <tr>\n",
       "      <th>4664921</th>\n",
       "      <td>B41939</td>\n",
       "      <td>61692</td>\n",
       "      <td>4.0</td>\n",
       "    </tr>\n",
       "    <tr>\n",
       "      <th>4664922</th>\n",
       "      <td>B41939</td>\n",
       "      <td>181</td>\n",
       "      <td>7.0</td>\n",
       "    </tr>\n",
       "  </tbody>\n",
       "</table>\n",
       "</div>"
      ],
      "text/plain": [
       "        user_name  game_id  score\n",
       "4664911    B41939    12333    2.0\n",
       "4664912    B41939      242    3.0\n",
       "4664913    B41939    17392    6.0\n",
       "4664914    B41939   132018    6.0\n",
       "4664915    B41939   164949    6.0\n",
       "4664916    B41939   165872    3.0\n",
       "4664917    B41939   204516    5.0\n",
       "4664918    B41939      234    6.0\n",
       "4664919    B41939      221    6.0\n",
       "4664920    B41939    55829    4.0\n",
       "4664921    B41939    61692    4.0\n",
       "4664922    B41939      181    7.0"
      ]
     },
     "execution_count": 149,
     "metadata": {},
     "output_type": "execute_result"
    }
   ],
   "source": [
    "explicit_full[explicit_full.user_name==\"B41939\"]"
   ]
  },
  {
   "cell_type": "code",
   "execution_count": 146,
   "id": "bada86c4",
   "metadata": {},
   "outputs": [
    {
     "data": {
      "text/plain": [
       "user_name\n",
       "B41939             1\n",
       "onedollarbob       1\n",
       "robertino          1\n",
       "tomstart101        1\n",
       "Kafkaish           1\n",
       "Feelalive          1\n",
       "maggico            1\n",
       "suella4ever        1\n",
       "AMI_SOLGER         1\n",
       "Cocco_0716         1\n",
       "bgrtemp95          1\n",
       "knavevagrant       1\n",
       "downodal           1\n",
       "kwojtasz           1\n",
       "commodoreKid       1\n",
       "EdgarJan           1\n",
       "Elmagochile        1\n",
       "rabid_schnauzer    1\n",
       "Avoro38            1\n",
       "macrsson           1\n",
       "Plebian            1\n",
       "fluffystark        1\n",
       "Name: score, dtype: int64"
      ]
     },
     "execution_count": 146,
     "metadata": {},
     "output_type": "execute_result"
    }
   ],
   "source": [
    "tmp = joined.groupby(\"user_name\").count()[\"score\"].sort_values()\n",
    "tmp[tmp<=1]"
   ]
  },
  {
   "cell_type": "code",
   "execution_count": 78,
   "id": "c0150e58",
   "metadata": {},
   "outputs": [
    {
     "data": {
      "application/vnd.jupyter.widget-view+json": {
       "model_id": "71c9100d99f244c2add5cf69566eed4d",
       "version_major": 2,
       "version_minor": 0
      },
      "text/plain": [
       "  0%|          | 0/109084 [00:00<?, ?it/s]"
      ]
     },
     "metadata": {},
     "output_type": "display_data"
    }
   ],
   "source": [
    "ease = EASE(regularization=200)\n",
    "ease.fit(dense_gram)\n",
    "recs = ease.calculate_top_k(train_data, ids_to_gs, ids_to_us, k=10)"
   ]
  },
  {
   "cell_type": "code",
   "execution_count": 80,
   "id": "ab1b9e51",
   "metadata": {},
   "outputs": [],
   "source": [
    "ev = Evaluator(k=10, true=validation_list, predicted=recs)\n",
    "ev.calculate_metrics()\n",
    "ngcg10, err10, hr10 = ev.ndcg, ev.err, ev.hr"
   ]
  },
  {
   "cell_type": "code",
   "execution_count": 81,
   "id": "8fd0f65d",
   "metadata": {},
   "outputs": [
    {
     "name": "stdout",
     "output_type": "stream",
     "text": [
      "0.28026974230430785 0.2277629573947091 0.44992849547137986\n"
     ]
    }
   ],
   "source": [
    "print(ngcg10, err10, hr10)"
   ]
  },
  {
   "cell_type": "code",
   "execution_count": 118,
   "id": "92ee1ed1",
   "metadata": {},
   "outputs": [],
   "source": [
    "tag_joined = scipy.sparse.vstack((train_data, tag_matrix))\n",
    "tag_gram = tag_joined.T @ tag_joined\n",
    "cease = EASE(regularization=100)\n",
    "cease.fit(tag_gram)"
   ]
  },
  {
   "cell_type": "code",
   "execution_count": 121,
   "id": "09386d41",
   "metadata": {},
   "outputs": [
    {
     "data": {
      "text/plain": [
       "array([[ 2153,   597,   630, ...,    16,    70,    18],\n",
       "       [  597,  5075,  1426, ...,    38,   169,    22],\n",
       "       [  630,  1426, 11929, ...,    83,   188,   121],\n",
       "       ...,\n",
       "       [   16,    38,    83, ...,   523,    16,    34],\n",
       "       [   70,   169,   188, ...,    16,  1911,    13],\n",
       "       [   18,    22,   121, ...,    34,    13,   494]])"
      ]
     },
     "execution_count": 121,
     "metadata": {},
     "output_type": "execute_result"
    }
   ],
   "source": [
    "tag_gram.toarray()"
   ]
  },
  {
   "cell_type": "code",
   "execution_count": 108,
   "id": "2bd5c23c",
   "metadata": {},
   "outputs": [
    {
     "data": {
      "application/vnd.jupyter.widget-view+json": {
       "model_id": "1a871d5775c44fa2b913941ad086eba1",
       "version_major": 2,
       "version_minor": 0
      },
      "text/plain": [
       "  0%|          | 0/109084 [00:00<?, ?it/s]"
      ]
     },
     "metadata": {},
     "output_type": "display_data"
    },
    {
     "name": "stdout",
     "output_type": "stream",
     "text": [
      "0.28033384124619326 0.22784067164200825 0.44994682996589785\n"
     ]
    }
   ],
   "source": [
    "recs = cease.calculate_top_k(train_data, ids_to_gs, ids_to_us, k=10)\n",
    "\n",
    "ev = Evaluator(k=10, true=validation_list, predicted=recs)\n",
    "ev.calculate_metrics()\n",
    "ngcg10, err10, hr10 = ev.ndcg, ev.err, ev.hr\n",
    "print(ngcg10, err10, hr10)"
   ]
  },
  {
   "cell_type": "code",
   "execution_count": null,
   "id": "e58efb64",
   "metadata": {},
   "outputs": [],
   "source": []
  },
  {
   "cell_type": "code",
   "execution_count": null,
   "id": "2e4b49fc",
   "metadata": {},
   "outputs": [],
   "source": []
  },
  {
   "cell_type": "code",
   "execution_count": null,
   "id": "8e5ddc2a",
   "metadata": {},
   "outputs": [],
   "source": []
  },
  {
   "cell_type": "code",
   "execution_count": null,
   "id": "7c506daa",
   "metadata": {},
   "outputs": [],
   "source": []
  },
  {
   "cell_type": "code",
   "execution_count": null,
   "id": "cde7bf49",
   "metadata": {},
   "outputs": [],
   "source": []
  }
 ],
 "metadata": {
  "kernelspec": {
   "display_name": "Python 3 (ipykernel)",
   "language": "python",
   "name": "python3"
  },
  "language_info": {
   "codemirror_mode": {
    "name": "ipython",
    "version": 3
   },
   "file_extension": ".py",
   "mimetype": "text/x-python",
   "name": "python",
   "nbconvert_exporter": "python",
   "pygments_lexer": "ipython3",
   "version": "3.8.12"
  }
 },
 "nbformat": 4,
 "nbformat_minor": 5
}
