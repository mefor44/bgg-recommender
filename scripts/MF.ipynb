{
 "cells": [
  {
   "cell_type": "code",
   "execution_count": 1,
   "id": "57ef6bea",
   "metadata": {},
   "outputs": [],
   "source": [
    "import pandas as pd\n",
    "import numpy as np\n",
    "import matplotlib.pyplot as plt\n",
    "import seaborn as sn\n",
    "import scipy.sparse\n",
    "import pickle\n",
    "import glob\n",
    "\n",
    "from surprise import Dataset, Reader, SVD, BaselineOnly, accuracy\n",
    "from surprise.model_selection import GridSearchCV\n",
    "from metrics import Evaluator\n",
    "\n",
    "from time import perf_counter\n",
    "from tqdm.notebook import tqdm"
   ]
  },
  {
   "cell_type": "code",
   "execution_count": 2,
   "id": "3461e1b8",
   "metadata": {},
   "outputs": [],
   "source": [
    "mypath = \"D:/0Studia/Data-Science-PW\\Masters-thesis/data/\"\n",
    "savepath = \"D:/0Studia/Data-Science-PW\\Masters-thesis\\models/mf/model_tuning/\""
   ]
  },
  {
   "cell_type": "code",
   "execution_count": 2,
   "id": "7df20410",
   "metadata": {},
   "outputs": [],
   "source": [
    "explicit = pd.read_csv(mypath+\"explicit_train.csv\")\n",
    "validation = pd.read_csv(mypath+\"leave_one_out_validation.csv\")"
   ]
  },
  {
   "cell_type": "code",
   "execution_count": 3,
   "id": "ae4e1d51",
   "metadata": {},
   "outputs": [],
   "source": [
    "# list with (user,item) tuples from validation set\n",
    "validation_list = [(u,i) for u,i in zip(validation.user_name, validation.game_id)]\n",
    "# dict with user:game key-value pairs from validation set\n",
    "validation_dict = {u:i for u,i in zip(validation.user_name, validation.game_id)}\n",
    "\n",
    "# unique series for users and games\n",
    "users = explicit.user_name.unique()\n",
    "games = explicit.game_id.unique()"
   ]
  },
  {
   "cell_type": "code",
   "execution_count": 4,
   "id": "ac39d00e",
   "metadata": {},
   "outputs": [],
   "source": [
    "# reading data from pandas dataframe\n",
    "reader = Reader(rating_scale=(1,10))\n",
    "data = Dataset.load_from_df(explicit, reader)\n",
    "\n",
    "# using whole df as trainset\n",
    "trainset = data.build_full_trainset()"
   ]
  },
  {
   "cell_type": "code",
   "execution_count": 22,
   "id": "606704f3",
   "metadata": {},
   "outputs": [],
   "source": [
    "# configurins learning options\n",
    "\n",
    "lr_all = 0.05\n",
    "params = {\"lr_all\":0.1, \"n_epochs\":5, \"n_factors\":20, \"reg_all\":0.1}\n",
    "\n",
    "\n",
    "mf = SVD(**params)\n",
    "\n",
    "start = perf_counter()\n",
    "mf.fit(trainset)\n",
    "print(f\"One epoch took {perf_counter() - start} seconds.\")"
   ]
  },
  {
   "cell_type": "code",
   "execution_count": 25,
   "id": "a26833c3",
   "metadata": {},
   "outputs": [
    {
     "name": "stdout",
     "output_type": "stream",
     "text": [
      "Model number 1 is being trained.\n",
      "Computing top-k list for each user...\n"
     ]
    },
    {
     "data": {
      "application/vnd.jupyter.widget-view+json": {
       "model_id": "f053d990745144aca43aea203e92fe7b",
       "version_major": 2,
       "version_minor": 0
      },
      "text/plain": [
       "  0%|          | 0/109084 [00:00<?, ?it/s]"
      ]
     },
     "metadata": {},
     "output_type": "display_data"
    },
    {
     "name": "stdout",
     "output_type": "stream",
     "text": [
      "...evaluation...\n",
      "0.36755158607885685 0.21304835361747831 0.8982119901834755\n",
      "...and end.\n",
      "Model number 2 is being trained.\n",
      "Computing top-k list for each user...\n"
     ]
    },
    {
     "data": {
      "application/vnd.jupyter.widget-view+json": {
       "model_id": "2ef57176149c47fe9b0850450f2d7ef4",
       "version_major": 2,
       "version_minor": 0
      },
      "text/plain": [
       "  0%|          | 0/109084 [00:00<?, ?it/s]"
      ]
     },
     "metadata": {},
     "output_type": "display_data"
    },
    {
     "name": "stdout",
     "output_type": "stream",
     "text": [
      "...evaluation...\n",
      "0.3552492550841837 0.20621137440106693 0.8702179875848131\n",
      "...and end.\n",
      "Model number 3 is being trained.\n",
      "Computing top-k list for each user...\n"
     ]
    },
    {
     "data": {
      "application/vnd.jupyter.widget-view+json": {
       "model_id": "023619e994844d9ab504f10357bf01df",
       "version_major": 2,
       "version_minor": 0
      },
      "text/plain": [
       "  0%|          | 0/109084 [00:00<?, ?it/s]"
      ]
     },
     "metadata": {},
     "output_type": "display_data"
    },
    {
     "name": "stdout",
     "output_type": "stream",
     "text": [
      "...evaluation...\n",
      "0.3758023356443388 0.22622697480818815 0.8856816699282453\n",
      "...and end.\n",
      "Model number 4 is being trained.\n",
      "Computing top-k list for each user...\n"
     ]
    },
    {
     "data": {
      "application/vnd.jupyter.widget-view+json": {
       "model_id": "e65eb1fee6e244e29d82b18c1a8c94b6",
       "version_major": 2,
       "version_minor": 0
      },
      "text/plain": [
       "  0%|          | 0/109084 [00:00<?, ?it/s]"
      ]
     },
     "metadata": {},
     "output_type": "display_data"
    },
    {
     "name": "stdout",
     "output_type": "stream",
     "text": [
      "...evaluation...\n",
      "0.4140499564352735 0.26770627392614643 0.908723371170891\n",
      "...and end.\n"
     ]
    }
   ],
   "source": [
    "# investingating how long model should be trained\n",
    "# (optimizing number of epochs and learning rate)\n",
    "\n",
    "# number of factors\n",
    "n_factors = [100]\n",
    "# neighborhood size\n",
    "#regs = [0.01, 0.02, 0.05]\n",
    "lr_alls = [0.001, 0.007, 0.02, 0.05]\n",
    "# top-10 recommendation list\n",
    "k = 10 \n",
    "# sample size \n",
    "sample_size = 200\n",
    "\n",
    "params = {\"lr_all\":0.007, \"n_epochs\":5, \"n_factors\":20, \"reg_all\":0.02}\n",
    "\n",
    "counter = 1\n",
    "for n_fac in n_factors:\n",
    "    for lr in lr_alls:\n",
    "        print(f\"Model number {counter} is being trained.\")\n",
    "        # set the parameters\n",
    "        params[\"lr_all\"] = lr\n",
    "        params[\"n_factors\"] = n_fac\n",
    "        \n",
    "        # train the model\n",
    "        mf = SVD(**params)\n",
    "        \n",
    "        mf.fit(trainset)\n",
    "        \n",
    "        print(\"Computing top-k list for each user...\")\n",
    "        # produce top k list for all users\n",
    "        top_k_list = produce_top_k(model=mf, users=users, games=games,\n",
    "                                   validation_dict=validation_dict,\n",
    "                                   k=k, sample_size=sample_size)\n",
    "        \n",
    "        \n",
    "        print(\"...evaluation...\")\n",
    "        ev = Evaluator(k=k, true=validation_list, predicted=top_k_list)\n",
    "        ev.calculate_metrics()\n",
    "        ngcg10, err10, hr10 = ev.ndcg, ev.err, ev.hr\n",
    "        \n",
    "        # save the obtained results\n",
    "        \"\"\"\n",
    "        res = {}\n",
    "        res[\"n_factors\"] = lambda_\n",
    "        res[\"lr\"] = neigh_size\n",
    "        res[\"k\"] = k\n",
    "        res[\"ndcg10\"] = ngcg10\n",
    "        res[\"err10\"] = err10\n",
    "        res[\"hr10\"] = hr10\n",
    "        res[\"reg\"] = reg\n",
    "        res[\"all_params\"] = sim_options\n",
    "        res[\"bsl_options\"] = bsl_options\n",
    "        res[\"min_k_knn\"] = min_k_knn\n",
    "        \"\"\"\n",
    "        print(ngcg10, err10, hr10)\n",
    "        # save the obtained results\n",
    "        #with open(savepath+f\"knn_{counter}\", \"wb\") as handle:\n",
    "        #    pickle.dump(res, handle, protocol=pickle.HIGHEST_PROTOCOL)\n",
    "            \n",
    "        counter += 1\n",
    "        print(\"...and end.\")"
   ]
  },
  {
   "cell_type": "code",
   "execution_count": 26,
   "id": "eec45ad1",
   "metadata": {},
   "outputs": [
    {
     "name": "stdout",
     "output_type": "stream",
     "text": [
      "Model number 1 is being trained.\n",
      "Computing top-k list for each user...\n"
     ]
    },
    {
     "data": {
      "application/vnd.jupyter.widget-view+json": {
       "model_id": "06f1ad8c8ae3473fa8f7bdb8843d84dc",
       "version_major": 2,
       "version_minor": 0
      },
      "text/plain": [
       "  0%|          | 0/109084 [00:00<?, ?it/s]"
      ]
     },
     "metadata": {},
     "output_type": "display_data"
    },
    {
     "name": "stdout",
     "output_type": "stream",
     "text": [
      "...evaluation...\n",
      "0.3717751866055743 0.21748690082023417 0.9013629013629013\n",
      "...and end.\n",
      "Model number 2 is being trained.\n",
      "Computing top-k list for each user...\n"
     ]
    },
    {
     "data": {
      "application/vnd.jupyter.widget-view+json": {
       "model_id": "6fbe56e291bf46b9b2abf1ecf8ace07f",
       "version_major": 2,
       "version_minor": 0
      },
      "text/plain": [
       "  0%|          | 0/109084 [00:00<?, ?it/s]"
      ]
     },
     "metadata": {},
     "output_type": "display_data"
    },
    {
     "name": "stdout",
     "output_type": "stream",
     "text": [
      "...evaluation...\n",
      "0.38108713934247235 0.2302999459453243 0.8957664838008488\n",
      "...and end.\n",
      "Model number 3 is being trained.\n",
      "Computing top-k list for each user...\n"
     ]
    },
    {
     "data": {
      "application/vnd.jupyter.widget-view+json": {
       "model_id": "e18a836d300d4c3cb5210c2ed9ef3ceb",
       "version_major": 2,
       "version_minor": 0
      },
      "text/plain": [
       "  0%|          | 0/109084 [00:00<?, ?it/s]"
      ]
     },
     "metadata": {},
     "output_type": "display_data"
    },
    {
     "name": "stdout",
     "output_type": "stream",
     "text": [
      "...evaluation...\n",
      "0.4057613472760704 0.2602138279682809 0.8994062765055132\n",
      "...and end.\n",
      "Model number 4 is being trained.\n",
      "Computing top-k list for each user...\n"
     ]
    },
    {
     "data": {
      "application/vnd.jupyter.widget-view+json": {
       "model_id": "e1844a18a3d84e0fb51873cf348e8215",
       "version_major": 2,
       "version_minor": 0
      },
      "text/plain": [
       "  0%|          | 0/109084 [00:00<?, ?it/s]"
      ]
     },
     "metadata": {},
     "output_type": "display_data"
    },
    {
     "name": "stdout",
     "output_type": "stream",
     "text": [
      "...evaluation...\n",
      "0.4116252256800242 0.2657181480257999 0.9052974563800714\n",
      "...and end.\n"
     ]
    }
   ],
   "source": [
    "# number of factors\n",
    "n_factors = [100]\n",
    "# neighborhood size\n",
    "#regs = [0.01, 0.02, 0.05]\n",
    "lr_alls = [0.001, 0.007, 0.02, 0.05]\n",
    "# top-10 recommendation list\n",
    "k = 10 \n",
    "# sample size \n",
    "sample_size = 200\n",
    "\n",
    "params = {\"lr_all\":0.007, \"n_epochs\":20, \"n_factors\":20, \"reg_all\":0.02}\n",
    "\n",
    "counter = 1\n",
    "for n_fac in n_factors:\n",
    "    for lr in lr_alls:\n",
    "        print(f\"Model number {counter} is being trained.\")\n",
    "        # set the parameters\n",
    "        params[\"lr_all\"] = lr\n",
    "        params[\"n_factors\"] = n_fac\n",
    "        \n",
    "        # train the model\n",
    "        mf = SVD(**params)\n",
    "        \n",
    "        mf.fit(trainset)\n",
    "        \n",
    "        print(\"Computing top-k list for each user...\")\n",
    "        # produce top k list for all users\n",
    "        top_k_list = produce_top_k(model=mf, users=users, games=games,\n",
    "                                   validation_dict=validation_dict,\n",
    "                                   k=k, sample_size=sample_size)\n",
    "        \n",
    "        \n",
    "        print(\"...evaluation...\")\n",
    "        ev = Evaluator(k=k, true=validation_list, predicted=top_k_list)\n",
    "        ev.calculate_metrics()\n",
    "        ngcg10, err10, hr10 = ev.ndcg, ev.err, ev.hr\n",
    "        \n",
    "        # save the obtained results\n",
    "        \"\"\"\n",
    "        res = {}\n",
    "        res[\"n_factors\"] = lambda_\n",
    "        res[\"lr\"] = neigh_size\n",
    "        res[\"k\"] = k\n",
    "        res[\"ndcg10\"] = ngcg10\n",
    "        res[\"err10\"] = err10\n",
    "        res[\"hr10\"] = hr10\n",
    "        res[\"reg\"] = reg\n",
    "        res[\"all_params\"] = sim_options\n",
    "        res[\"bsl_options\"] = bsl_options\n",
    "        res[\"min_k_knn\"] = min_k_knn\n",
    "        \"\"\"\n",
    "        print(ngcg10, err10, hr10)\n",
    "        # save the obtained results\n",
    "        #with open(savepath+f\"knn_{counter}\", \"wb\") as handle:\n",
    "        #    pickle.dump(res, handle, protocol=pickle.HIGHEST_PROTOCOL)\n",
    "            \n",
    "        counter += 1\n",
    "        print(\"...and end.\")"
   ]
  },
  {
   "cell_type": "markdown",
   "id": "e3fc260f",
   "metadata": {},
   "source": [
    "## Results"
   ]
  },
  {
   "cell_type": "code",
   "execution_count": 3,
   "id": "83a3b6d2",
   "metadata": {},
   "outputs": [],
   "source": [
    "n_files = len(glob.glob(savepath+\"/*\"))\n",
    "res = []\n",
    "for i in range(1,n_files+1):\n",
    "    res.append(pd.read_pickle(savepath+f\"/mf_{i}\"))"
   ]
  },
  {
   "cell_type": "code",
   "execution_count": 4,
   "id": "2ad75296",
   "metadata": {},
   "outputs": [
    {
     "data": {
      "text/plain": [
       "{'n_factors': 10,\n",
       " 'reg': 0.005,\n",
       " 'k': 10,\n",
       " 'ndcg10': 0.07836267904411408,\n",
       " 'err10': 0.05489397132717876,\n",
       " 'hr10': 0.15667742290345055,\n",
       " 'sample_size': 200,\n",
       " 'all_params': {'lr_all': 0.05,\n",
       "  'n_epochs': 20,\n",
       "  'n_factors': 10,\n",
       "  'reg_all': 0.005}}"
      ]
     },
     "execution_count": 4,
     "metadata": {},
     "output_type": "execute_result"
    }
   ],
   "source": [
    "res[0]"
   ]
  },
  {
   "cell_type": "code",
   "execution_count": 5,
   "id": "b770ac76",
   "metadata": {},
   "outputs": [],
   "source": [
    "resdf = pd.DataFrame(columns=[\"n_factors\", \"regularization\", \"metric_name\", \"metric_value\"])\n",
    "rows_list = []\n",
    "for r in res:\n",
    "    d1 = {}\n",
    "    d1[\"n_factors\"] = r[\"n_factors\"]\n",
    "    d1[\"regularization\"] = r[\"reg\"]\n",
    "    d1[\"metric_name\"] = \"NDCG10\"\n",
    "    d1[\"metric_value\"] = r[\"ndcg10\"]\n",
    "    rows_list.append(d1)\n",
    "    \n",
    "    d2 = {}\n",
    "    d2[\"n_factors\"] = r[\"n_factors\"]\n",
    "    d2[\"regularization\"] = r[\"reg\"]\n",
    "    d2[\"metric_name\"] = \"ERR10\"\n",
    "    d2[\"metric_value\"] = r[\"err10\"]\n",
    "    rows_list.append(d2)\n",
    "    \n",
    "    d3 = {}\n",
    "    d3[\"n_factors\"] = r[\"n_factors\"]\n",
    "    d3[\"regularization\"] = r[\"reg\"]\n",
    "    d3[\"metric_name\"] = \"HR10\"\n",
    "    d3[\"metric_value\"] = r[\"hr10\"]\n",
    "    rows_list.append(d3)\n",
    "\n",
    "    \n",
    "resdf = pd.DataFrame(rows_list)"
   ]
  },
  {
   "cell_type": "code",
   "execution_count": 35,
   "id": "2c8edeb8",
   "metadata": {},
   "outputs": [
    {
     "data": {
      "image/png": "[encoded data removed]",
      "text/plain": [
       "<Figure size 1008x1296 with 3 Axes>"
      ]
     },
     "metadata": {
      "needs_background": "light"
     },
     "output_type": "display_data"
    }
   ],
   "source": [
    "metrics = resdf.metric_name.unique()\n",
    "fig, axes = plt.subplots(len(metrics), 1, figsize=(14,18))\n",
    "# axes = axes.ravel()\n",
    "for i in range(len(metrics)):\n",
    "    tmp = resdf[resdf.metric_name==metrics[i]]\n",
    "    #axes[i].set_title(f\"Results for {metrics[i][:-2]}@{metrics[i][-2:]}\", fontsize=17)\n",
    "    sn.barplot(y=\"metric_value\", x=\"regularization\", hue=\"n_factors\", data=tmp, ax=axes[i])\n",
    "    axes[i].tick_params(axis=\"y\", labelsize=14)\n",
    "    axes[i].set_ylabel(f\"{metrics[i][:-2]}@{metrics[i][-2:]}\", fontsize=15)\n",
    "    axes[i].tick_params(axis=\"x\", labelsize=14)\n",
    "    axes[i].set_xlabel(\"regularization\", fontsize=15)\n",
    "    axes[i].legend(title=\"n_factors\", title_fontsize=13, fontsize=13, frameon=1, loc=\"upper right\")\n",
    "    \n",
    "    \n",
    "fig.tight_layout()\n",
    "#fig.delaxes(axes[-1])"
   ]
  },
  {
   "cell_type": "code",
   "execution_count": 6,
   "id": "24350e3e",
   "metadata": {},
   "outputs": [
    {
     "data": {
      "text/html": [
       "<div>\n",
       "<style scoped>\n",
       "    .dataframe tbody tr th:only-of-type {\n",
       "        vertical-align: middle;\n",
       "    }\n",
       "\n",
       "    .dataframe tbody tr th {\n",
       "        vertical-align: top;\n",
       "    }\n",
       "\n",
       "    .dataframe thead th {\n",
       "        text-align: right;\n",
       "    }\n",
       "</style>\n",
       "<table border=\"1\" class=\"dataframe\">\n",
       "  <thead>\n",
       "    <tr style=\"text-align: right;\">\n",
       "      <th></th>\n",
       "      <th>n_factors</th>\n",
       "      <th>regularization</th>\n",
       "      <th>metric_name</th>\n",
       "      <th>metric_value</th>\n",
       "    </tr>\n",
       "  </thead>\n",
       "  <tbody>\n",
       "    <tr>\n",
       "      <th>0</th>\n",
       "      <td>10</td>\n",
       "      <td>0.01</td>\n",
       "      <td>NDCG10</td>\n",
       "      <td>0.068323</td>\n",
       "    </tr>\n",
       "    <tr>\n",
       "      <th>3</th>\n",
       "      <td>10</td>\n",
       "      <td>0.02</td>\n",
       "      <td>NDCG10</td>\n",
       "      <td>0.070132</td>\n",
       "    </tr>\n",
       "    <tr>\n",
       "      <th>6</th>\n",
       "      <td>10</td>\n",
       "      <td>0.05</td>\n",
       "      <td>NDCG10</td>\n",
       "      <td>0.059377</td>\n",
       "    </tr>\n",
       "    <tr>\n",
       "      <th>9</th>\n",
       "      <td>10</td>\n",
       "      <td>0.10</td>\n",
       "      <td>NDCG10</td>\n",
       "      <td>0.043114</td>\n",
       "    </tr>\n",
       "  </tbody>\n",
       "</table>\n",
       "</div>"
      ],
      "text/plain": [
       "   n_factors  regularization metric_name  metric_value\n",
       "0         10            0.01      NDCG10      0.068323\n",
       "3         10            0.02      NDCG10      0.070132\n",
       "6         10            0.05      NDCG10      0.059377\n",
       "9         10            0.10      NDCG10      0.043114"
      ]
     },
     "execution_count": 6,
     "metadata": {},
     "output_type": "execute_result"
    }
   ],
   "source": [
    "resdf[(resdf.n_factors==10) & (resdf.metric_name==\"NDCG10\")]"
   ]
  }
 ],
 "metadata": {
  "kernelspec": {
   "display_name": "Python 3 (ipykernel)",
   "language": "python",
   "name": "python3"
  },
  "language_info": {
   "codemirror_mode": {
    "name": "ipython",
    "version": 3
   },
   "file_extension": ".py",
   "mimetype": "text/x-python",
   "name": "python",
   "nbconvert_exporter": "python",
   "pygments_lexer": "ipython3",
   "version": "3.8.12"
  }
 },
 "nbformat": 4,
 "nbformat_minor": 5
}
