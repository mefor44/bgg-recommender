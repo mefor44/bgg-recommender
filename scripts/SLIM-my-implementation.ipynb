{
 "cells": [
  {
   "cell_type": "code",
   "execution_count": 1,
   "metadata": {},
   "outputs": [],
   "source": [
    "import pandas as pd\n",
    "import numpy as np\n",
    "import multiprocessing as mp\n",
    "import matplotlib.pyplot as plt\n",
    "import seaborn as sn\n",
    "\n",
    "import scipy.sparse\n",
    "import itertools\n",
    "import pickle\n",
    "import warnings\n",
    "\n",
    "from sklearn.linear_model import SGDRegressor, ElasticNet\n",
    "from sklearn.preprocessing import binarize\n",
    "from scipy.sparse import SparseEfficiencyWarning\n",
    "from time import perf_counter\n",
    "from tqdm.notebook import tqdm\n",
    "from glob import glob"
   ]
  },
  {
   "cell_type": "code",
   "execution_count": 2,
   "metadata": {},
   "outputs": [],
   "source": [
    "warnings.simplefilter('ignore',SparseEfficiencyWarning)\n",
    "\n",
    "mypath = \"/home/mmarzec12/data/\"\n",
    "savepath = \"D:/0Studia/Data-Science-PW\\Masters-thesis\\models/slim/model_tuning/\""
   ]
  },
  {
   "cell_type": "code",
   "execution_count": 3,
   "metadata": {},
   "outputs": [
    {
     "name": "stdout",
     "output_type": "stream",
     "text": [
      "There is 1362961 rows with score < 6.\n"
     ]
    }
   ],
   "source": [
    "explicit = pd.read_csv(mypath+\"explicit_train.csv\")\n",
    "validation = pd.read_csv(mypath+\"leave_one_out_validation.csv\")\n",
    "\n",
    "\n",
    "# list with (user,item) tuples from validation set\n",
    "validation_list = [(u,i) for u,i in zip(validation.user_name, validation.game_id)]\n",
    "# dict with user:game key-value pairs from validation set\n",
    "validation_dict = {u:i for u,i in zip(validation.user_name, validation.game_id)}\n",
    "\n",
    "# unique games and users\n",
    "unique_users = explicit.user_name.unique()\n",
    "unique_games = explicit.game_id.unique()\n",
    "\n",
    "# dictonaries to map users to unique ids and vice vers\n",
    "us_to_ids = {u:i for i,u in enumerate(unique_users)}\n",
    "ids_to_us = {i:u for i,u in enumerate(unique_users)}\n",
    "\n",
    "# dictonaries to map games to unique ids and vice vers\n",
    "gs_to_ids = {g:i for i,g in enumerate(unique_games)}\n",
    "ids_to_gs = {i:g for i,g in enumerate(unique_games)}\n",
    "\n",
    "\n",
    "implicit = pd.read_csv(mypath+\"implicit_train.csv\")\n",
    "\n",
    "# filtering explicit ratings: filter ratings <6 and >=1\n",
    "print(f\"There is {np.sum(explicit.score <= 6)} rows with score < 6.\")\n",
    "explicit = explicit[explicit.score > 6]\n",
    "\n",
    "# we join implictit and explicit rating data\n",
    "joined = pd.concat([explicit, implicit])\n",
    "joined = joined[[\"user_name\", \"game_id\", \"score\"]]\n",
    "# converting all interaction data to \"1\" \n",
    "joined = explicit\n",
    "joined[\"score\"] = 1\n",
    "\n",
    "\n",
    "# creating sparse matrix with data\n",
    "row = [us_to_ids[us] for us in joined.user_name]\n",
    "col = [gs_to_ids[g] for g in joined.game_id]\n",
    "data = joined.score\n",
    "\n",
    "A = scipy.sparse.coo_matrix((data, (row, col)), shape=(len(unique_users), len(unique_games)))\n",
    "A = A.tocsr()"
   ]
  },
  {
   "cell_type": "code",
   "execution_count": 6,
   "metadata": {},
   "outputs": [],
   "source": [
    "from sklearn.linear_model import SGDRegressor\n",
    "from tqdm.notebook import tqdm\n",
    "from time import perf_counter\n",
    "import numpy as np\n",
    "import scipy.sparse\n",
    "import itertools\n",
    "\n",
    "\n",
    "class ParallSynSLIM():\n",
    "    \n",
    "    def __init__(self, l1_reg=0.001, l2_reg=0.0001):\n",
    "        self.l1_reg = l1_reg\n",
    "        self.l2_reg = l2_reg\n",
    "        \n",
    "        \n",
    "    def fit_one(self, A, idx_start, idx_end, alpha, l1_ratio):\n",
    "        \n",
    "        model = SGDRegressor(penalty='elasticnet',\n",
    "                     fit_intercept=False,\n",
    "                     alpha=alpha,\n",
    "                     l1_ratio=l1_ratio\n",
    "                     ) \n",
    "        res = []\n",
    "        \n",
    "        for idx in range(idx_start, idx_end):\n",
    "            aj = A[:,idx].copy()\n",
    "            A[:,idx] = 0\n",
    "        \n",
    "            model.fit(A, aj.toarray().ravel())\n",
    "        \n",
    "            # refill the values in data matrix\n",
    "            A[:, idx] = aj\n",
    "            \n",
    "            # forcing non-negativity\n",
    "            ws = model.coef_\n",
    "            ws[ws<0] = 0\n",
    "            \n",
    "            # return nonzero coeffs\n",
    "            for row in ws.nonzero()[0]:\n",
    "                res.append((row, idx, ws[row]))\n",
    "        \n",
    "        return res\n",
    "        \n",
    "    def fit(self, A):\n",
    "        \n",
    "        # for sklearn function\n",
    "        alpha = self.l1_reg + self.l2_reg\n",
    "        l1_ratio = self.l1_reg / alpha\n",
    "        \n",
    "        # preparing for multiprocessing\n",
    "        cpu_num = mp.cpu_count()\n",
    "        n_games = A.shape[1]//10\n",
    "        step = n_games / cpu_num\n",
    "        idx1 = [int(i*step) for i in range(cpu_num)]\n",
    "        idx2 = [int(i*step) for i in range(1, cpu_num+1)]\n",
    "        if idx2[-1] != n_games:\n",
    "            idx2[-1] = n_games\n",
    "        \n",
    "        # setting pools\n",
    "        pool = mp.Pool(mp.cpu_count())\n",
    "        global_start = perf_counter()\n",
    "        \n",
    "        result = pool.starmap(self.fit_one, \n",
    "                              [(A, idx_start, idx_end, alpha, l1_ratio) for idx_start,idx_end in zip(idx1, idx2)])\n",
    "        # changing the format of the outpput to build sparse coefficient matrix\n",
    "        result = list(itertools.chain(*result)) \n",
    "        row, col, data = [], [], []\n",
    "        for r,c,d in result:\n",
    "            row.append(r)\n",
    "            col.append(c)\n",
    "            data.append(d)\n",
    "            \n",
    "        \n",
    "        self.W = scipy.sparse.coo_matrix((data, (row,col)), shape=(A.shape[1], A.shape[1]))\n",
    "        \n",
    "        pool.close()\n",
    "        pool.join()\n",
    "        \n",
    "        print(f\"Learning all {self.W.shape[0]} vectors took {round((perf_counter() - global_start)/60, 2)} minutes.\")\n",
    "        proc = 100*self.W.nnz/self.W.shape[0]**2\n",
    "        print(f\"In W matrix we have {self.W.nnz} nonzero elements ({round(proc,2)}%).\")\n",
    "        \n",
    "        \n",
    "    def calculate_top_k(self, A, ids_to_gs, ids_to_us, k=10):\n",
    "        \"\"\"\n",
    "        Description:\n",
    "        -----------\n",
    "        Funtion for calculating list of top-k recommendations for\n",
    "        all the users.\n",
    "        \n",
    "        \n",
    "        Params:\n",
    "        -----------\n",
    "        A - sparse csr user-item interaction matrix\n",
    "        \n",
    "        ids_to_gs - dict mapping rows of matrix A\n",
    "        to the game_ids (row_id:game_id)\n",
    "        \n",
    "        ids_to_us - dict mapping rows of matrix A\n",
    "        to the user_ids (row_id:user_id)\n",
    "        \n",
    "        k - the length of  recommendation list\n",
    "        \n",
    "        \n",
    "        Returns:\n",
    "        ----------\n",
    "        A dictionary with original user_ids as keys\n",
    "        and list of item_ids as values. \n",
    "        \"\"\"\n",
    "        \n",
    "        topk = {}\n",
    "        scores = A @ self.W.tocsr()\n",
    "        \n",
    "        \n",
    "        for uid in tqdm(range(A.shape[0])):\n",
    "            r = scores[uid].toarray().flatten()\n",
    "            recs = []\n",
    "            known_items = set(A[uid].indices)\n",
    "    \n",
    "            for gid in r.argsort()[::-1]:\n",
    "                if gid not in known_items:\n",
    "                    recs.append(ids_to_gs[gid])\n",
    "                if len(recs) >= k:\n",
    "                    break\n",
    "    \n",
    "            topk[ids_to_us[uid]] = recs\n",
    "        \n",
    "        return topk"
   ]
  },
  {
   "cell_type": "code",
   "execution_count": 10,
   "metadata": {},
   "outputs": [
    {
     "name": "stderr",
     "output_type": "stream",
     "text": [
      "/home/mmarzec12/anaconda3/lib/python3.9/site-packages/scipy/sparse/_index.py:125: SparseEfficiencyWarning: Changing the sparsity structure of a csr_matrix is expensive. lil_matrix is more efficient.\n",
      "  self._set_arrayXarray(i, j, x)\n",
      "/home/mmarzec12/anaconda3/lib/python3.9/site-packages/scipy/sparse/_index.py:125: SparseEfficiencyWarning: Changing the sparsity structure of a csr_matrix is expensive. lil_matrix is more efficient.\n",
      "  self._set_arrayXarray(i, j, x)\n",
      "/home/mmarzec12/anaconda3/lib/python3.9/site-packages/scipy/sparse/_index.py:125: SparseEfficiencyWarning: Changing the sparsity structure of a csr_matrix is expensive. lil_matrix is more efficient.\n",
      "  self._set_arrayXarray(i, j, x)\n",
      "/home/mmarzec12/anaconda3/lib/python3.9/site-packages/scipy/sparse/_index.py:125: SparseEfficiencyWarning: Changing the sparsity structure of a csr_matrix is expensive. lil_matrix is more efficient.\n",
      "  self._set_arrayXarray(i, j, x)\n",
      "/home/mmarzec12/anaconda3/lib/python3.9/site-packages/scipy/sparse/_index.py:125: SparseEfficiencyWarning: Changing the sparsity structure of a csr_matrix is expensive. lil_matrix is more efficient.\n",
      "  self._set_arrayXarray(i, j, x)\n",
      "/home/mmarzec12/anaconda3/lib/python3.9/site-packages/scipy/sparse/_index.py:125: SparseEfficiencyWarning: Changing the sparsity structure of a csr_matrix is expensive. lil_matrix is more efficient.\n",
      "  self._set_arrayXarray(i, j, x)\n",
      "/home/mmarzec12/anaconda3/lib/python3.9/site-packages/scipy/sparse/_index.py:125: SparseEfficiencyWarning: Changing the sparsity structure of a csr_matrix is expensive. lil_matrix is more efficient.\n",
      "  self._set_arrayXarray(i, j, x)\n",
      "/home/mmarzec12/anaconda3/lib/python3.9/site-packages/scipy/sparse/_index.py:125: SparseEfficiencyWarning: Changing the sparsity structure of a csr_matrix is expensive. lil_matrix is more efficient.\n",
      "  self._set_arrayXarray(i, j, x)\n"
     ]
    },
    {
     "name": "stdout",
     "output_type": "stream",
     "text": [
      "Learning all 2265 vectors took 1.34 minutes.\n",
      "In W matrix we have 53432 nonzero elements (1.04%).\n"
     ]
    }
   ],
   "source": [
    "parall_slim = ParallSynSLIM(l1_reg=0.0001, l2_reg=0.00001)\n",
    "parall_slim.fit(A)"
   ]
  },
  {
   "cell_type": "code",
   "execution_count": 11,
   "metadata": {},
   "outputs": [
    {
     "data": {
      "application/vnd.jupyter.widget-view+json": {
       "model_id": "18a5836503264144b17e013c70053a08",
       "version_major": 2,
       "version_minor": 0
      },
      "text/plain": [
       "  0%|          | 0/109084 [00:00<?, ?it/s]"
      ]
     },
     "metadata": {},
     "output_type": "display_data"
    },
    {
     "data": {
      "text/plain": [
       "(0.18626474568423187, 0.15181216834209024, 0.2984122327747424)"
      ]
     },
     "execution_count": 11,
     "metadata": {},
     "output_type": "execute_result"
    }
   ],
   "source": [
    "k=10\n",
    "top10 = parall_slim.calculate_top_k(A, ids_to_gs, ids_to_us, k=10)\n",
    "\n",
    "from metrics import Evaluator\n",
    "\n",
    "ev = Evaluator(k=k, true=validation_list, predicted=top10)\n",
    "ev.calculate_metrics()\n",
    "ngcg10, err10, hr10 = ev.ndcg, ev.err, ev.hr\n",
    "ngcg10, err10, hr10"
   ]
  },
  {
   "cell_type": "markdown",
   "metadata": {},
   "source": [
    "## Results"
   ]
  },
  {
   "cell_type": "code",
   "execution_count": 3,
   "metadata": {},
   "outputs": [],
   "source": [
    "n_files = len(glob(savepath+\"/*\"))\n",
    "res = []\n",
    "for i in range(1,n_files+1):\n",
    "    res.append(pd.read_pickle(savepath+f\"/slim_{i}\"))"
   ]
  },
  {
   "cell_type": "code",
   "execution_count": 4,
   "metadata": {},
   "outputs": [
    {
     "data": {
      "text/plain": [
       "{'l1_reg': 1e-05,\n",
       " 'l2_reg': 1e-05,\n",
       " 'k': 10,\n",
       " 'ndcg10': 0.2427573024348302,\n",
       " 'err10': 0.20648184404853578,\n",
       " 'hr10': 0.35918191485460743,\n",
       " 'W_zeros_percentage': 4.077345535527194,\n",
       " 'prediction_calc_time_seconds': 21.72697992203757}"
      ]
     },
     "execution_count": 4,
     "metadata": {},
     "output_type": "execute_result"
    }
   ],
   "source": [
    "res[0]"
   ]
  },
  {
   "cell_type": "code",
   "execution_count": 5,
   "metadata": {},
   "outputs": [],
   "source": [
    "resdf = pd.DataFrame(columns=[\"l1_reg\", \"l2_reg\", \"metric_name\", \"metric_value\"])\n",
    "rows_list = []\n",
    "for r in res:\n",
    "    d1 = {}\n",
    "    d1[\"l1_reg\"] = r[\"l1_reg\"]\n",
    "    d1[\"l2_reg\"] = r[\"l2_reg\"]\n",
    "    d1[\"metric_name\"] = \"NDCG10\"\n",
    "    d1[\"metric_value\"] = r[\"ndcg10\"]\n",
    "    d1[\"percent_nonzero\"] = r[\"W_zeros_percentage\"]\n",
    "    d1[\"pred_time\"] = r[\"prediction_calc_time_seconds\"]\n",
    "    rows_list.append(d1)\n",
    "    \n",
    "    d2 = {}\n",
    "    d2[\"l1_reg\"] = r[\"l1_reg\"]\n",
    "    d2[\"l2_reg\"] = r[\"l2_reg\"]\n",
    "    d2[\"metric_name\"] = \"ERR10\"\n",
    "    d2[\"metric_value\"] = r[\"err10\"]\n",
    "    d2[\"percent_nonzero\"] = r[\"W_zeros_percentage\"]\n",
    "    d2[\"pred_time\"] = r[\"prediction_calc_time_seconds\"]\n",
    "    rows_list.append(d2)\n",
    "    \n",
    "    d3 = {}\n",
    "    d3[\"l1_reg\"] = r[\"l1_reg\"]\n",
    "    d3[\"l2_reg\"] = r[\"l2_reg\"]\n",
    "    d3[\"metric_name\"] = \"HR10\"\n",
    "    d3[\"metric_value\"] = r[\"hr10\"]\n",
    "    d3[\"percent_nonzero\"] = r[\"W_zeros_percentage\"]\n",
    "    d3[\"pred_time\"] = r[\"prediction_calc_time_seconds\"]\n",
    "    rows_list.append(d3)\n",
    "\n",
    "    \n",
    "resdf = pd.DataFrame(rows_list)"
   ]
  },
  {
   "cell_type": "code",
   "execution_count": 6,
   "metadata": {
    "scrolled": true
   },
   "outputs": [
    {
     "data": {
      "image/png": "[encoded data removed]",
      "text/plain": [
       "<Figure size 1008x720 with 2 Axes>"
      ]
     },
     "metadata": {
      "needs_background": "light"
     },
     "output_type": "display_data"
    }
   ],
   "source": [
    "metrics = resdf.metric_name.unique()\n",
    "fig, axes = plt.subplots(2, 1, figsize=(14,10))\n",
    "axes = axes.ravel()\n",
    "for i in range(len(metrics)-2):\n",
    "    tmp = resdf[resdf.metric_name==metrics[i]]\n",
    "    axes[i].set_title(f\"Results for {metrics[i]}\", fontsize=17)\n",
    "    sn.barplot(y=\"metric_value\", x=\"l2_reg\", hue=\"l1_reg\", data=tmp, ax=axes[i])\n",
    "    \n",
    "fig.tight_layout()\n",
    "# fig.delaxes(axes[-1])"
   ]
  },
  {
   "cell_type": "code",
   "execution_count": 7,
   "metadata": {},
   "outputs": [
    {
     "data": {
      "text/plain": [
       "l1_reg                0.0001\n",
       "l2_reg               0.00001\n",
       "metric_name           NDCG10\n",
       "metric_value         0.24418\n",
       "percent_nonzero      1.72355\n",
       "pred_time          21.260351\n",
       "Name: 12, dtype: object"
      ]
     },
     "execution_count": 7,
     "metadata": {},
     "output_type": "execute_result"
    }
   ],
   "source": [
    "best_idx = resdf[(resdf.metric_name==\"NDCG10\")].metric_value.idxmax()\n",
    "best_params = resdf.iloc[best_idx,:]\n",
    "best_params"
   ]
  },
  {
   "cell_type": "code",
   "execution_count": 11,
   "metadata": {},
   "outputs": [],
   "source": [
    "# save the results\n",
    "with open(\"/home/mmarzec12/models/slim/\"+\"slim_best_params\", \"wb\") as handle:\n",
    "    pickle.dump(best_params, handle, protocol=pickle.HIGHEST_PROTOCOL)"
   ]
  },
  {
   "cell_type": "code",
   "execution_count": null,
   "metadata": {},
   "outputs": [],
   "source": []
  },
  {
   "cell_type": "code",
   "execution_count": null,
   "metadata": {},
   "outputs": [],
   "source": []
  },
  {
   "cell_type": "code",
   "execution_count": null,
   "metadata": {},
   "outputs": [],
   "source": []
  },
  {
   "cell_type": "code",
   "execution_count": 22,
   "metadata": {},
   "outputs": [],
   "source": [
    "from sklearn.linear_model import SGDRegressor\n",
    "\n",
    "class NormalSLIM():\n",
    "    \n",
    "    def __init__(self, l1_reg=0.001, l2_reg=0.0001):\n",
    "        self.l1_reg = l1_reg\n",
    "        self.l2_reg = l2_reg\n",
    "        \n",
    "        \n",
    "    def fit(self, A):\n",
    "        self.n, self.m = A.shape\n",
    "        self.W = np.zeros((A.shape[1],A.shape[1]))\n",
    "        \n",
    "        # for sklearn function\n",
    "        alpha = self.l1_reg + self.l2_reg\n",
    "        l1_ratio = self.l1_reg / alpha\n",
    "        \n",
    "        model = SGDRegressor(penalty='elasticnet',\n",
    "                     fit_intercept=False,\n",
    "                     alpha=alpha,\n",
    "                     l1_ratio=l1_ratio\n",
    "                     )\n",
    "        \n",
    "        global_start = perf_counter()\n",
    "        start = perf_counter()\n",
    "        \n",
    "        for j in range(self.m):\n",
    "            \n",
    "            if (j+1) % 5 == 0:\n",
    "                print(f'Learning next {5} vectors took {round((perf_counter() - start)/60, 2)} minutes.')\n",
    "                start = perf_counter()\n",
    "                      \n",
    "            aj = A[:,j].copy()\n",
    "            A[:,j] = 0\n",
    "            \n",
    "            model.fit(A, aj.toarray().ravel())\n",
    "            \n",
    "            # refill the values in data matrix\n",
    "            A[:, j] = aj\n",
    "            \n",
    "            # non-negativity and j,j=0\n",
    "            ws = model.coef_\n",
    "            ws[ws<0] = 0\n",
    "\n",
    "            \n",
    "            # update weight matrix\n",
    "            self.W[:,j] = ws\n",
    "        \n",
    "        print(f\"Whole training process (learning {self.W.shape[0]} vectors) took\\\n",
    "        {round((perf_counter() - start)/60, 2)} minutes\")"
   ]
  },
  {
   "cell_type": "code",
   "execution_count": 23,
   "metadata": {},
   "outputs": [
    {
     "name": "stdout",
     "output_type": "stream",
     "text": [
      "Learning next 4 vectors took 0.66 minutes.\n",
      "Learning next 9 vectors took 0.9 minutes.\n",
      "Learning next 14 vectors took 0.86 minutes.\n",
      "Learning next 19 vectors took 0.91 minutes.\n",
      "Learning next 24 vectors took 0.92 minutes.\n",
      "Learning next 29 vectors took 0.89 minutes.\n",
      "Learning next 34 vectors took 0.9 minutes.\n",
      "Learning next 39 vectors took 0.93 minutes.\n",
      "Learning next 44 vectors took 0.92 minutes.\n",
      "Learning next 49 vectors took 1.0 minutes.\n",
      "Learning next 54 vectors took 1.01 minutes.\n"
     ]
    },
    {
     "ename": "KeyboardInterrupt",
     "evalue": "",
     "output_type": "error",
     "traceback": [
      "\u001b[0;31m---------------------------------------------------------------------------\u001b[0m",
      "\u001b[0;31mKeyboardInterrupt\u001b[0m                         Traceback (most recent call last)",
      "\u001b[0;32m/tmp/ipykernel_818/2795762553.py\u001b[0m in \u001b[0;36m<module>\u001b[0;34m\u001b[0m\n\u001b[1;32m      1\u001b[0m \u001b[0mslim\u001b[0m \u001b[0;34m=\u001b[0m \u001b[0mNormalSLIM\u001b[0m\u001b[0;34m(\u001b[0m\u001b[0ml1_reg\u001b[0m\u001b[0;34m=\u001b[0m\u001b[0;36m0.001\u001b[0m\u001b[0;34m,\u001b[0m \u001b[0ml2_reg\u001b[0m\u001b[0;34m=\u001b[0m\u001b[0;36m0.0001\u001b[0m\u001b[0;34m)\u001b[0m\u001b[0;34m\u001b[0m\u001b[0;34m\u001b[0m\u001b[0m\n\u001b[0;32m----> 2\u001b[0;31m \u001b[0mslim\u001b[0m\u001b[0;34m.\u001b[0m\u001b[0mfit\u001b[0m\u001b[0;34m(\u001b[0m\u001b[0mA\u001b[0m\u001b[0;34m)\u001b[0m\u001b[0;34m\u001b[0m\u001b[0;34m\u001b[0m\u001b[0m\n\u001b[0m",
      "\u001b[0;32m/tmp/ipykernel_818/1891707708.py\u001b[0m in \u001b[0;36mfit\u001b[0;34m(self, A)\u001b[0m\n\u001b[1;32m     37\u001b[0m \u001b[0;34m\u001b[0m\u001b[0m\n\u001b[1;32m     38\u001b[0m             \u001b[0;31m# refill the values in data matrix\u001b[0m\u001b[0;34m\u001b[0m\u001b[0;34m\u001b[0m\u001b[0m\n\u001b[0;32m---> 39\u001b[0;31m             \u001b[0mA\u001b[0m\u001b[0;34m[\u001b[0m\u001b[0;34m:\u001b[0m\u001b[0;34m,\u001b[0m \u001b[0mj\u001b[0m\u001b[0;34m]\u001b[0m \u001b[0;34m=\u001b[0m \u001b[0maj\u001b[0m\u001b[0;34m\u001b[0m\u001b[0;34m\u001b[0m\u001b[0m\n\u001b[0m\u001b[1;32m     40\u001b[0m \u001b[0;34m\u001b[0m\u001b[0m\n\u001b[1;32m     41\u001b[0m             \u001b[0;31m# non-negativity and j,j=0\u001b[0m\u001b[0;34m\u001b[0m\u001b[0;34m\u001b[0m\u001b[0m\n",
      "\u001b[0;32m~/anaconda3/lib/python3.9/site-packages/scipy/sparse/_index.py\u001b[0m in \u001b[0;36m__setitem__\u001b[0;34m(self, key, x)\u001b[0m\n\u001b[1;32m    114\u001b[0m             \u001b[0mx\u001b[0m \u001b[0;34m=\u001b[0m \u001b[0mx\u001b[0m\u001b[0;34m.\u001b[0m\u001b[0mtocoo\u001b[0m\u001b[0;34m(\u001b[0m\u001b[0mcopy\u001b[0m\u001b[0;34m=\u001b[0m\u001b[0;32mTrue\u001b[0m\u001b[0;34m)\u001b[0m\u001b[0;34m\u001b[0m\u001b[0;34m\u001b[0m\u001b[0m\n\u001b[1;32m    115\u001b[0m             \u001b[0mx\u001b[0m\u001b[0;34m.\u001b[0m\u001b[0msum_duplicates\u001b[0m\u001b[0;34m(\u001b[0m\u001b[0;34m)\u001b[0m\u001b[0;34m\u001b[0m\u001b[0;34m\u001b[0m\u001b[0m\n\u001b[0;32m--> 116\u001b[0;31m             \u001b[0mself\u001b[0m\u001b[0;34m.\u001b[0m\u001b[0m_set_arrayXarray_sparse\u001b[0m\u001b[0;34m(\u001b[0m\u001b[0mi\u001b[0m\u001b[0;34m,\u001b[0m \u001b[0mj\u001b[0m\u001b[0;34m,\u001b[0m \u001b[0mx\u001b[0m\u001b[0;34m)\u001b[0m\u001b[0;34m\u001b[0m\u001b[0;34m\u001b[0m\u001b[0m\n\u001b[0m\u001b[1;32m    117\u001b[0m         \u001b[0;32melse\u001b[0m\u001b[0;34m:\u001b[0m\u001b[0;34m\u001b[0m\u001b[0;34m\u001b[0m\u001b[0m\n\u001b[1;32m    118\u001b[0m             \u001b[0;31m# Make x and i into the same shape\u001b[0m\u001b[0;34m\u001b[0m\u001b[0;34m\u001b[0m\u001b[0m\n",
      "\u001b[0;32m~/anaconda3/lib/python3.9/site-packages/scipy/sparse/compressed.py\u001b[0m in \u001b[0;36m_set_arrayXarray_sparse\u001b[0;34m(self, row, col, x)\u001b[0m\n\u001b[1;32m    806\u001b[0m     \u001b[0;32mdef\u001b[0m \u001b[0m_set_arrayXarray_sparse\u001b[0m\u001b[0;34m(\u001b[0m\u001b[0mself\u001b[0m\u001b[0;34m,\u001b[0m \u001b[0mrow\u001b[0m\u001b[0;34m,\u001b[0m \u001b[0mcol\u001b[0m\u001b[0;34m,\u001b[0m \u001b[0mx\u001b[0m\u001b[0;34m)\u001b[0m\u001b[0;34m:\u001b[0m\u001b[0;34m\u001b[0m\u001b[0;34m\u001b[0m\u001b[0m\n\u001b[1;32m    807\u001b[0m         \u001b[0;31m# clear entries that will be overwritten\u001b[0m\u001b[0;34m\u001b[0m\u001b[0;34m\u001b[0m\u001b[0m\n\u001b[0;32m--> 808\u001b[0;31m         \u001b[0mself\u001b[0m\u001b[0;34m.\u001b[0m\u001b[0m_zero_many\u001b[0m\u001b[0;34m(\u001b[0m\u001b[0;34m*\u001b[0m\u001b[0mself\u001b[0m\u001b[0;34m.\u001b[0m\u001b[0m_swap\u001b[0m\u001b[0;34m(\u001b[0m\u001b[0;34m(\u001b[0m\u001b[0mrow\u001b[0m\u001b[0;34m,\u001b[0m \u001b[0mcol\u001b[0m\u001b[0;34m)\u001b[0m\u001b[0;34m)\u001b[0m\u001b[0;34m)\u001b[0m\u001b[0;34m\u001b[0m\u001b[0;34m\u001b[0m\u001b[0m\n\u001b[0m\u001b[1;32m    809\u001b[0m \u001b[0;34m\u001b[0m\u001b[0m\n\u001b[1;32m    810\u001b[0m         \u001b[0mM\u001b[0m\u001b[0;34m,\u001b[0m \u001b[0mN\u001b[0m \u001b[0;34m=\u001b[0m \u001b[0mrow\u001b[0m\u001b[0;34m.\u001b[0m\u001b[0mshape\u001b[0m  \u001b[0;31m# matches col.shape\u001b[0m\u001b[0;34m\u001b[0m\u001b[0;34m\u001b[0m\u001b[0m\n",
      "\u001b[0;32m~/anaconda3/lib/python3.9/site-packages/scipy/sparse/compressed.py\u001b[0m in \u001b[0;36m_zero_many\u001b[0;34m(self, i, j)\u001b[0m\n\u001b[1;32m    926\u001b[0m         \u001b[0mn_samples\u001b[0m \u001b[0;34m=\u001b[0m \u001b[0mlen\u001b[0m\u001b[0;34m(\u001b[0m\u001b[0mi\u001b[0m\u001b[0;34m)\u001b[0m\u001b[0;34m\u001b[0m\u001b[0;34m\u001b[0m\u001b[0m\n\u001b[1;32m    927\u001b[0m         \u001b[0moffsets\u001b[0m \u001b[0;34m=\u001b[0m \u001b[0mnp\u001b[0m\u001b[0;34m.\u001b[0m\u001b[0mempty\u001b[0m\u001b[0;34m(\u001b[0m\u001b[0mn_samples\u001b[0m\u001b[0;34m,\u001b[0m \u001b[0mdtype\u001b[0m\u001b[0;34m=\u001b[0m\u001b[0mself\u001b[0m\u001b[0;34m.\u001b[0m\u001b[0mindices\u001b[0m\u001b[0;34m.\u001b[0m\u001b[0mdtype\u001b[0m\u001b[0;34m)\u001b[0m\u001b[0;34m\u001b[0m\u001b[0;34m\u001b[0m\u001b[0m\n\u001b[0;32m--> 928\u001b[0;31m         ret = csr_sample_offsets(M, N, self.indptr, self.indices, n_samples,\n\u001b[0m\u001b[1;32m    929\u001b[0m                                  i, j, offsets)\n\u001b[1;32m    930\u001b[0m         \u001b[0;32mif\u001b[0m \u001b[0mret\u001b[0m \u001b[0;34m==\u001b[0m \u001b[0;36m1\u001b[0m\u001b[0;34m:\u001b[0m\u001b[0;34m\u001b[0m\u001b[0;34m\u001b[0m\u001b[0m\n",
      "\u001b[0;31mKeyboardInterrupt\u001b[0m: "
     ]
    }
   ],
   "source": [
    "slim = NormalSLIM(l1_reg=0.001, l2_reg=0.0001)\n",
    "slim.fit(A)"
   ]
  }
 ],
 "metadata": {
  "kernelspec": {
   "display_name": "Python 3 (ipykernel)",
   "language": "python",
   "name": "python3"
  },
  "language_info": {
   "codemirror_mode": {
    "name": "ipython",
    "version": 3
   },
   "file_extension": ".py",
   "mimetype": "text/x-python",
   "name": "python",
   "nbconvert_exporter": "python",
   "pygments_lexer": "ipython3",
   "version": "3.8.12"
  }
 },
 "nbformat": 4,
 "nbformat_minor": 4
}
