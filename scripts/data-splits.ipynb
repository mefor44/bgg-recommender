{
 "cells": [
  {
   "cell_type": "code",
   "execution_count": 1,
   "metadata": {},
   "outputs": [],
   "source": [
    "import pandas as pd"
   ]
  },
  {
   "cell_type": "code",
   "execution_count": 2,
   "metadata": {},
   "outputs": [],
   "source": [
    "mypath = \"/home/mmarzec12/data/\"\n",
    "\n",
    "df = pd.read_csv(mypath+\"bgg_ratings_merged_filtered_2015_10_500.csv\")\n",
    "\n",
    "explicit = df[df.score!=0]\n",
    "implicit = df[df.score==0]"
   ]
  },
  {
   "cell_type": "code",
   "execution_count": 23,
   "metadata": {},
   "outputs": [],
   "source": [
    "def customf(df):\n",
    "    max_score_id = df.score.values.argmax()\n",
    "    max_game_id = df.game_id.iloc[max_score_id]\n",
    "    \n",
    "    d = {\"max_game_id\":max_game_id,\n",
    "        \"score\":df.score.iloc[max_score_id]}\n",
    "        \n",
    "    return pd.Series(d) #max_game_id\n",
    "\n",
    "# create test set\n",
    "df_test = explicit.groupby(\"user_name\").apply(customf)\n",
    "#df_test[\"score\"] = df_test.apply(lambda x: )\n",
    "#print(df_test.head())\n",
    "df_test = df_test.reset_index().rename({\"max_game_id\":\"game_id\"}, axis=1)\n",
    "df_test[\"game_id\"] = df_test[\"game_id\"].astype(int)\n",
    "\n",
    "#print(df_test.head())\n",
    "# create explicit train set (df_explicit - df_test)\n",
    "df_train = pd.concat([df_test, explicit[[\"user_name\", \"game_id\", \"score\"]]]).drop_duplicates(keep=False)\n",
    "\n",
    "#print(df_train.head())\n",
    "# create validation set\n",
    "df_validation = df_train.groupby(\"user_name\").apply(customf)\n",
    "df_validation = df_validation.reset_index().rename({\"max_game_id\":\"game_id\"}, axis=1)\n",
    "df_validation[\"game_id\"] = df_validation[\"game_id\"].astype(int)\n",
    "\n",
    "# recreate sexplicit train set (df_train - df_validation)\n",
    "df_train = pd.concat([df_validation, df_train]).drop_duplicates(keep=False)"
   ]
  },
  {
   "cell_type": "code",
   "execution_count": 28,
   "metadata": {},
   "outputs": [
    {
     "data": {
      "text/plain": [
       "True"
      ]
     },
     "execution_count": 28,
     "metadata": {},
     "output_type": "execute_result"
    }
   ],
   "source": [
    "len(df_train) + len(df_test) + len(df_validation) == len(explicit)"
   ]
  },
  {
   "cell_type": "code",
   "execution_count": 29,
   "metadata": {},
   "outputs": [],
   "source": [
    "# saving dataframes\n",
    "\n",
    "df_train.to_csv(mypath+\"explicit_train.csv\", index=False)\n",
    "implicit.to_csv(mypath+\"implicit_train.csv\", index=False)\n",
    "df_test.to_csv(mypath+\"leave_one_out_test.csv\", index=False)\n",
    "df_test.to_csv(mypath+\"leave_one_out_validation.csv\", index=False)"
   ]
  },
  {
   "cell_type": "code",
   "execution_count": null,
   "metadata": {},
   "outputs": [],
   "source": []
  }
 ],
 "metadata": {
  "kernelspec": {
   "display_name": "Python 3",
   "language": "python",
   "name": "python3"
  },
  "language_info": {
   "codemirror_mode": {
    "name": "ipython",
    "version": 3
   },
   "file_extension": ".py",
   "mimetype": "text/x-python",
   "name": "python",
   "nbconvert_exporter": "python",
   "pygments_lexer": "ipython3",
   "version": "3.7.0"
  }
 },
 "nbformat": 4,
 "nbformat_minor": 2
}
