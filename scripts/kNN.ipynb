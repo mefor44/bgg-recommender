{
 "cells": [
  {
   "cell_type": "markdown",
   "id": "a83adb9d",
   "metadata": {},
   "source": [
    "# Item based kNN"
   ]
  },
  {
   "cell_type": "code",
   "execution_count": 1,
   "id": "2df7726d",
   "metadata": {},
   "outputs": [],
   "source": [
    "import pandas as pd\n",
    "import numpy as np\n",
    "import matplotlib.pyplot as plt\n",
    "import seaborn as sn\n",
    "import scipy.sparse\n",
    "import pickle\n",
    "import glob\n",
    "\n",
    "from surprise import Dataset, Reader, KNNBaseline, BaselineOnly, accuracy\n",
    "from surprise.model_selection import GridSearchCV\n",
    "from metrics import Evaluator\n",
    "\n",
    "from time import perf_counter\n",
    "from tqdm.notebook import tqdm"
   ]
  },
  {
   "cell_type": "code",
   "execution_count": 2,
   "id": "88419fb0",
   "metadata": {},
   "outputs": [],
   "source": [
    "mypath = \"/home/mmarzec12/data/\"\n",
    "savepath = \"/home/mmarzec12/models/knn/model_tuning/\""
   ]
  },
  {
   "cell_type": "code",
   "execution_count": 7,
   "id": "348a8125",
   "metadata": {},
   "outputs": [],
   "source": [
    "explicit = pd.read_csv(mypath+\"explicit_train.csv\")\n",
    "validation = pd.read_csv(mypath+\"leave_one_out_validation.csv\")"
   ]
  },
  {
   "cell_type": "code",
   "execution_count": 3,
   "id": "a5d43e3d",
   "metadata": {},
   "outputs": [],
   "source": [
    "# list with (user,item) tuples from validation set\n",
    "validation_list = [(u,i) for u,i in zip(validation.user_name, validation.game_id)]\n",
    "# dict with user:game key-value pairs from validation set\n",
    "validation_dict = {u:i for u,i in zip(validation.user_name, validation.game_id)}\n",
    "\n",
    "# unique series for users and games\n",
    "users = explicit.user_name.unique()\n",
    "games = explicit.game_id.unique()"
   ]
  },
  {
   "cell_type": "code",
   "execution_count": 4,
   "id": "c36ca24d",
   "metadata": {},
   "outputs": [],
   "source": [
    "# reading data from a file\n",
    "# reader = Reader(skip_lines=1, sep=\",\", rating_scale=(1,10))\n",
    "# data = Dataset.load_from_file(mypath+\"explicit_train.csv\", reader=reader)\n",
    "\n",
    "\n",
    "# reading data from pandas dataframe\n",
    "reader = Reader(rating_scale=(1,10))\n",
    "data = Dataset.load_from_df(explicit, reader)\n",
    "\n",
    "# using whole df as trainset\n",
    "trainset = data.build_full_trainset()"
   ]
  },
  {
   "cell_type": "code",
   "execution_count": 5,
   "id": "cb8002ee",
   "metadata": {},
   "outputs": [
    {
     "name": "stdout",
     "output_type": "stream",
     "text": [
      "Estimating biases using sgd...\n",
      "Computing the pearson_baseline similarity matrix...\n",
      "Done computing similarity matrix.\n"
     ]
    },
    {
     "data": {
      "image/png": "[encoded data removed]",
      "text/plain": [
       "<Figure size 432x288 with 1 Axes>"
      ]
     },
     "metadata": {
      "needs_background": "light"
     },
     "output_type": "display_data"
    }
   ],
   "source": [
    "# configurins learning options\n",
    "\n",
    "# similarity part of the model configuration\n",
    "# name - similarity measure\n",
    "# user_based - if false user based similarity matrix is calculated\n",
    "# min_support - minimal number of similar items\n",
    "# shrunkage - paramter from shrunk Pearson correlation coefficient\n",
    "# ref: https://surprise.readthedocs.io/en/stable/prediction_algorithms.html#similarity-measures-configuration\n",
    "sim_options = {\"name\": \"pearson_baseline\",\n",
    "              \"user_based\": False,\n",
    "              \"min_support\": 1,\n",
    "              \"shrinkage\": 10}\n",
    "\n",
    "# baseline part of the model configuration\n",
    "bsl_options = {\"method\": \"sgd\",\n",
    "              \"learning_rate\": 0.01,\n",
    "              \"reg\":0.02,\n",
    "              \"n_epochs\":20}\n",
    "\n",
    "\n",
    "knn = KNNBaseline(k=30, min_k=2, \n",
    "                  sim_options=sim_options, \n",
    "                  bsl_options=bsl_options)\n",
    "\n",
    "# training\n",
    "knn.fit(trainset)\n",
    "\n",
    "# plotting similarities\n",
    "plt.hist(knn.sim.ravel(), bins=30)\n",
    "plt.title(\"Similarities between the games\", fontsize=18)\n",
    "plt.show()\n",
    "\n",
    "# we won't be using sim <0\n",
    "knn.sim[knn.sim<0] = 0"
   ]
  },
  {
   "cell_type": "code",
   "execution_count": null,
   "id": "cf61cb17",
   "metadata": {},
   "outputs": [],
   "source": [
    "# validation \n",
    "# val_set = trainset.build_anti_testset()\n",
    "# start = perf_counter()\n",
    "# predictions = knn.test(val_set)\n",
    "# elapsed = perf_counter() - start\n",
    "# print(f\"Calculating all the ratings took {round(elapsed, 2)/60} minutes.\")"
   ]
  },
  {
   "cell_type": "markdown",
   "id": "b08c2328",
   "metadata": {},
   "source": [
    "## Hyperparameter tuning"
   ]
  },
  {
   "cell_type": "markdown",
   "id": "8e52545a",
   "metadata": {},
   "source": [
    "We want to tune $\\lambda$, which shrunks  the pearson correlation coefficint as well as $k$ - the size of neighborhood. The settings for tuning parameters of baseline model ($b_{ui}$ part) were already tuned."
   ]
  },
  {
   "cell_type": "code",
   "execution_count": 10,
   "id": "cf011d12",
   "metadata": {},
   "outputs": [
    {
     "name": "stdout",
     "output_type": "stream",
     "text": [
      "Model number 1 is being trained.\n",
      "Estimating biases using sgd...\n",
      "Computing the pearson_baseline similarity matrix...\n",
      "Done computing similarity matrix.\n",
      "Computing top-k list for each user...\n"
     ]
    },
    {
     "data": {
      "application/vnd.jupyter.widget-view+json": {
       "model_id": "6221743b39b94a7689959f462be4ef56",
       "version_major": 2,
       "version_minor": 0
      },
      "text/plain": [
       "  0%|          | 0/109084 [00:00<?, ?it/s]"
      ]
     },
     "metadata": {},
     "output_type": "display_data"
    },
    {
     "name": "stdout",
     "output_type": "stream",
     "text": [
      "...evaluation...\n",
      "...end.\n",
      "Model number 2 is being trained.\n",
      "Estimating biases using sgd...\n",
      "Computing the pearson_baseline similarity matrix...\n"
     ]
    },
    {
     "ename": "KeyboardInterrupt",
     "evalue": "",
     "output_type": "error",
     "traceback": [
      "\u001b[0;31m---------------------------------------------------------------------------\u001b[0m",
      "\u001b[0;31mKeyboardInterrupt\u001b[0m                         Traceback (most recent call last)",
      "\u001b[0;32m/tmp/ipykernel_875/309420602.py\u001b[0m in \u001b[0;36m<module>\u001b[0;34m\u001b[0m\n\u001b[1;32m     35\u001b[0m                   bsl_options=bsl_options)\n\u001b[1;32m     36\u001b[0m \u001b[0;34m\u001b[0m\u001b[0m\n\u001b[0;32m---> 37\u001b[0;31m         \u001b[0mknn\u001b[0m\u001b[0;34m.\u001b[0m\u001b[0mfit\u001b[0m\u001b[0;34m(\u001b[0m\u001b[0mtrainset\u001b[0m\u001b[0;34m)\u001b[0m\u001b[0;34m\u001b[0m\u001b[0;34m\u001b[0m\u001b[0m\n\u001b[0m\u001b[1;32m     38\u001b[0m         \u001b[0mknn\u001b[0m\u001b[0;34m.\u001b[0m\u001b[0msim\u001b[0m\u001b[0;34m[\u001b[0m\u001b[0mknn\u001b[0m\u001b[0;34m.\u001b[0m\u001b[0msim\u001b[0m\u001b[0;34m<\u001b[0m\u001b[0;36m0\u001b[0m\u001b[0;34m]\u001b[0m \u001b[0;34m=\u001b[0m \u001b[0;36m0\u001b[0m\u001b[0;34m\u001b[0m\u001b[0;34m\u001b[0m\u001b[0m\n\u001b[1;32m     39\u001b[0m \u001b[0;34m\u001b[0m\u001b[0m\n",
      "\u001b[0;32m~/anaconda3/lib/python3.9/site-packages/surprise/prediction_algorithms/knns.py\u001b[0m in \u001b[0;36mfit\u001b[0;34m(self, trainset)\u001b[0m\n\u001b[1;32m    279\u001b[0m         \u001b[0mself\u001b[0m\u001b[0;34m.\u001b[0m\u001b[0mbu\u001b[0m\u001b[0;34m,\u001b[0m \u001b[0mself\u001b[0m\u001b[0;34m.\u001b[0m\u001b[0mbi\u001b[0m \u001b[0;34m=\u001b[0m \u001b[0mself\u001b[0m\u001b[0;34m.\u001b[0m\u001b[0mcompute_baselines\u001b[0m\u001b[0;34m(\u001b[0m\u001b[0;34m)\u001b[0m\u001b[0;34m\u001b[0m\u001b[0;34m\u001b[0m\u001b[0m\n\u001b[1;32m    280\u001b[0m         \u001b[0mself\u001b[0m\u001b[0;34m.\u001b[0m\u001b[0mbx\u001b[0m\u001b[0;34m,\u001b[0m \u001b[0mself\u001b[0m\u001b[0;34m.\u001b[0m\u001b[0mby\u001b[0m \u001b[0;34m=\u001b[0m \u001b[0mself\u001b[0m\u001b[0;34m.\u001b[0m\u001b[0mswitch\u001b[0m\u001b[0;34m(\u001b[0m\u001b[0mself\u001b[0m\u001b[0;34m.\u001b[0m\u001b[0mbu\u001b[0m\u001b[0;34m,\u001b[0m \u001b[0mself\u001b[0m\u001b[0;34m.\u001b[0m\u001b[0mbi\u001b[0m\u001b[0;34m)\u001b[0m\u001b[0;34m\u001b[0m\u001b[0;34m\u001b[0m\u001b[0m\n\u001b[0;32m--> 281\u001b[0;31m         \u001b[0mself\u001b[0m\u001b[0;34m.\u001b[0m\u001b[0msim\u001b[0m \u001b[0;34m=\u001b[0m \u001b[0mself\u001b[0m\u001b[0;34m.\u001b[0m\u001b[0mcompute_similarities\u001b[0m\u001b[0;34m(\u001b[0m\u001b[0;34m)\u001b[0m\u001b[0;34m\u001b[0m\u001b[0;34m\u001b[0m\u001b[0m\n\u001b[0m\u001b[1;32m    282\u001b[0m \u001b[0;34m\u001b[0m\u001b[0m\n\u001b[1;32m    283\u001b[0m         \u001b[0;32mreturn\u001b[0m \u001b[0mself\u001b[0m\u001b[0;34m\u001b[0m\u001b[0;34m\u001b[0m\u001b[0m\n",
      "\u001b[0;32m~/anaconda3/lib/python3.9/site-packages/surprise/prediction_algorithms/algo_base.py\u001b[0m in \u001b[0;36mcompute_similarities\u001b[0;34m(self)\u001b[0m\n\u001b[1;32m    247\u001b[0m             \u001b[0;32mif\u001b[0m \u001b[0mgetattr\u001b[0m\u001b[0;34m(\u001b[0m\u001b[0mself\u001b[0m\u001b[0;34m,\u001b[0m \u001b[0;34m'verbose'\u001b[0m\u001b[0;34m,\u001b[0m \u001b[0;32mFalse\u001b[0m\u001b[0;34m)\u001b[0m\u001b[0;34m:\u001b[0m\u001b[0;34m\u001b[0m\u001b[0;34m\u001b[0m\u001b[0m\n\u001b[1;32m    248\u001b[0m                 \u001b[0mprint\u001b[0m\u001b[0;34m(\u001b[0m\u001b[0;34m'Computing the {0} similarity matrix...'\u001b[0m\u001b[0;34m.\u001b[0m\u001b[0mformat\u001b[0m\u001b[0;34m(\u001b[0m\u001b[0mname\u001b[0m\u001b[0;34m)\u001b[0m\u001b[0;34m)\u001b[0m\u001b[0;34m\u001b[0m\u001b[0;34m\u001b[0m\u001b[0m\n\u001b[0;32m--> 249\u001b[0;31m             \u001b[0msim\u001b[0m \u001b[0;34m=\u001b[0m \u001b[0mconstruction_func\u001b[0m\u001b[0;34m[\u001b[0m\u001b[0mname\u001b[0m\u001b[0;34m]\u001b[0m\u001b[0;34m(\u001b[0m\u001b[0;34m*\u001b[0m\u001b[0margs\u001b[0m\u001b[0;34m)\u001b[0m\u001b[0;34m\u001b[0m\u001b[0;34m\u001b[0m\u001b[0m\n\u001b[0m\u001b[1;32m    250\u001b[0m             \u001b[0;32mif\u001b[0m \u001b[0mgetattr\u001b[0m\u001b[0;34m(\u001b[0m\u001b[0mself\u001b[0m\u001b[0;34m,\u001b[0m \u001b[0;34m'verbose'\u001b[0m\u001b[0;34m,\u001b[0m \u001b[0;32mFalse\u001b[0m\u001b[0;34m)\u001b[0m\u001b[0;34m:\u001b[0m\u001b[0;34m\u001b[0m\u001b[0;34m\u001b[0m\u001b[0m\n\u001b[1;32m    251\u001b[0m                 \u001b[0mprint\u001b[0m\u001b[0;34m(\u001b[0m\u001b[0;34m'Done computing similarity matrix.'\u001b[0m\u001b[0;34m)\u001b[0m\u001b[0;34m\u001b[0m\u001b[0;34m\u001b[0m\u001b[0m\n",
      "\u001b[0;31mKeyboardInterrupt\u001b[0m: "
     ]
    }
   ],
   "source": [
    "# shrunking coefficient\n",
    "lambdas = [10, 30, 100]\n",
    "# neighborhood size\n",
    "negihborhood_sizes = [10, 20, 30, 40]\n",
    "# top-10 recommendation list\n",
    "k = 10 \n",
    "# sample size \n",
    "sample_size = 200\n",
    "# min_k from knn (surprise docs for more info)\n",
    "min_k_knn = 2\n",
    "\n",
    "\n",
    "# setting initial options for model training\n",
    "# similarity part of the model configuration\n",
    "sim_options = {\"name\": \"pearson_baseline\",\n",
    "              \"user_based\": False,\n",
    "              \"min_support\": 1,\n",
    "              \"shrinkage\": 10}\n",
    "# baseline part of the model configuration\n",
    "bsl_options = {\"method\": \"sgd\",\n",
    "              \"learning_rate\": 0.01,\n",
    "              \"reg\":0.02,\n",
    "              \"n_epochs\":20}\n",
    "\n",
    "counter = 1\n",
    "for lambda_ in lambdas:\n",
    "    for neigh_size in negihborhood_sizes:\n",
    "        print(f\"Model number {counter} is being trained.\")\n",
    "        # set the parameters\n",
    "        sim_options[\"shrinkage\"] = lambda_\n",
    "        \n",
    "        # train the model\n",
    "        knn = KNNBaseline(k=neigh_size, min_k=min_k_knn, \n",
    "                  sim_options=sim_options, \n",
    "                  bsl_options=bsl_options)\n",
    "        \n",
    "        knn.fit(trainset)\n",
    "        knn.sim[knn.sim<0] = 0\n",
    "        \n",
    "        print(\"Computing top-k list for each user...\")\n",
    "        # produce top k list for all users\n",
    "        top_k_list = produce_top_k(model=knn, users=users, games=games,\n",
    "                                   validation_dict=validation_dict,\n",
    "                                   k=k, sample_size=sample_size)\n",
    "        \n",
    "        \n",
    "        print(\"...evaluation...\")\n",
    "        ev = Evaluator(k=k, true=validation_list, predicted=top_k_list)\n",
    "        ev.calculate_metrics()\n",
    "        ngcg10, err10, hr10 = ev.ndcg, ev.err, ev.hr\n",
    "        \n",
    "        # save the obtained results\n",
    "        res = {}\n",
    "        res[\"shrunking_coef\"] = lambda_\n",
    "        res[\"neighborhood_size\"] = neigh_size\n",
    "        res[\"k\"] = k\n",
    "        res[\"ndcg10\"] = ngcg10\n",
    "        res[\"err10\"] = err10\n",
    "        res[\"hr10\"] = hr10\n",
    "        res[\"sample_size\"] = sample_size\n",
    "        res[\"sim_options\"] = sim_options\n",
    "        res[\"bsl_options\"] = bsl_options\n",
    "        res[\"min_k_knn\"] = min_k_knn\n",
    "        \n",
    "        # save the obtained results\n",
    "        with open(savepath+f\"knn_{counter}\", \"wb\") as handle:\n",
    "            pickle.dump(res, handle, protocol=pickle.HIGHEST_PROTOCOL)\n",
    "            \n",
    "        counter += 1\n",
    "        print(\"...and end.\")"
   ]
  },
  {
   "cell_type": "markdown",
   "id": "2da05586",
   "metadata": {},
   "source": [
    "## Results"
   ]
  },
  {
   "cell_type": "code",
   "execution_count": 3,
   "id": "ca5b680d",
   "metadata": {},
   "outputs": [],
   "source": [
    "n_files = len(glob.glob(savepath+\"/*\"))\n",
    "res = []\n",
    "for i in range(1,n_files+1):\n",
    "    res.append(pd.read_pickle(savepath+f\"/knn_{i}\"))"
   ]
  },
  {
   "cell_type": "code",
   "execution_count": 4,
   "id": "18ae29b0",
   "metadata": {},
   "outputs": [],
   "source": [
    "resdf = pd.DataFrame(columns=[\"shrunking_coef\", \"neighborhood_size\", \"metric_name\", \"metric_value\"])\n",
    "rows_list = []\n",
    "for r in res:\n",
    "    d1 = {}\n",
    "    d1[\"shrunking_coef\"] = r[\"shrunking_coef\"]\n",
    "    d1[\"neighborhood_size\"] = r[\"neighborhood_size\"]\n",
    "    d1[\"metric_name\"] = \"NDCG10\"\n",
    "    d1[\"metric_value\"] = r[\"ndcg\"]\n",
    "    rows_list.append(d1)\n",
    "    \n",
    "    d2 = {}\n",
    "    d2[\"shrunking_coef\"] = r[\"shrunking_coef\"]\n",
    "    d2[\"neighborhood_size\"] = r[\"neighborhood_size\"]\n",
    "    d2[\"metric_name\"] = \"ERR10\"\n",
    "    d2[\"metric_value\"] = r[\"err\"]\n",
    "    rows_list.append(d2)\n",
    "    \n",
    "    d3 = {}\n",
    "    d3[\"shrunking_coef\"] = r[\"shrunking_coef\"]\n",
    "    d3[\"neighborhood_size\"] = r[\"neighborhood_size\"]\n",
    "    d3[\"metric_name\"] = \"HR10\"\n",
    "    d3[\"metric_value\"] = r[\"hr10\"]\n",
    "    rows_list.append(d3)\n",
    "\n",
    "    \n",
    "resdf = pd.DataFrame(rows_list)"
   ]
  },
  {
   "cell_type": "code",
   "execution_count": 6,
   "id": "c34f606e",
   "metadata": {},
   "outputs": [
    {
     "data": {
      "image/png": "[encoded data removed]",
      "text/plain": [
       "<Figure size 1008x864 with 3 Axes>"
      ]
     },
     "metadata": {
      "needs_background": "light"
     },
     "output_type": "display_data"
    }
   ],
   "source": [
    "metrics = resdf.metric_name.unique()\n",
    "fig, axes = plt.subplots(3, 1, figsize=(14,12))\n",
    "for i in range(len(metrics)):\n",
    "    tmp = resdf[resdf.metric_name==metrics[i]]\n",
    "    axes[i].set_title(f\"Results for {metrics[i]}\", fontsize=17)\n",
    "    sn.barplot(y=\"metric_value\", x=\"shrunking_coef\", hue=\"neighborhood_size\", data=tmp, ax=axes[i])\n",
    "    \n",
    "plt.tight_layout()"
   ]
  },
  {
   "cell_type": "code",
   "execution_count": null,
   "id": "ee772ec5",
   "metadata": {},
   "outputs": [],
   "source": []
  },
  {
   "cell_type": "code",
   "execution_count": 29,
   "id": "2918bf0e",
   "metadata": {},
   "outputs": [
    {
     "data": {
      "text/html": [
       "<div>\n",
       "<style scoped>\n",
       "    .dataframe tbody tr th:only-of-type {\n",
       "        vertical-align: middle;\n",
       "    }\n",
       "\n",
       "    .dataframe tbody tr th {\n",
       "        vertical-align: top;\n",
       "    }\n",
       "\n",
       "    .dataframe thead th {\n",
       "        text-align: right;\n",
       "    }\n",
       "</style>\n",
       "<table border=\"1\" class=\"dataframe\">\n",
       "  <thead>\n",
       "    <tr style=\"text-align: right;\">\n",
       "      <th></th>\n",
       "      <th>shrunking_coef</th>\n",
       "      <th>neighborhood_size</th>\n",
       "      <th>metric_name</th>\n",
       "      <th>metric_value</th>\n",
       "    </tr>\n",
       "  </thead>\n",
       "  <tbody>\n",
       "    <tr>\n",
       "      <th>3</th>\n",
       "      <td>10</td>\n",
       "      <td>10</td>\n",
       "      <td>NDCG10</td>\n",
       "      <td>0.053850</td>\n",
       "    </tr>\n",
       "    <tr>\n",
       "      <th>4</th>\n",
       "      <td>10</td>\n",
       "      <td>10</td>\n",
       "      <td>ERR10</td>\n",
       "      <td>0.034207</td>\n",
       "    </tr>\n",
       "    <tr>\n",
       "      <th>5</th>\n",
       "      <td>10</td>\n",
       "      <td>10</td>\n",
       "      <td>HR10</td>\n",
       "      <td>0.120173</td>\n",
       "    </tr>\n",
       "    <tr>\n",
       "      <th>18</th>\n",
       "      <td>30</td>\n",
       "      <td>10</td>\n",
       "      <td>NDCG10</td>\n",
       "      <td>0.052242</td>\n",
       "    </tr>\n",
       "    <tr>\n",
       "      <th>19</th>\n",
       "      <td>30</td>\n",
       "      <td>10</td>\n",
       "      <td>ERR10</td>\n",
       "      <td>0.033155</td>\n",
       "    </tr>\n",
       "    <tr>\n",
       "      <th>20</th>\n",
       "      <td>30</td>\n",
       "      <td>10</td>\n",
       "      <td>HR10</td>\n",
       "      <td>0.116782</td>\n",
       "    </tr>\n",
       "    <tr>\n",
       "      <th>33</th>\n",
       "      <td>100</td>\n",
       "      <td>10</td>\n",
       "      <td>NDCG10</td>\n",
       "      <td>0.049778</td>\n",
       "    </tr>\n",
       "    <tr>\n",
       "      <th>34</th>\n",
       "      <td>100</td>\n",
       "      <td>10</td>\n",
       "      <td>ERR10</td>\n",
       "      <td>0.031208</td>\n",
       "    </tr>\n",
       "    <tr>\n",
       "      <th>35</th>\n",
       "      <td>100</td>\n",
       "      <td>10</td>\n",
       "      <td>HR10</td>\n",
       "      <td>0.112592</td>\n",
       "    </tr>\n",
       "  </tbody>\n",
       "</table>\n",
       "</div>"
      ],
      "text/plain": [
       "    shrunking_coef  neighborhood_size metric_name  metric_value\n",
       "3               10                 10      NDCG10      0.053850\n",
       "4               10                 10       ERR10      0.034207\n",
       "5               10                 10        HR10      0.120173\n",
       "18              30                 10      NDCG10      0.052242\n",
       "19              30                 10       ERR10      0.033155\n",
       "20              30                 10        HR10      0.116782\n",
       "33             100                 10      NDCG10      0.049778\n",
       "34             100                 10       ERR10      0.031208\n",
       "35             100                 10        HR10      0.112592"
      ]
     },
     "execution_count": 29,
     "metadata": {},
     "output_type": "execute_result"
    }
   ],
   "source": [
    "resdf[resdf.neighborhood_size==10]"
   ]
  },
  {
   "cell_type": "code",
   "execution_count": 45,
   "id": "aff9ee44",
   "metadata": {},
   "outputs": [],
   "source": [
    "#row = explicit.user_name\n",
    "#col = explicit.game_id\n",
    "#data = explicit.score\n",
    "#X = scipy.sparse.coo_matrix(data, (row,col))"
   ]
  },
  {
   "cell_type": "code",
   "execution_count": 14,
   "id": "0a808fcc",
   "metadata": {},
   "outputs": [
    {
     "name": "stdout",
     "output_type": "stream",
     "text": [
      "0.3932052957506905 0.24300058400099736 0.9026043819760231\n"
     ]
    }
   ],
   "source": []
  },
  {
   "cell_type": "code",
   "execution_count": null,
   "id": "bd55bb8b",
   "metadata": {},
   "outputs": [],
   "source": []
  },
  {
   "cell_type": "code",
   "execution_count": null,
   "id": "56770c13",
   "metadata": {},
   "outputs": [],
   "source": []
  },
  {
   "cell_type": "code",
   "execution_count": null,
   "id": "c5380755",
   "metadata": {},
   "outputs": [],
   "source": [
    "ev = "
   ]
  },
  {
   "cell_type": "code",
   "execution_count": null,
   "id": "4304427e",
   "metadata": {},
   "outputs": [],
   "source": []
  },
  {
   "cell_type": "code",
   "execution_count": null,
   "id": "debd6511",
   "metadata": {},
   "outputs": [],
   "source": []
  },
  {
   "cell_type": "code",
   "execution_count": null,
   "id": "6d59a95e",
   "metadata": {},
   "outputs": [],
   "source": []
  },
  {
   "cell_type": "code",
   "execution_count": null,
   "id": "b9a29cc0",
   "metadata": {},
   "outputs": [],
   "source": []
  },
  {
   "cell_type": "code",
   "execution_count": 65,
   "id": "c0df7287",
   "metadata": {},
   "outputs": [
    {
     "data": {
      "application/vnd.jupyter.widget-view+json": {
       "model_id": "3410978ff3314941a12eb37daf8504e0",
       "version_major": 2,
       "version_minor": 0
      },
      "text/plain": [
       "  0%|          | 0/109084 [00:00<?, ?it/s]"
      ]
     },
     "metadata": {},
     "output_type": "display_data"
    },
    {
     "name": "stdout",
     "output_type": "stream",
     "text": [
      "We have preprocessed results for 500 users already, that took 2.6008333333333336 minutes.\n"
     ]
    }
   ],
   "source": [
    "# validation methodology:\n",
    "\n",
    "\n",
    "\n",
    "preds_top_10 = {}\n",
    "j = 0\n",
    "start = perf_counter()\n",
    "for user_id in tqdm(users):\n",
    "    user_preds = []\n",
    "    # getting ratings for specific user\n",
    "    for game in games:\n",
    "        game_id = game\n",
    "        r_hat = knn.predict(user_id, game_id).est\n",
    "        user_preds.append((r_hat,game_id))\n",
    "    \n",
    "    # selecting only top 10 ratings\n",
    "    user_preds.sort(key=lambda x: x[1], reverse=True)\n",
    "    # selecting only game ids\n",
    "    user_preds = [i[1] for i in user_preds[:10]]\n",
    "    \n",
    "    # addending results to the dict\n",
    "    preds_top_10[user_id] = user_preds\n",
    "    \n",
    "    # timing the results\n",
    "    j += 1\n",
    "    if j % 500 == 0:\n",
    "        print(f\"We have preprocessed results for {j} users already, that took {round(perf_counter() - start,2)/60} minutes.\")\n",
    "        start = perf_counter()\n",
    "        break\n"
   ]
  },
  {
   "cell_type": "code",
   "execution_count": null,
   "id": "b14838d6",
   "metadata": {},
   "outputs": [],
   "source": []
  },
  {
   "cell_type": "code",
   "execution_count": null,
   "id": "6653029f",
   "metadata": {},
   "outputs": [],
   "source": []
  },
  {
   "cell_type": "code",
   "execution_count": null,
   "id": "60c4aac5",
   "metadata": {},
   "outputs": [],
   "source": [
    "def get_top_n(predictions, n=10):\n",
    "    \"\"\"Return the top-N recommendation for each user from a set of predictions.\n",
    "\n",
    "    Args:\n",
    "        predictions(list of Prediction objects): The list of predictions, as\n",
    "            returned by the test method of an algorithm.\n",
    "        n(int): The number of recommendation to output for each user. Default\n",
    "            is 10.\n",
    "\n",
    "    Returns:\n",
    "    A dict where keys are user (raw) ids and values are lists of tuples:\n",
    "        [(raw item id, rating estimation), ...] of size n.\n",
    "    \"\"\"\n",
    "\n",
    "    # First map the predictions to each user.\n",
    "    top_n = defaultdict(list)\n",
    "    for uid, iid, true_r, est, _ in predictions:\n",
    "        top_n[uid].append((iid, est))\n",
    "\n",
    "    # Then sort the predictions for each user and retrieve the k highest ones.\n",
    "    for uid, user_ratings in top_n.items():\n",
    "        user_ratings.sort(key=lambda x: x[1], reverse=True)\n",
    "        top_n[uid] = user_ratings[:n]\n",
    "        top_n[uid] = [i[0] for i in top_n[uid]]\n",
    "\n",
    "    return top_n"
   ]
  },
  {
   "cell_type": "code",
   "execution_count": null,
   "id": "659ea373",
   "metadata": {},
   "outputs": [],
   "source": []
  },
  {
   "cell_type": "code",
   "execution_count": null,
   "id": "a0dfd5cb",
   "metadata": {},
   "outputs": [],
   "source": [
    "ngcg10, err10, hr10"
   ]
  },
  {
   "cell_type": "code",
   "execution_count": 6,
   "id": "81b53e2c",
   "metadata": {},
   "outputs": [],
   "source": [
    "# need to be improved if I want it to\n",
    "# be faster than python sort\n",
    "\n",
    "def select_top_n(l, n):\n",
    "    res = []\n",
    "    lcopy = l.copy()\n",
    "    for _ in range(n):\n",
    "            max_ = (0,0)\n",
    "            for i in lcopy:\n",
    "                if i[0] > max_[0]:\n",
    "                    max_ = i\n",
    "            \n",
    "            res.append(max_)\n",
    "            lcopy.remove(max_)\n",
    "    \n",
    "    return res"
   ]
  },
  {
   "cell_type": "code",
   "execution_count": 30,
   "id": "4480b830",
   "metadata": {},
   "outputs": [],
   "source": [
    "a = list(preds_top_10.keys())\n",
    "val = validation\n",
    "val.index = val.user_name\n",
    "val_subset = val.loc[a,]\n",
    "true = [(u,i) for u,i in zip(val_subset.user_name, val_subset.game_id)]"
   ]
  },
  {
   "cell_type": "code",
   "execution_count": null,
   "id": "c0ad0682",
   "metadata": {},
   "outputs": [],
   "source": []
  },
  {
   "cell_type": "code",
   "execution_count": null,
   "id": "2a0397e9",
   "metadata": {},
   "outputs": [],
   "source": []
  },
  {
   "cell_type": "code",
   "execution_count": null,
   "id": "5c04d514",
   "metadata": {},
   "outputs": [],
   "source": [
    "users = explicit.user_name.unique()\n",
    "games = explicit.game_id.unique()\n",
    "\n",
    "preds_top_10 = {}\n",
    "j = 0\n",
    "total = perf_counter()\n",
    "start = perf_counter()\n",
    "for user_id in users:\n",
    "    user_preds = []\n",
    "    \n",
    "    # getting ratings for specific user\n",
    "    for game in games:\n",
    "        game_id = game\n",
    "        r_hat = knn.predict(user_id, game_id).est\n",
    "        user_preds.append((r_hat,game_id))\n",
    "    \n",
    "    # selecting only top 10 ratings\n",
    "    user_preds.sort(key=lambda x: x[1], reverse=True)\n",
    "    # selecting only game ids\n",
    "    user_preds = [i[1] for i in user_preds[:10]]\n",
    "    \n",
    "    # addending results to the dict\n",
    "    preds_top_10[user_id] = user_preds\n",
    "    \n",
    "    # timing the results\n",
    "    j += 1\n",
    "    if j % 500 == 0:\n",
    "        print(f\"We have preprocessed results for {j} users already, that took {round(perf_counter() - start,2)/60} minutes.\")\n",
    "        start = perf_counter()\n",
    "        break"
   ]
  },
  {
   "cell_type": "code",
   "execution_count": null,
   "id": "d8fc7a34",
   "metadata": {},
   "outputs": [],
   "source": []
  },
  {
   "cell_type": "code",
   "execution_count": null,
   "id": "79139ea8",
   "metadata": {},
   "outputs": [],
   "source": [
    "# list with tuples from validation set\n",
    "true = [(u,i) for u,i in zip(validation.user_name, validation.game_id)]\n",
    "\n",
    "#\n",
    "\n",
    "# Evaluator class for getting NDCG@K, ERR@K, HR@K\n",
    "ev = Evaluator(k=10, true=true, predicted=preds_top_10)\n",
    "ev.calculate_metrics()\n",
    "ngcg10, err10, hr10 = ev.ndcg, ev.err, ev.hr"
   ]
  },
  {
   "cell_type": "code",
   "execution_count": 33,
   "id": "c98406e8",
   "metadata": {},
   "outputs": [],
   "source": []
  },
  {
   "cell_type": "code",
   "execution_count": 35,
   "id": "b9be9348",
   "metadata": {},
   "outputs": [
    {
     "data": {
      "text/plain": [
       "(0.47339964710175053, 0.326140873015873, 0.9583333333333334)"
      ]
     },
     "execution_count": 35,
     "metadata": {},
     "output_type": "execute_result"
    }
   ],
   "source": [
    "ngcg10, err10, hr10"
   ]
  },
  {
   "cell_type": "code",
   "execution_count": 32,
   "id": "0e47597e",
   "metadata": {},
   "outputs": [],
   "source": [
    "import numpy as np\n",
    "class Evaluator:\n",
    "    \"\"\"\n",
    "    Description:\n",
    "    -----------\n",
    "    \n",
    "    A class for making leave-one-out valiadation.\n",
    "    It computes NDCG@k, HR@k, and ERR@k.\n",
    "    \n",
    "    Assumptions: the only one item that is present for\n",
    "    each user has relevane=1 all remaining have relevance=0\n",
    "    \n",
    "    \n",
    "    Parameters:\n",
    "    ----------\n",
    "    \n",
    "    true - list of tuples with (user_id, item_id), these are \n",
    "    the items which we want to see at the top of recommendation list\n",
    "    \n",
    "    predicted - dict with users and their recommendations\n",
    "    in form: {user_id:[top_k_recommendation_list]}, where the top_k_list\n",
    "    contains item_ids\n",
    "    \n",
    "    k - to calculate measures @k\n",
    "    \"\"\"\n",
    "    \n",
    "    def __init__(self, k, true, predicted):\n",
    "        self.k = k\n",
    "        self.ndcg = 0\n",
    "        self.hr = 0\n",
    "        self.err = 0\n",
    "        self.true = true\n",
    "        self.predicted = predicted\n",
    "    \n",
    "    \n",
    "    def calculate_metrics(self):\n",
    "        hrs = []\n",
    "        errs = []\n",
    "        ndcgs = []\n",
    "        \n",
    "        # denominators for NDCG\n",
    "        denoms = 1. / np.log2(np.arange(2, self.k + 2))\n",
    "\n",
    "        # ideal DCG\n",
    "        IDCG = denoms[0]\n",
    "\n",
    "        for uid,iid in self.true:\n",
    "            pos = 0\n",
    "            for item_id in self.predicted[uid]:\n",
    "                if item_id==iid:\n",
    "                    hrs.append(1)\n",
    "                    errs.append(1/(pos+1))\n",
    "                    ndcgs.append(denoms[pos] / IDCG)\n",
    "                    break\n",
    "                else:\n",
    "                    pos += 1\n",
    "\n",
    "            # if item from test set is not in top-k list\n",
    "            if pos == self.k-1:\n",
    "                hrs.append(0)\n",
    "                errs.append(0)\n",
    "                ndcgs.append(0)\n",
    "        \n",
    "        self.ndcg = np.mean(ndcgs)\n",
    "        self.hr = np.mean(hrs)\n",
    "        self.err = np.mean(errs)\n",
    "\n",
    "    \n",
    "    \n",
    "    "
   ]
  },
  {
   "cell_type": "code",
   "execution_count": null,
   "id": "5dcf25c8",
   "metadata": {},
   "outputs": [],
   "source": []
  },
  {
   "cell_type": "code",
   "execution_count": null,
   "id": "409a0851",
   "metadata": {},
   "outputs": [],
   "source": [
    "ev = Evaluator()"
   ]
  },
  {
   "cell_type": "code",
   "execution_count": 28,
   "id": "2b38b68f",
   "metadata": {},
   "outputs": [
    {
     "data": {
      "text/plain": [
       "(154, 3)"
      ]
     },
     "execution_count": 28,
     "metadata": {},
     "output_type": "execute_result"
    }
   ],
   "source": [
    "explicit[explicit.user_name==\"hsjx945\"].shape"
   ]
  },
  {
   "cell_type": "code",
   "execution_count": 52,
   "id": "f0e0570c",
   "metadata": {},
   "outputs": [
    {
     "name": "stdout",
     "output_type": "stream",
     "text": [
      "user: hsjx945    item: 172        r_ui = None   est = 7.01   {'was_impossible': False}\n"
     ]
    }
   ],
   "source": [
    "uid = \"hsjx945\" # user id, as string\n",
    "iid = str(172)  # item id, as string\n",
    "\n",
    "# get a prediction for specific users and items.\n",
    "pred = knn.predict(uid, iid, verbose=True)"
   ]
  },
  {
   "cell_type": "code",
   "execution_count": 69,
   "id": "56bb3b97",
   "metadata": {},
   "outputs": [],
   "source": [
    "res = []\n",
    "for game_id in explicit.game_id.unique():\n",
    "    res.append(knn.predict(\"hsjx945\", game_id).est)"
   ]
  },
  {
   "cell_type": "code",
   "execution_count": null,
   "id": "09f0055b",
   "metadata": {},
   "outputs": [],
   "source": []
  },
  {
   "cell_type": "code",
   "execution_count": 30,
   "id": "857c05e2",
   "metadata": {},
   "outputs": [
    {
     "data": {
      "text/html": [
       "<div>\n",
       "<style scoped>\n",
       "    .dataframe tbody tr th:only-of-type {\n",
       "        vertical-align: middle;\n",
       "    }\n",
       "\n",
       "    .dataframe tbody tr th {\n",
       "        vertical-align: top;\n",
       "    }\n",
       "\n",
       "    .dataframe thead th {\n",
       "        text-align: right;\n",
       "    }\n",
       "</style>\n",
       "<table border=\"1\" class=\"dataframe\">\n",
       "  <thead>\n",
       "    <tr style=\"text-align: right;\">\n",
       "      <th></th>\n",
       "      <th>user_name</th>\n",
       "      <th>game_id</th>\n",
       "      <th>score</th>\n",
       "    </tr>\n",
       "  </thead>\n",
       "  <tbody>\n",
       "    <tr>\n",
       "      <th>0</th>\n",
       "      <td>hsjx945</td>\n",
       "      <td>1</td>\n",
       "      <td>8.0</td>\n",
       "    </tr>\n",
       "    <tr>\n",
       "      <th>1</th>\n",
       "      <td>hsjx945</td>\n",
       "      <td>3</td>\n",
       "      <td>7.3</td>\n",
       "    </tr>\n",
       "    <tr>\n",
       "      <th>2</th>\n",
       "      <td>hsjx945</td>\n",
       "      <td>11</td>\n",
       "      <td>6.8</td>\n",
       "    </tr>\n",
       "    <tr>\n",
       "      <th>3</th>\n",
       "      <td>hsjx945</td>\n",
       "      <td>12</td>\n",
       "      <td>6.5</td>\n",
       "    </tr>\n",
       "    <tr>\n",
       "      <th>4</th>\n",
       "      <td>hsjx945</td>\n",
       "      <td>172</td>\n",
       "      <td>6.0</td>\n",
       "    </tr>\n",
       "    <tr>\n",
       "      <th>...</th>\n",
       "      <td>...</td>\n",
       "      <td>...</td>\n",
       "      <td>...</td>\n",
       "    </tr>\n",
       "    <tr>\n",
       "      <th>5861075</th>\n",
       "      <td>CRTMN0463</td>\n",
       "      <td>223362</td>\n",
       "      <td>10.0</td>\n",
       "    </tr>\n",
       "    <tr>\n",
       "      <th>5861076</th>\n",
       "      <td>CRTMN0463</td>\n",
       "      <td>193513</td>\n",
       "      <td>10.0</td>\n",
       "    </tr>\n",
       "    <tr>\n",
       "      <th>5861077</th>\n",
       "      <td>CRTMN0463</td>\n",
       "      <td>156689</td>\n",
       "      <td>10.0</td>\n",
       "    </tr>\n",
       "    <tr>\n",
       "      <th>5861078</th>\n",
       "      <td>CRTMN0463</td>\n",
       "      <td>175156</td>\n",
       "      <td>10.0</td>\n",
       "    </tr>\n",
       "    <tr>\n",
       "      <th>5861079</th>\n",
       "      <td>CRTMN0463</td>\n",
       "      <td>182692</td>\n",
       "      <td>10.0</td>\n",
       "    </tr>\n",
       "  </tbody>\n",
       "</table>\n",
       "<p>5861080 rows × 3 columns</p>\n",
       "</div>"
      ],
      "text/plain": [
       "         user_name  game_id  score\n",
       "0          hsjx945        1    8.0\n",
       "1          hsjx945        3    7.3\n",
       "2          hsjx945       11    6.8\n",
       "3          hsjx945       12    6.5\n",
       "4          hsjx945      172    6.0\n",
       "...            ...      ...    ...\n",
       "5861075  CRTMN0463   223362   10.0\n",
       "5861076  CRTMN0463   193513   10.0\n",
       "5861077  CRTMN0463   156689   10.0\n",
       "5861078  CRTMN0463   175156   10.0\n",
       "5861079  CRTMN0463   182692   10.0\n",
       "\n",
       "[5861080 rows x 3 columns]"
      ]
     },
     "execution_count": 30,
     "metadata": {},
     "output_type": "execute_result"
    }
   ],
   "source": [
    "explicit"
   ]
  },
  {
   "cell_type": "code",
   "execution_count": null,
   "id": "53560382",
   "metadata": {},
   "outputs": [],
   "source": []
  },
  {
   "cell_type": "code",
   "execution_count": null,
   "id": "3695bd4a",
   "metadata": {},
   "outputs": [],
   "source": []
  },
  {
   "cell_type": "code",
   "execution_count": null,
   "id": "f9d821b5",
   "metadata": {},
   "outputs": [],
   "source": []
  },
  {
   "cell_type": "code",
   "execution_count": null,
   "id": "467a7570",
   "metadata": {},
   "outputs": [],
   "source": []
  },
  {
   "cell_type": "code",
   "execution_count": null,
   "id": "92e044da",
   "metadata": {},
   "outputs": [],
   "source": []
  },
  {
   "cell_type": "code",
   "execution_count": null,
   "id": "3b3f6099",
   "metadata": {},
   "outputs": [],
   "source": []
  },
  {
   "cell_type": "code",
   "execution_count": null,
   "id": "d2f3efb7",
   "metadata": {},
   "outputs": [],
   "source": []
  }
 ],
 "metadata": {
  "kernelspec": {
   "display_name": "Python 3 (ipykernel)",
   "language": "python",
   "name": "python3"
  },
  "language_info": {
   "codemirror_mode": {
    "name": "ipython",
    "version": 3
   },
   "file_extension": ".py",
   "mimetype": "text/x-python",
   "name": "python",
   "nbconvert_exporter": "python",
   "pygments_lexer": "ipython3",
   "version": "3.8.12"
  }
 },
 "nbformat": 4,
 "nbformat_minor": 5
}
