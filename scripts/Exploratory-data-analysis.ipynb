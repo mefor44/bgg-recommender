{
 "cells": [
  {
   "cell_type": "code",
   "execution_count": 1,
   "metadata": {},
   "outputs": [],
   "source": [
    "import pandas as pd \n",
    "import numpy as np\n",
    "import matplotlib.pyplot as plt\n",
    "import seaborn as sns\n",
    "import os\n",
    "\n",
    "import warnings\n",
    "warnings.filterwarnings(\"ignore\")\n",
    "\n",
    "from os import listdir\n",
    "from os.path import isfile, join"
   ]
  },
  {
   "cell_type": "markdown",
   "metadata": {},
   "source": [
    "Goals:\n",
    "* see distibution for number of votes (for both games and users)\n",
    "* investigate number of different \"stats\"\n",
    "* check the proportion of imlicit and explicit feedback\n",
    "* analyse how average ratings are changing through time\n",
    "* check data sparcity\n",
    "* check mean and median number of votes per user"
   ]
  },
  {
   "cell_type": "code",
   "execution_count": 2,
   "metadata": {},
   "outputs": [
    {
     "data": {
      "text/plain": [
       "'D:\\\\0Studia\\\\Data-Science-PW\\\\Masters-thesis\\\\scripts'"
      ]
     },
     "execution_count": 2,
     "metadata": {},
     "output_type": "execute_result"
    }
   ],
   "source": [
    "os.getcwd()"
   ]
  },
  {
   "cell_type": "code",
   "execution_count": 26,
   "metadata": {},
   "outputs": [
    {
     "data": {
      "text/plain": [
       "['bgg_ratings_merged_filtered.csv',\n",
       " 'bgg_ratings_merged_filtered_2015_10_500.csv',\n",
       " 'explicit_train.csv',\n",
       " 'games_data.csv',\n",
       " 'implicit_train.csv',\n",
       " 'leave_one_out_test.csv',\n",
       " 'leave_one_out_validation.csv',\n",
       " 'np_games_info.pkl',\n",
       " 'ratings_chunk_1.csv',\n",
       " 'ratings_chunk_2.csv',\n",
       " 'ratings_chunk_3.csv',\n",
       " 'ratings_chunk_4.csv',\n",
       " 'ratings_chunk_5.csv',\n",
       " 'tag_matrix.csr.npz',\n",
       " 'tag_matrix.npz',\n",
       " 'test_data_big',\n",
       " 'train_data_big.npz',\n",
       " 'val_data_big']"
      ]
     },
     "execution_count": 26,
     "metadata": {},
     "output_type": "execute_result"
    }
   ],
   "source": [
    "mypath = \"D:/0Studia/Data-Science-PW\\Masters-thesis/data/\"\n",
    "plot_savepath = \"D:/0Studia/Data-Science-PW/Masters-thesis/images/empirical_plots/statistics_related/\"\n",
    "onlyfiles = [f for f in listdir(mypath) if isfile(join(mypath, f))]\n",
    "onlyfiles"
   ]
  },
  {
   "cell_type": "code",
   "execution_count": 5,
   "metadata": {},
   "outputs": [
    {
     "name": "stdout",
     "output_type": "stream",
     "text": [
      "number of obs = 10994754\n"
     ]
    },
    {
     "data": {
      "text/html": [
       "<div>\n",
       "<style scoped>\n",
       "    .dataframe tbody tr th:only-of-type {\n",
       "        vertical-align: middle;\n",
       "    }\n",
       "\n",
       "    .dataframe tbody tr th {\n",
       "        vertical-align: top;\n",
       "    }\n",
       "\n",
       "    .dataframe thead th {\n",
       "        text-align: right;\n",
       "    }\n",
       "</style>\n",
       "<table border=\"1\" class=\"dataframe\">\n",
       "  <thead>\n",
       "    <tr style=\"text-align: right;\">\n",
       "      <th></th>\n",
       "      <th>Unnamed: 0</th>\n",
       "      <th>index</th>\n",
       "      <th>user_name</th>\n",
       "      <th>game_id</th>\n",
       "      <th>score</th>\n",
       "      <th>timestamp</th>\n",
       "      <th>stat_own</th>\n",
       "      <th>stat_preordered</th>\n",
       "      <th>stat_wishlist</th>\n",
       "      <th>stat_fortrade</th>\n",
       "      <th>stat_wanttoplay</th>\n",
       "      <th>stat_prevowned</th>\n",
       "      <th>stat_want</th>\n",
       "      <th>stat_wanttobuy</th>\n",
       "    </tr>\n",
       "  </thead>\n",
       "  <tbody>\n",
       "    <tr>\n",
       "      <th>0</th>\n",
       "      <td>0</td>\n",
       "      <td>1</td>\n",
       "      <td>hsjx945</td>\n",
       "      <td>1</td>\n",
       "      <td>8.0</td>\n",
       "      <td>2019-08-27 10:20:16</td>\n",
       "      <td>NaN</td>\n",
       "      <td>NaN</td>\n",
       "      <td>NaN</td>\n",
       "      <td>NaN</td>\n",
       "      <td>NaN</td>\n",
       "      <td>NaN</td>\n",
       "      <td>NaN</td>\n",
       "      <td>NaN</td>\n",
       "    </tr>\n",
       "    <tr>\n",
       "      <th>1</th>\n",
       "      <td>1</td>\n",
       "      <td>16859</td>\n",
       "      <td>hsjx945</td>\n",
       "      <td>3</td>\n",
       "      <td>7.3</td>\n",
       "      <td>2017-07-02 06:56:05</td>\n",
       "      <td>NaN</td>\n",
       "      <td>NaN</td>\n",
       "      <td>NaN</td>\n",
       "      <td>NaN</td>\n",
       "      <td>NaN</td>\n",
       "      <td>NaN</td>\n",
       "      <td>NaN</td>\n",
       "      <td>NaN</td>\n",
       "    </tr>\n",
       "    <tr>\n",
       "      <th>2</th>\n",
       "      <td>2</td>\n",
       "      <td>69289</td>\n",
       "      <td>hsjx945</td>\n",
       "      <td>5</td>\n",
       "      <td>0.0</td>\n",
       "      <td>2017-03-12 04:54:54</td>\n",
       "      <td>1.0</td>\n",
       "      <td>NaN</td>\n",
       "      <td>NaN</td>\n",
       "      <td>NaN</td>\n",
       "      <td>NaN</td>\n",
       "      <td>NaN</td>\n",
       "      <td>NaN</td>\n",
       "      <td>NaN</td>\n",
       "    </tr>\n",
       "  </tbody>\n",
       "</table>\n",
       "</div>"
      ],
      "text/plain": [
       "   Unnamed: 0  index user_name  game_id  score            timestamp  stat_own  \\\n",
       "0           0      1   hsjx945        1    8.0  2019-08-27 10:20:16       NaN   \n",
       "1           1  16859   hsjx945        3    7.3  2017-07-02 06:56:05       NaN   \n",
       "2           2  69289   hsjx945        5    0.0  2017-03-12 04:54:54       1.0   \n",
       "\n",
       "   stat_preordered  stat_wishlist  stat_fortrade  stat_wanttoplay  \\\n",
       "0              NaN            NaN            NaN              NaN   \n",
       "1              NaN            NaN            NaN              NaN   \n",
       "2              NaN            NaN            NaN              NaN   \n",
       "\n",
       "   stat_prevowned  stat_want  stat_wanttobuy  \n",
       "0             NaN        NaN             NaN  \n",
       "1             NaN        NaN             NaN  \n",
       "2             NaN        NaN             NaN  "
      ]
     },
     "execution_count": 5,
     "metadata": {},
     "output_type": "execute_result"
    }
   ],
   "source": [
    "df = pd.read_csv(mypath+\"bgg_ratings_merged_filtered_2015_10_500.csv\")\n",
    "print(f\"number of obs = {df.shape[0]}\")\n",
    "df.head(3)"
   ]
  },
  {
   "cell_type": "code",
   "execution_count": 6,
   "metadata": {},
   "outputs": [
    {
     "name": "stdout",
     "output_type": "stream",
     "text": [
      "User-game pair from df are unique.\n"
     ]
    }
   ],
   "source": [
    "df_grouped_shape = df.groupby([\"user_name\", \"game_id\"]).count().reset_index().shape\n",
    "\n",
    "if df_grouped_shape != df.shape:\n",
    "    print(\"User-game pair from df are not unique.\")\n",
    "else:\n",
    "    print(\"User-game pair from df are unique.\")"
   ]
  },
  {
   "cell_type": "markdown",
   "metadata": {},
   "source": [
    "## All data"
   ]
  },
  {
   "cell_type": "code",
   "execution_count": 7,
   "metadata": {},
   "outputs": [
    {
     "name": "stdout",
     "output_type": "stream",
     "text": [
      "109084 2265\n",
      "10994754\n"
     ]
    },
    {
     "data": {
      "text/plain": [
       "4.44996152184561"
      ]
     },
     "execution_count": 7,
     "metadata": {},
     "output_type": "execute_result"
    }
   ],
   "source": [
    "# sparsity \n",
    "unique_users = df.user_name.unique()\n",
    "unique_games = df.game_id.unique()\n",
    "print(len(unique_users), len(unique_games))\n",
    "print(df.shape[0])\n",
    "df.shape[0] / (len(unique_users) * len(unique_games)) * 100"
   ]
  },
  {
   "cell_type": "code",
   "execution_count": 10,
   "metadata": {},
   "outputs": [
    {
     "data": {
      "text/plain": [
       "Index(['stat_own', 'stat_preordered', 'stat_wishlist', 'stat_fortrade',\n",
       "       'stat_wanttoplay', 'stat_prevowned', 'stat_want', 'stat_wanttobuy'],\n",
       "      dtype='object')"
      ]
     },
     "execution_count": 10,
     "metadata": {},
     "output_type": "execute_result"
    }
   ],
   "source": []
  },
  {
   "cell_type": "code",
   "execution_count": 15,
   "metadata": {},
   "outputs": [
    {
     "data": {
      "image/png": "[encoded data removed]",
      "text/plain": [
       "<Figure size 936x432 with 1 Axes>"
      ]
     },
     "metadata": {
      "needs_background": "light"
     },
     "output_type": "display_data"
    }
   ],
   "source": [
    "stats_count = (df.iloc[:,6:].sum(axis=0) / 10**6).sort_values(ascending=False)\n",
    "\n",
    "plt.figure(figsize=(13,6))\n",
    "plt.bar(stats_count.index, height=stats_count.values)\n",
    "plt.title(\"overall number of different stats in milions\", fontsize=18)\n",
    "plt.ylabel(\"in milions\", fontsize=18)\n",
    "plt.xticks(rotation=45, fontsize=14)\n",
    "plt.show()"
   ]
  },
  {
   "cell_type": "code",
   "execution_count": null,
   "metadata": {},
   "outputs": [],
   "source": []
  },
  {
   "cell_type": "code",
   "execution_count": null,
   "metadata": {},
   "outputs": [],
   "source": []
  },
  {
   "cell_type": "code",
   "execution_count": null,
   "metadata": {},
   "outputs": [],
   "source": []
  },
  {
   "cell_type": "code",
   "execution_count": 30,
   "metadata": {},
   "outputs": [],
   "source": [
    "# Separating implicit and explicit feedback\n",
    "explicit = df[df.score!=0]\n",
    "implicit = df[df.score==0]"
   ]
  },
  {
   "cell_type": "code",
   "execution_count": 35,
   "metadata": {},
   "outputs": [],
   "source": [
    "implicit_users = (implicit.groupby(\"user_name\")\n",
    "                  .agg(implicit_intercations=(\"user_name\", \"count\"))\n",
    "                  .reset_index()\n",
    "                 )\n",
    "\n",
    "explicit_users = (explicit.groupby(\"user_name\")\n",
    "                  .agg(games_rated=(\"user_name\", \"count\"),\n",
    "                       highest_rating=(\"score\", \"max\"),\n",
    "                       avg_rating=(\"score\", \"mean\"),\n",
    "                       median_rating=(\"score\", \"median\"))\n",
    "                  .reset_index()\n",
    "                 )\n",
    "\n",
    "users = explicit_users.merge(implicit_users, on=\"user_name\")\n",
    "users[\"all_interactions\"] = users.games_rated + users.implicit_intercations"
   ]
  },
  {
   "cell_type": "code",
   "execution_count": 84,
   "metadata": {},
   "outputs": [
    {
     "data": {
      "image/png": "[encoded data removed]",
      "text/plain": [
       "<Figure size 864x432 with 1 Axes>"
      ]
     },
     "metadata": {
      "needs_background": "light"
     },
     "output_type": "display_data"
    }
   ],
   "source": [
    "cutoff = 300\n",
    "plt.figure(figsize=(12,6))\n",
    "\n",
    "sns.distplot(users.all_interactions[users.all_interactions<cutoff], kde=0, color=\"blue\")\n",
    "sns.distplot(users.games_rated[users.games_rated<cutoff], kde=0, color=\"green\", hist_kws={\"alpha\":0.5})\n",
    "sns.distplot(users.implicit_intercations[users.implicit_intercations<cutoff], kde=0, color=\"red\", hist_kws={\"alpha\":0.5})\n",
    "plt.legend([\"all interactions\", \"explicit intercations\", \"implicit interactions\"], fontsize=14)\n",
    "plt.title(\"Comparison of distributions for implicit, explicit and all interactions\", fontsize=19)\n",
    "plt.xlabel(\"number of interactions\", fontsize=17)\n",
    "plt.savefig(plot_savepath+\"datasets-ratings-distribution.png\")\n",
    "plt.show()"
   ]
  },
  {
   "cell_type": "markdown",
   "metadata": {},
   "source": [
    "## Explicit feedback"
   ]
  },
  {
   "cell_type": "code",
   "execution_count": 13,
   "metadata": {},
   "outputs": [
    {
     "name": "stdout",
     "output_type": "stream",
     "text": [
      "6079248\n"
     ]
    },
    {
     "data": {
      "text/plain": [
       "2.460484307494"
      ]
     },
     "execution_count": 13,
     "metadata": {},
     "output_type": "execute_result"
    }
   ],
   "source": [
    "# sparsity\n",
    "print(explicit.shape[0])\n",
    "explicit.shape[0] / (len(unique_users) * len(unique_games)) * 100"
   ]
  },
  {
   "cell_type": "code",
   "execution_count": 29,
   "metadata": {},
   "outputs": [
    {
     "data": {
      "image/png": "[encoded data removed]",
      "text/plain": [
       "<Figure size 576x360 with 1 Axes>"
      ]
     },
     "metadata": {
      "needs_background": "light"
     },
     "output_type": "display_data"
    }
   ],
   "source": [
    "stats_count = explicit.iloc[:,6:].sum(axis=0) / 10**6\n",
    "\n",
    "plt.figure(figsize=(8,5))\n",
    "plt.plot(stats_count, \"o\")\n",
    "plt.title(\"overall number of different stats in milions\", fontsize=18)\n",
    "plt.ylabel(\"in milions\")\n",
    "plt.xticks(rotation=45)\n",
    "plt.show()"
   ]
  },
  {
   "cell_type": "markdown",
   "metadata": {},
   "source": [
    "### Rating distribution"
   ]
  },
  {
   "cell_type": "code",
   "execution_count": 31,
   "metadata": {},
   "outputs": [
    {
     "data": {
      "text/plain": [
       "9.188110108355508"
      ]
     },
     "execution_count": 31,
     "metadata": {},
     "output_type": "execute_result"
    }
   ],
   "source": [
    "len(explicit[explicit.score<=5]) / len(explicit) * 100"
   ]
  },
  {
   "cell_type": "code",
   "execution_count": 33,
   "metadata": {},
   "outputs": [
    {
     "data": {
      "image/png": "[encoded data removed]",
      "text/plain": [
       "<Figure size 1008x432 with 1 Axes>"
      ]
     },
     "metadata": {
      "needs_background": "light"
     },
     "output_type": "display_data"
    },
    {
     "name": "stdout",
     "output_type": "stream",
     "text": [
      "Median of the ratings = 7.0\n",
      "Average rating = 7.31\n"
     ]
    }
   ],
   "source": [
    "r_mean = explicit.score.mean()\n",
    "r_median = round(explicit.score).median()\n",
    "\n",
    "plt.figure(figsize=(14, 6))\n",
    "#plt.title(\"Rating distribution\", fontsize=19)\n",
    "sns.distplot(round(explicit.score), kde=0)\n",
    "plt.axvline(r_mean, color = \"red\")\n",
    "plt.legend([\"mean\"], fontsize=14)\n",
    "plt.ylabel(\"number of ratings\", fontsize=17)\n",
    "plt.xlabel(\"score\", fontsize=17)\n",
    "plt.xticks(range(1,11), fontsize=16)\n",
    "plt.savefig(plot_savepath+\"explicit-rating-distribution.jpg\")\n",
    "plt.show()\n",
    "\n",
    "print(f\"Median of the ratings = {r_median}\")\n",
    "print(f\"Average rating = {round(r_mean,2)}\")"
   ]
  },
  {
   "cell_type": "markdown",
   "metadata": {},
   "source": [
    "### Users "
   ]
  },
  {
   "cell_type": "code",
   "execution_count": 68,
   "metadata": {},
   "outputs": [
    {
     "name": "stdout",
     "output_type": "stream",
     "text": [
      "Quantile 0.1 : 13.0\n",
      "Quantile 0.2 : 17.0\n",
      "Quantile 0.3 : 21.0\n",
      "Quantile 0.4 : 27.0\n",
      "Quantile 0.5 : 34.0\n",
      "Quantile 0.6 : 43.0\n",
      "Quantile 0.7 : 57.0\n",
      "Quantile 0.8 : 78.0\n",
      "Quantile 0.9 : 124.0\n"
     ]
    }
   ],
   "source": [
    "for i in np.arange(0.1, 1, 0.1):\n",
    "    print(\"Quantile\", round(i,2), \":\",explicit_users.games_rated.quantile(i))"
   ]
  },
  {
   "cell_type": "code",
   "execution_count": 48,
   "metadata": {},
   "outputs": [
    {
     "name": "stdout",
     "output_type": "stream",
     "text": [
      "There are 4056 users with more than 200 games rated.\n"
     ]
    },
    {
     "data": {
      "image/png": "[encoded data removed]",
      "text/plain": [
       "<Figure size 1440x864 with 4 Axes>"
      ]
     },
     "metadata": {
      "needs_background": "light"
     },
     "output_type": "display_data"
    }
   ],
   "source": [
    "cutoff = 10\n",
    "print(f\"There are {len(explicit_users[explicit_users.games_rated>200])} users with more than 200 games rated.\")\n",
    "\n",
    "plt.figure(figsize=(20,12))\n",
    "\n",
    "plt.subplot(221)\n",
    "ax = sns.distplot(explicit_users.games_rated[explicit_users.games_rated<=200], kde=0)\n",
    "plt.axvline(cutoff, color=\"red\")\n",
    "plt.ylabel(\"number of rated games\", fontsize=14)\n",
    "plt.yticks(fontsize=13)\n",
    "x_ticks = [0, 10] + [25*i for i in range(1,9)]\n",
    "plt.xticks(x_ticks, fontsize=13)\n",
    "plt.xlabel(\"user count\", fontsize=14)\n",
    "#plt.title(\"Distribution of number of games rated, without long tail (cutoff=200)\", fontsize=16)\n",
    "plt.legend([\"cutoff=10\"], fontsize=15)\n",
    "\n",
    "plt.subplot(222)\n",
    "ax = sns.distplot(explicit_users[explicit_users.games_rated<=200].games_rated, kde=0)\n",
    "ax.set_yscale('log')\n",
    "plt.axvline(cutoff, color=\"red\")\n",
    "plt.yticks(fontsize=13)\n",
    "plt.legend([\"cutoff=10\"], fontsize=15)\n",
    "plt.ylabel(\"log of number of rated games\", fontsize=14)\n",
    "x_ticks = [0, 10] + [25*i for i in range(1,9)]\n",
    "plt.xticks(x_ticks, fontsize=13)\n",
    "plt.xlabel(\"user count\", fontsize=14)\n",
    "#plt.title(\"Distribution of log number of games rated, without long tail\", fontsize=16)\n",
    "\n",
    "plt.subplot(223)\n",
    "sns.distplot(explicit_users.avg_rating, kde=0)\n",
    "plt.ylabel(\"count\", fontsize=14)\n",
    "plt.xlabel(\"score average\", fontsize=14)\n",
    "plt.yticks(fontsize=13)\n",
    "x_ticks = range(1,11)\n",
    "plt.xticks(x_ticks, fontsize=13)\n",
    "#plt.title(\"Distribution of avg_rating for users\", fontsize=16)\n",
    "\n",
    "plt.subplot(224)\n",
    "median_data_users = explicit_users.median_rating.apply(lambda x: round(x))\n",
    "median_data_users = median_data_users.value_counts()\n",
    "plt.bar(median_data_users.index, height=median_data_users.values)\n",
    "plt.xlabel(\"score median\", fontsize=14)\n",
    "plt.ylabel(\"count\", fontsize=14)\n",
    "plt.yticks(fontsize=13)\n",
    "x_ticks = range(1,11)\n",
    "plt.xticks(x_ticks, fontsize=13)\n",
    "#plt.title(\"Distribution of mediain rating for users\", fontsize=16)\n",
    "\n",
    "plt.show()"
   ]
  },
  {
   "cell_type": "code",
   "execution_count": 10,
   "metadata": {},
   "outputs": [
    {
     "data": {
      "image/png": "[encoded data removed]",
      "text/plain": [
       "<Figure size 612x324 with 1 Axes>"
      ]
     },
     "metadata": {
      "needs_background": "light"
     },
     "output_type": "display_data"
    },
    {
     "name": "stdout",
     "output_type": "stream",
     "text": [
      "Number of users with highest ratings lower than 7 is equal to 6 (out of 10 users).\n"
     ]
    }
   ],
   "source": [
    "plt.figure(figsize=(8.5,4.5))\n",
    "highest_rating_dist = explicit_users.highest_rating.apply(lambda x: round(x)).value_counts()\n",
    "sns.barplot(x=highest_rating_dist.index, y=highest_rating_dist.values)\n",
    "plt.title(\"Distribution for max rating value among the users\", fontsize=18)\n",
    "plt.ylabel(\"count\")\n",
    "plt.xlabel(\"max rating value\")\n",
    "plt.show()\n",
    "\n",
    "low_max = highest_rating_dist[highest_rating_dist < 7].count()\n",
    "print(f\"Number of users with highest ratings lower than 7 is equal to {low_max} (out of {len(highest_rating_dist)} users).\")"
   ]
  },
  {
   "cell_type": "markdown",
   "metadata": {},
   "source": [
    "## Implicit feedback"
   ]
  },
  {
   "cell_type": "code",
   "execution_count": 18,
   "metadata": {},
   "outputs": [
    {
     "name": "stdout",
     "output_type": "stream",
     "text": [
      "96173 2265\n",
      "4915506\n"
     ]
    },
    {
     "data": {
      "text/plain": [
       "2.256559870757189"
      ]
     },
     "execution_count": 18,
     "metadata": {},
     "output_type": "execute_result"
    }
   ],
   "source": [
    "implicit_unique_users = implicit.user_name.unique()\n",
    "implicit_unique_games = implicit.game_id.unique()\n",
    "print(len(implicit_unique_users), len(implicit_unique_games))\n",
    "print(implicit.shape[0])\n",
    "implicit.shape[0] / (len(implicit_unique_users)  * len(implicit_unique_games)) * 100"
   ]
  },
  {
   "cell_type": "code",
   "execution_count": 81,
   "metadata": {},
   "outputs": [
    {
     "data": {
      "text/html": [
       "<div>\n",
       "<style scoped>\n",
       "    .dataframe tbody tr th:only-of-type {\n",
       "        vertical-align: middle;\n",
       "    }\n",
       "\n",
       "    .dataframe tbody tr th {\n",
       "        vertical-align: top;\n",
       "    }\n",
       "\n",
       "    .dataframe thead th {\n",
       "        text-align: right;\n",
       "    }\n",
       "</style>\n",
       "<table border=\"1\" class=\"dataframe\">\n",
       "  <thead>\n",
       "    <tr style=\"text-align: right;\">\n",
       "      <th></th>\n",
       "      <th>Unnamed: 0</th>\n",
       "      <th>index</th>\n",
       "      <th>user_name</th>\n",
       "      <th>game_id</th>\n",
       "      <th>score</th>\n",
       "      <th>timestamp</th>\n",
       "      <th>stat_own</th>\n",
       "      <th>stat_preordered</th>\n",
       "      <th>stat_wishlist</th>\n",
       "      <th>stat_fortrade</th>\n",
       "      <th>stat_wanttoplay</th>\n",
       "      <th>stat_prevowned</th>\n",
       "      <th>stat_want</th>\n",
       "      <th>stat_wanttobuy</th>\n",
       "    </tr>\n",
       "  </thead>\n",
       "  <tbody>\n",
       "    <tr>\n",
       "      <th>2</th>\n",
       "      <td>2</td>\n",
       "      <td>69289</td>\n",
       "      <td>hsjx945</td>\n",
       "      <td>5</td>\n",
       "      <td>0.0</td>\n",
       "      <td>2017-03-12 04:54:54</td>\n",
       "      <td>1.0</td>\n",
       "      <td>NaN</td>\n",
       "      <td>NaN</td>\n",
       "      <td>NaN</td>\n",
       "      <td>NaN</td>\n",
       "      <td>NaN</td>\n",
       "      <td>NaN</td>\n",
       "      <td>NaN</td>\n",
       "    </tr>\n",
       "    <tr>\n",
       "      <th>5</th>\n",
       "      <td>5</td>\n",
       "      <td>512598</td>\n",
       "      <td>hsjx945</td>\n",
       "      <td>42</td>\n",
       "      <td>0.0</td>\n",
       "      <td>2017-12-26 10:31:59</td>\n",
       "      <td>NaN</td>\n",
       "      <td>NaN</td>\n",
       "      <td>NaN</td>\n",
       "      <td>NaN</td>\n",
       "      <td>1.0</td>\n",
       "      <td>NaN</td>\n",
       "      <td>NaN</td>\n",
       "      <td>NaN</td>\n",
       "    </tr>\n",
       "    <tr>\n",
       "      <th>13</th>\n",
       "      <td>13</td>\n",
       "      <td>6481883</td>\n",
       "      <td>hsjx945</td>\n",
       "      <td>4098</td>\n",
       "      <td>0.0</td>\n",
       "      <td>2019-03-22 19:22:06</td>\n",
       "      <td>1.0</td>\n",
       "      <td>NaN</td>\n",
       "      <td>NaN</td>\n",
       "      <td>NaN</td>\n",
       "      <td>NaN</td>\n",
       "      <td>NaN</td>\n",
       "      <td>NaN</td>\n",
       "      <td>NaN</td>\n",
       "    </tr>\n",
       "    <tr>\n",
       "      <th>17</th>\n",
       "      <td>17</td>\n",
       "      <td>9456405</td>\n",
       "      <td>hsjx945</td>\n",
       "      <td>12333</td>\n",
       "      <td>0.0</td>\n",
       "      <td>2017-02-11 05:37:30</td>\n",
       "      <td>1.0</td>\n",
       "      <td>NaN</td>\n",
       "      <td>NaN</td>\n",
       "      <td>NaN</td>\n",
       "      <td>NaN</td>\n",
       "      <td>NaN</td>\n",
       "      <td>NaN</td>\n",
       "      <td>NaN</td>\n",
       "    </tr>\n",
       "    <tr>\n",
       "      <th>19</th>\n",
       "      <td>19</td>\n",
       "      <td>1362280</td>\n",
       "      <td>hsjx945</td>\n",
       "      <td>19777</td>\n",
       "      <td>0.0</td>\n",
       "      <td>2017-06-02 05:57:39</td>\n",
       "      <td>NaN</td>\n",
       "      <td>NaN</td>\n",
       "      <td>NaN</td>\n",
       "      <td>NaN</td>\n",
       "      <td>1.0</td>\n",
       "      <td>NaN</td>\n",
       "      <td>NaN</td>\n",
       "      <td>NaN</td>\n",
       "    </tr>\n",
       "  </tbody>\n",
       "</table>\n",
       "</div>"
      ],
      "text/plain": [
       "    Unnamed: 0    index user_name  game_id  score            timestamp  \\\n",
       "2            2    69289   hsjx945        5    0.0  2017-03-12 04:54:54   \n",
       "5            5   512598   hsjx945       42    0.0  2017-12-26 10:31:59   \n",
       "13          13  6481883   hsjx945     4098    0.0  2019-03-22 19:22:06   \n",
       "17          17  9456405   hsjx945    12333    0.0  2017-02-11 05:37:30   \n",
       "19          19  1362280   hsjx945    19777    0.0  2017-06-02 05:57:39   \n",
       "\n",
       "    stat_own  stat_preordered  stat_wishlist  stat_fortrade  stat_wanttoplay  \\\n",
       "2        1.0              NaN            NaN            NaN              NaN   \n",
       "5        NaN              NaN            NaN            NaN              1.0   \n",
       "13       1.0              NaN            NaN            NaN              NaN   \n",
       "17       1.0              NaN            NaN            NaN              NaN   \n",
       "19       NaN              NaN            NaN            NaN              1.0   \n",
       "\n",
       "    stat_prevowned  stat_want  stat_wanttobuy  \n",
       "2              NaN        NaN             NaN  \n",
       "5              NaN        NaN             NaN  \n",
       "13             NaN        NaN             NaN  \n",
       "17             NaN        NaN             NaN  \n",
       "19             NaN        NaN             NaN  "
      ]
     },
     "execution_count": 81,
     "metadata": {},
     "output_type": "execute_result"
    }
   ],
   "source": [
    "implicit.head()"
   ]
  },
  {
   "cell_type": "code",
   "execution_count": 27,
   "metadata": {},
   "outputs": [
    {
     "data": {
      "image/png": "[encoded data removed]",
      "text/plain": [
       "<Figure size 576x360 with 1 Axes>"
      ]
     },
     "metadata": {
      "needs_background": "light"
     },
     "output_type": "display_data"
    }
   ],
   "source": [
    "stats_count = (df.iloc[:,6:].sum(axis=0) / 10**6).sort_values(ascending=False)\n",
    "\n",
    "plt.figure(figsize=(8,5))\n",
    "plt.bar(stats_count.index, height=stats_count.values)\n",
    "#plt.title(\"Overall number of different stats, Implicit dataset\", fontsize=18)\n",
    "plt.ylabel(\"count in milions\", fontsize=14)\n",
    "plt.xticks(rotation=45, fontsize=12)\n",
    "plt.savefig(plot_savepath+\"implicit-stats.png\")\n",
    "plt.show()"
   ]
  },
  {
   "cell_type": "code",
   "execution_count": 80,
   "metadata": {},
   "outputs": [
    {
     "data": {
      "text/plain": [
       "stat_own           2.647337\n",
       "stat_preordered    0.040112\n",
       "stat_wishlist      0.950444\n",
       "stat_fortrade      0.072411\n",
       "stat_wanttoplay    0.595270\n",
       "stat_prevowned     0.228208\n",
       "stat_want          0.227053\n",
       "stat_wanttobuy     0.170565\n",
       "dtype: float64"
      ]
     },
     "execution_count": 80,
     "metadata": {},
     "output_type": "execute_result"
    }
   ],
   "source": [
    "stats_count"
   ]
  },
  {
   "cell_type": "code",
   "execution_count": 74,
   "metadata": {},
   "outputs": [
    {
     "data": {
      "text/plain": [
       "(4931400.0, 4915506)"
      ]
     },
     "execution_count": 74,
     "metadata": {},
     "output_type": "execute_result"
    }
   ],
   "source": [
    "stats_count.sum()*10**6, implicit.shape[0]"
   ]
  },
  {
   "cell_type": "code",
   "execution_count": 78,
   "metadata": {},
   "outputs": [
    {
     "data": {
      "text/plain": [
       "48          0.0\n",
       "50          0.0\n",
       "58          0.0\n",
       "104         0.0\n",
       "227         0.0\n",
       "           ... \n",
       "10993500    0.0\n",
       "10993602    0.0\n",
       "10993969    0.0\n",
       "10994478    0.0\n",
       "10994635    0.0\n",
       "Length: 465526, dtype: float64"
      ]
     },
     "execution_count": 78,
     "metadata": {},
     "output_type": "execute_result"
    }
   ],
   "source": [
    "tmp = implicit.iloc[:,6:].sum(axis=1)\n",
    "tmp[tmp==0]"
   ]
  },
  {
   "cell_type": "markdown",
   "metadata": {},
   "source": [
    "## Games"
   ]
  },
  {
   "cell_type": "code",
   "execution_count": 24,
   "metadata": {},
   "outputs": [
    {
     "data": {
      "text/html": [
       "<div>\n",
       "<style scoped>\n",
       "    .dataframe tbody tr th:only-of-type {\n",
       "        vertical-align: middle;\n",
       "    }\n",
       "\n",
       "    .dataframe tbody tr th {\n",
       "        vertical-align: top;\n",
       "    }\n",
       "\n",
       "    .dataframe thead th {\n",
       "        text-align: right;\n",
       "    }\n",
       "</style>\n",
       "<table border=\"1\" class=\"dataframe\">\n",
       "  <thead>\n",
       "    <tr style=\"text-align: right;\">\n",
       "      <th></th>\n",
       "      <th>Unnamed: 0</th>\n",
       "      <th>game_id</th>\n",
       "      <th>game_name</th>\n",
       "      <th>type</th>\n",
       "      <th>category</th>\n",
       "    </tr>\n",
       "  </thead>\n",
       "  <tbody>\n",
       "    <tr>\n",
       "      <th>0</th>\n",
       "      <td>1</td>\n",
       "      <td>1</td>\n",
       "      <td>Die Macher</td>\n",
       "      <td>['Strategy']</td>\n",
       "      <td>['Economic', 'Negotiation', 'Political']</td>\n",
       "    </tr>\n",
       "    <tr>\n",
       "      <th>1</th>\n",
       "      <td>2</td>\n",
       "      <td>2</td>\n",
       "      <td>Dragonmaster</td>\n",
       "      <td>['Strategy']</td>\n",
       "      <td>['Card Game', 'Fantasy']</td>\n",
       "    </tr>\n",
       "    <tr>\n",
       "      <th>2</th>\n",
       "      <td>3</td>\n",
       "      <td>3</td>\n",
       "      <td>Samurai</td>\n",
       "      <td>['Strategy']</td>\n",
       "      <td>['Abstract Strategy', 'Medieval']</td>\n",
       "    </tr>\n",
       "    <tr>\n",
       "      <th>3</th>\n",
       "      <td>4</td>\n",
       "      <td>4</td>\n",
       "      <td>Tal der Könige</td>\n",
       "      <td>[None]</td>\n",
       "      <td>['Ancient']</td>\n",
       "    </tr>\n",
       "    <tr>\n",
       "      <th>4</th>\n",
       "      <td>5</td>\n",
       "      <td>5</td>\n",
       "      <td>Acquire</td>\n",
       "      <td>['Strategy']</td>\n",
       "      <td>['Economic']</td>\n",
       "    </tr>\n",
       "  </tbody>\n",
       "</table>\n",
       "</div>"
      ],
      "text/plain": [
       "   Unnamed: 0  game_id       game_name          type  \\\n",
       "0           1        1      Die Macher  ['Strategy']   \n",
       "1           2        2    Dragonmaster  ['Strategy']   \n",
       "2           3        3         Samurai  ['Strategy']   \n",
       "3           4        4  Tal der Könige        [None]   \n",
       "4           5        5         Acquire  ['Strategy']   \n",
       "\n",
       "                                   category  \n",
       "0  ['Economic', 'Negotiation', 'Political']  \n",
       "1                  ['Card Game', 'Fantasy']  \n",
       "2         ['Abstract Strategy', 'Medieval']  \n",
       "3                               ['Ancient']  \n",
       "4                              ['Economic']  "
      ]
     },
     "execution_count": 24,
     "metadata": {},
     "output_type": "execute_result"
    }
   ],
   "source": [
    "games = pd.read_csv(\"/home/mmarzec12/data/games_data.csv\")\n",
    "games.head()"
   ]
  },
  {
   "cell_type": "code",
   "execution_count": 29,
   "metadata": {},
   "outputs": [],
   "source": [
    "all_categories = set()\n",
    "cats = games.category\n",
    "for row in cats:\n",
    "    for s in row[1:-1].split(\", \"):\n",
    "        all_categories.add(s.rstrip(\",\").strip(\"'\"))\n",
    "        \n",
    "all_categories.remove('')"
   ]
  },
  {
   "cell_type": "code",
   "execution_count": 35,
   "metadata": {},
   "outputs": [
    {
     "data": {
      "text/plain": [
       "85"
      ]
     },
     "execution_count": 35,
     "metadata": {},
     "output_type": "execute_result"
    }
   ],
   "source": [
    "len(all_categories)"
   ]
  },
  {
   "cell_type": "code",
   "execution_count": 30,
   "metadata": {},
   "outputs": [],
   "source": [
    "\n"
   ]
  },
  {
   "cell_type": "code",
   "execution_count": null,
   "metadata": {},
   "outputs": [],
   "source": []
  },
  {
   "cell_type": "code",
   "execution_count": 11,
   "metadata": {},
   "outputs": [
    {
     "name": "stdout",
     "output_type": "stream",
     "text": [
      "Economic\n",
      "Negotiation\n",
      "Political\n"
     ]
    }
   ],
   "source": [
    "s = games.category[0]\n",
    "\n",
    "for i in s[1:-1].split():\n",
    "    print(i.rstrip(\",\").strip(\"'\"))"
   ]
  },
  {
   "cell_type": "code",
   "execution_count": 7,
   "metadata": {},
   "outputs": [
    {
     "data": {
      "text/plain": [
       "\"['Economic', 'Negotiation', 'Political']\""
      ]
     },
     "execution_count": 7,
     "metadata": {},
     "output_type": "execute_result"
    }
   ],
   "source": [
    "s"
   ]
  },
  {
   "cell_type": "code",
   "execution_count": null,
   "metadata": {
    "collapsed": true,
    "jupyter": {
     "outputs_hidden": true
    }
   },
   "outputs": [],
   "source": [
    "#df[\"timestamp\"] = pd.to_datetime(df.timestamp, format=\"%Y-%m-%d %H:%M:%S\")\n",
    "#df[\"rating_year\"] = df.timestamp.dt.year\n",
    "\n",
    "\n",
    "# yearly = df.groupby(\"rating_year\").agg(ratings_count=(\"timestamp\", \"count\"),\n",
    "#                                       avg_rating=(\"score\", \"mean\")).reset_index()\n",
    "\n",
    "#plt.plot(yearly.rating_year[:-1], yearly.ratings_count[:-1], lw=4)\n",
    "#plt.title(\"Number of ratings in given year\")\n",
    "#plt.xticks(yearly.rating_year[:-1], rotation=45)\n",
    "#plt.show()\n",
    "\n",
    "#plt.plot(yearly.rating_year[:-1], yearly.avg_rating[:-1], lw=4)\n",
    "#plt.title(\"Average rating value in given year\")\n",
    "#plt.xticks(yearly.rating_year[:-1], rotation=45)\n",
    "#plt.show()"
   ]
  },
  {
   "cell_type": "markdown",
   "metadata": {},
   "source": [
    "## Validation set"
   ]
  },
  {
   "cell_type": "code",
   "execution_count": 11,
   "metadata": {},
   "outputs": [
    {
     "data": {
      "text/plain": [
       "9.390427353415742"
      ]
     },
     "execution_count": 11,
     "metadata": {},
     "output_type": "execute_result"
    }
   ],
   "source": [
    "mypath = \"/home/mmarzec12/data/\"\n",
    "explicit = pd.read_csv(mypath+\"explicit_train.csv\")\n",
    "implicit = pd.read_csv(mypath+\"implicit_train.csv\")\n",
    "\n",
    "n_games = len(explicit.game_id.unique())\n",
    "\n",
    "validation = pd.read_csv(mypath+\"leave_one_out_validation.csv\")\n",
    "validation.score.mean()"
   ]
  },
  {
   "cell_type": "code",
   "execution_count": 12,
   "metadata": {},
   "outputs": [
    {
     "data": {
      "text/plain": [
       "((5861080, 3), (4915506, 14))"
      ]
     },
     "execution_count": 12,
     "metadata": {},
     "output_type": "execute_result"
    }
   ],
   "source": [
    "explicit.shape, implicit.shape"
   ]
  },
  {
   "cell_type": "code",
   "execution_count": 15,
   "metadata": {},
   "outputs": [
    {
     "data": {
      "text/html": [
       "<div>\n",
       "<style scoped>\n",
       "    .dataframe tbody tr th:only-of-type {\n",
       "        vertical-align: middle;\n",
       "    }\n",
       "\n",
       "    .dataframe tbody tr th {\n",
       "        vertical-align: top;\n",
       "    }\n",
       "\n",
       "    .dataframe thead th {\n",
       "        text-align: right;\n",
       "    }\n",
       "</style>\n",
       "<table border=\"1\" class=\"dataframe\">\n",
       "  <thead>\n",
       "    <tr style=\"text-align: right;\">\n",
       "      <th></th>\n",
       "      <th>Unnamed: 0</th>\n",
       "      <th>index</th>\n",
       "      <th>user_name</th>\n",
       "      <th>game_id</th>\n",
       "      <th>score</th>\n",
       "      <th>timestamp</th>\n",
       "      <th>stat_own</th>\n",
       "      <th>stat_preordered</th>\n",
       "      <th>stat_wishlist</th>\n",
       "      <th>stat_fortrade</th>\n",
       "      <th>stat_wanttoplay</th>\n",
       "      <th>stat_prevowned</th>\n",
       "      <th>stat_want</th>\n",
       "      <th>stat_wanttobuy</th>\n",
       "    </tr>\n",
       "  </thead>\n",
       "  <tbody>\n",
       "    <tr>\n",
       "      <th>0</th>\n",
       "      <td>2</td>\n",
       "      <td>69289</td>\n",
       "      <td>hsjx945</td>\n",
       "      <td>5</td>\n",
       "      <td>0.0</td>\n",
       "      <td>2017-03-12 04:54:54</td>\n",
       "      <td>1.0</td>\n",
       "      <td>NaN</td>\n",
       "      <td>NaN</td>\n",
       "      <td>NaN</td>\n",
       "      <td>NaN</td>\n",
       "      <td>NaN</td>\n",
       "      <td>NaN</td>\n",
       "      <td>NaN</td>\n",
       "    </tr>\n",
       "    <tr>\n",
       "      <th>1</th>\n",
       "      <td>5</td>\n",
       "      <td>512598</td>\n",
       "      <td>hsjx945</td>\n",
       "      <td>42</td>\n",
       "      <td>0.0</td>\n",
       "      <td>2017-12-26 10:31:59</td>\n",
       "      <td>NaN</td>\n",
       "      <td>NaN</td>\n",
       "      <td>NaN</td>\n",
       "      <td>NaN</td>\n",
       "      <td>1.0</td>\n",
       "      <td>NaN</td>\n",
       "      <td>NaN</td>\n",
       "      <td>NaN</td>\n",
       "    </tr>\n",
       "    <tr>\n",
       "      <th>2</th>\n",
       "      <td>13</td>\n",
       "      <td>6481883</td>\n",
       "      <td>hsjx945</td>\n",
       "      <td>4098</td>\n",
       "      <td>0.0</td>\n",
       "      <td>2019-03-22 19:22:06</td>\n",
       "      <td>1.0</td>\n",
       "      <td>NaN</td>\n",
       "      <td>NaN</td>\n",
       "      <td>NaN</td>\n",
       "      <td>NaN</td>\n",
       "      <td>NaN</td>\n",
       "      <td>NaN</td>\n",
       "      <td>NaN</td>\n",
       "    </tr>\n",
       "    <tr>\n",
       "      <th>3</th>\n",
       "      <td>17</td>\n",
       "      <td>9456405</td>\n",
       "      <td>hsjx945</td>\n",
       "      <td>12333</td>\n",
       "      <td>0.0</td>\n",
       "      <td>2017-02-11 05:37:30</td>\n",
       "      <td>1.0</td>\n",
       "      <td>NaN</td>\n",
       "      <td>NaN</td>\n",
       "      <td>NaN</td>\n",
       "      <td>NaN</td>\n",
       "      <td>NaN</td>\n",
       "      <td>NaN</td>\n",
       "      <td>NaN</td>\n",
       "    </tr>\n",
       "    <tr>\n",
       "      <th>4</th>\n",
       "      <td>19</td>\n",
       "      <td>1362280</td>\n",
       "      <td>hsjx945</td>\n",
       "      <td>19777</td>\n",
       "      <td>0.0</td>\n",
       "      <td>2017-06-02 05:57:39</td>\n",
       "      <td>NaN</td>\n",
       "      <td>NaN</td>\n",
       "      <td>NaN</td>\n",
       "      <td>NaN</td>\n",
       "      <td>1.0</td>\n",
       "      <td>NaN</td>\n",
       "      <td>NaN</td>\n",
       "      <td>NaN</td>\n",
       "    </tr>\n",
       "  </tbody>\n",
       "</table>\n",
       "</div>"
      ],
      "text/plain": [
       "   Unnamed: 0    index user_name  game_id  score            timestamp  \\\n",
       "0           2    69289   hsjx945        5    0.0  2017-03-12 04:54:54   \n",
       "1           5   512598   hsjx945       42    0.0  2017-12-26 10:31:59   \n",
       "2          13  6481883   hsjx945     4098    0.0  2019-03-22 19:22:06   \n",
       "3          17  9456405   hsjx945    12333    0.0  2017-02-11 05:37:30   \n",
       "4          19  1362280   hsjx945    19777    0.0  2017-06-02 05:57:39   \n",
       "\n",
       "   stat_own  stat_preordered  stat_wishlist  stat_fortrade  stat_wanttoplay  \\\n",
       "0       1.0              NaN            NaN            NaN              NaN   \n",
       "1       NaN              NaN            NaN            NaN              1.0   \n",
       "2       1.0              NaN            NaN            NaN              NaN   \n",
       "3       1.0              NaN            NaN            NaN              NaN   \n",
       "4       NaN              NaN            NaN            NaN              1.0   \n",
       "\n",
       "   stat_prevowned  stat_want  stat_wanttobuy  \n",
       "0             NaN        NaN             NaN  \n",
       "1             NaN        NaN             NaN  \n",
       "2             NaN        NaN             NaN  \n",
       "3             NaN        NaN             NaN  \n",
       "4             NaN        NaN             NaN  "
      ]
     },
     "execution_count": 15,
     "metadata": {},
     "output_type": "execute_result"
    }
   ],
   "source": [
    "implicit.head()"
   ]
  },
  {
   "cell_type": "code",
   "execution_count": 14,
   "metadata": {},
   "outputs": [
    {
     "data": {
      "text/html": [
       "<div>\n",
       "<style scoped>\n",
       "    .dataframe tbody tr th:only-of-type {\n",
       "        vertical-align: middle;\n",
       "    }\n",
       "\n",
       "    .dataframe tbody tr th {\n",
       "        vertical-align: top;\n",
       "    }\n",
       "\n",
       "    .dataframe thead th {\n",
       "        text-align: right;\n",
       "    }\n",
       "</style>\n",
       "<table border=\"1\" class=\"dataframe\">\n",
       "  <thead>\n",
       "    <tr style=\"text-align: right;\">\n",
       "      <th></th>\n",
       "      <th>user_name</th>\n",
       "      <th>game_id</th>\n",
       "      <th>score_x</th>\n",
       "      <th>Unnamed: 0</th>\n",
       "      <th>index</th>\n",
       "      <th>score_y</th>\n",
       "      <th>timestamp</th>\n",
       "      <th>stat_own</th>\n",
       "      <th>stat_preordered</th>\n",
       "      <th>stat_wishlist</th>\n",
       "      <th>stat_fortrade</th>\n",
       "      <th>stat_wanttoplay</th>\n",
       "      <th>stat_prevowned</th>\n",
       "      <th>stat_want</th>\n",
       "      <th>stat_wanttobuy</th>\n",
       "    </tr>\n",
       "  </thead>\n",
       "  <tbody>\n",
       "  </tbody>\n",
       "</table>\n",
       "</div>"
      ],
      "text/plain": [
       "Empty DataFrame\n",
       "Columns: [user_name, game_id, score_x, Unnamed: 0, index, score_y, timestamp, stat_own, stat_preordered, stat_wishlist, stat_fortrade, stat_wanttoplay, stat_prevowned, stat_want, stat_wanttobuy]\n",
       "Index: []"
      ]
     },
     "execution_count": 14,
     "metadata": {},
     "output_type": "execute_result"
    }
   ],
   "source": [
    "explicit.merge(implicit, on=[\"game_id\", \"user_name\"])"
   ]
  },
  {
   "cell_type": "code",
   "execution_count": 17,
   "metadata": {},
   "outputs": [
    {
     "data": {
      "text/plain": [
       "9.627370842653411"
      ]
     },
     "execution_count": 17,
     "metadata": {},
     "output_type": "execute_result"
    }
   ],
   "source": [
    "test = pd.read_csv(mypath+\"leave_one_out_test.csv\")\n",
    "test.score.mean()"
   ]
  },
  {
   "cell_type": "markdown",
   "metadata": {},
   "source": [
    "**WHY?**<br/>\n",
    "Here I want to check if by removing one highest rating I will not remove substantial amount of ratings for specific game. Because I do this two times, it can affect the amount of ratings that some games have (like a game that is super highly rated but is hard to get, so in consequence there is not much ratings for this game)."
   ]
  },
  {
   "cell_type": "code",
   "execution_count": 18,
   "metadata": {},
   "outputs": [],
   "source": [
    "total_count = pd.DataFrame(df.game_id.value_counts()).reset_index()\n",
    "validation_count = pd.DataFrame(validation.game_id.value_counts()).reset_index()\n",
    "test_count = pd.DataFrame(test.game_id.value_counts()).reset_index()\n",
    "\n",
    "total_count.columns = ['game_id', 'count']\n",
    "validation_count.columns = ['game_id', 'count']\n",
    "test_count.columns = ['game_id', 'count']"
   ]
  },
  {
   "cell_type": "code",
   "execution_count": 25,
   "metadata": {},
   "outputs": [
    {
     "data": {
      "text/html": [
       "<div>\n",
       "<style scoped>\n",
       "    .dataframe tbody tr th:only-of-type {\n",
       "        vertical-align: middle;\n",
       "    }\n",
       "\n",
       "    .dataframe tbody tr th {\n",
       "        vertical-align: top;\n",
       "    }\n",
       "\n",
       "    .dataframe thead th {\n",
       "        text-align: right;\n",
       "    }\n",
       "</style>\n",
       "<table border=\"1\" class=\"dataframe\">\n",
       "  <thead>\n",
       "    <tr style=\"text-align: right;\">\n",
       "      <th></th>\n",
       "      <th>game_id</th>\n",
       "      <th>count_validation</th>\n",
       "      <th>count_total</th>\n",
       "      <th>proportion</th>\n",
       "      <th>Unnamed: 0</th>\n",
       "      <th>game_name</th>\n",
       "      <th>type</th>\n",
       "      <th>category</th>\n",
       "    </tr>\n",
       "  </thead>\n",
       "  <tbody>\n",
       "    <tr>\n",
       "      <th>0</th>\n",
       "      <td>174430</td>\n",
       "      <td>3150</td>\n",
       "      <td>36052</td>\n",
       "      <td>0.09</td>\n",
       "      <td>174430</td>\n",
       "      <td>Gloomhaven</td>\n",
       "      <td>['Strategy,', 'Thematic']</td>\n",
       "      <td>['Adventure', 'Exploration', 'Fantasy', 'Fight...</td>\n",
       "    </tr>\n",
       "    <tr>\n",
       "      <th>1</th>\n",
       "      <td>167791</td>\n",
       "      <td>3327</td>\n",
       "      <td>50242</td>\n",
       "      <td>0.07</td>\n",
       "      <td>167791</td>\n",
       "      <td>Terraforming Mars</td>\n",
       "      <td>['Strategy']</td>\n",
       "      <td>['Economic', 'Environmental', 'Industry / Manu...</td>\n",
       "    </tr>\n",
       "    <tr>\n",
       "      <th>2</th>\n",
       "      <td>169786</td>\n",
       "      <td>3004</td>\n",
       "      <td>50252</td>\n",
       "      <td>0.06</td>\n",
       "      <td>169786</td>\n",
       "      <td>Scythe</td>\n",
       "      <td>['Strategy']</td>\n",
       "      <td>['Economic', 'Fighting', 'Science Fiction', 'T...</td>\n",
       "    </tr>\n",
       "    <tr>\n",
       "      <th>3</th>\n",
       "      <td>161936</td>\n",
       "      <td>2575</td>\n",
       "      <td>41115</td>\n",
       "      <td>0.06</td>\n",
       "      <td>161936</td>\n",
       "      <td>Pandemic Legacy: Season 1</td>\n",
       "      <td>['Strategy,', 'Thematic']</td>\n",
       "      <td>['Environmental', 'Medical']</td>\n",
       "    </tr>\n",
       "    <tr>\n",
       "      <th>4</th>\n",
       "      <td>84876</td>\n",
       "      <td>1432</td>\n",
       "      <td>30860</td>\n",
       "      <td>0.05</td>\n",
       "      <td>84876</td>\n",
       "      <td>The Castles of Burgundy</td>\n",
       "      <td>['Strategy']</td>\n",
       "      <td>['Dice', 'Medieval', 'Territory Building']</td>\n",
       "    </tr>\n",
       "    <tr>\n",
       "      <th>5</th>\n",
       "      <td>120677</td>\n",
       "      <td>1395</td>\n",
       "      <td>26979</td>\n",
       "      <td>0.05</td>\n",
       "      <td>120677</td>\n",
       "      <td>Terra Mystica</td>\n",
       "      <td>['Strategy']</td>\n",
       "      <td>['Civilization', 'Economic', 'Fantasy', 'Terri...</td>\n",
       "    </tr>\n",
       "    <tr>\n",
       "      <th>6</th>\n",
       "      <td>182028</td>\n",
       "      <td>1313</td>\n",
       "      <td>24873</td>\n",
       "      <td>0.05</td>\n",
       "      <td>182028</td>\n",
       "      <td>Through the Ages: A New Story of Civilization</td>\n",
       "      <td>['Strategy']</td>\n",
       "      <td>['Card Game', 'Civilization', 'Economic']</td>\n",
       "    </tr>\n",
       "    <tr>\n",
       "      <th>7</th>\n",
       "      <td>12333</td>\n",
       "      <td>1000</td>\n",
       "      <td>21970</td>\n",
       "      <td>0.05</td>\n",
       "      <td>12333</td>\n",
       "      <td>Twilight Struggle</td>\n",
       "      <td>['Strategy,', 'Wargames']</td>\n",
       "      <td>['Modern Warfare', 'Political', 'Wargame']</td>\n",
       "    </tr>\n",
       "    <tr>\n",
       "      <th>8</th>\n",
       "      <td>96848</td>\n",
       "      <td>909</td>\n",
       "      <td>18863</td>\n",
       "      <td>0.05</td>\n",
       "      <td>96848</td>\n",
       "      <td>Mage Knight Board Game</td>\n",
       "      <td>['Strategy,', 'Thematic']</td>\n",
       "      <td>['Adventure', 'Exploration', 'Fantasy', 'Fight...</td>\n",
       "    </tr>\n",
       "  </tbody>\n",
       "</table>\n",
       "</div>"
      ],
      "text/plain": [
       "   game_id  count_validation  count_total  proportion  Unnamed: 0  \\\n",
       "0   174430              3150        36052        0.09      174430   \n",
       "1   167791              3327        50242        0.07      167791   \n",
       "2   169786              3004        50252        0.06      169786   \n",
       "3   161936              2575        41115        0.06      161936   \n",
       "4    84876              1432        30860        0.05       84876   \n",
       "5   120677              1395        26979        0.05      120677   \n",
       "6   182028              1313        24873        0.05      182028   \n",
       "7    12333              1000        21970        0.05       12333   \n",
       "8    96848               909        18863        0.05       96848   \n",
       "\n",
       "                                       game_name                       type  \\\n",
       "0                                     Gloomhaven  ['Strategy,', 'Thematic']   \n",
       "1                              Terraforming Mars               ['Strategy']   \n",
       "2                                         Scythe               ['Strategy']   \n",
       "3                      Pandemic Legacy: Season 1  ['Strategy,', 'Thematic']   \n",
       "4                        The Castles of Burgundy               ['Strategy']   \n",
       "5                                  Terra Mystica               ['Strategy']   \n",
       "6  Through the Ages: A New Story of Civilization               ['Strategy']   \n",
       "7                              Twilight Struggle  ['Strategy,', 'Wargames']   \n",
       "8                         Mage Knight Board Game  ['Strategy,', 'Thematic']   \n",
       "\n",
       "                                            category  \n",
       "0  ['Adventure', 'Exploration', 'Fantasy', 'Fight...  \n",
       "1  ['Economic', 'Environmental', 'Industry / Manu...  \n",
       "2  ['Economic', 'Fighting', 'Science Fiction', 'T...  \n",
       "3                       ['Environmental', 'Medical']  \n",
       "4         ['Dice', 'Medieval', 'Territory Building']  \n",
       "5  ['Civilization', 'Economic', 'Fantasy', 'Terri...  \n",
       "6          ['Card Game', 'Civilization', 'Economic']  \n",
       "7         ['Modern Warfare', 'Political', 'Wargame']  \n",
       "8  ['Adventure', 'Exploration', 'Fantasy', 'Fight...  "
      ]
     },
     "execution_count": 25,
     "metadata": {},
     "output_type": "execute_result"
    }
   ],
   "source": [
    "# Validation set vs all data\n",
    "comparison_val = validation_count.merge(total_count, on=\"game_id\", how=\"left\", suffixes=('_validation', '_total'))\n",
    "comparison_val[\"proportion\"] = round(comparison_val.count_validation/comparison_val.count_total, 2)\n",
    "\n",
    "comparison_val[comparison_val.proportion>=0.05].sort_values(\"proportion\", ascending=False).merge(games, on=\"game_id\")"
   ]
  },
  {
   "cell_type": "code",
   "execution_count": 27,
   "metadata": {},
   "outputs": [
    {
     "data": {
      "text/html": [
       "<div>\n",
       "<style scoped>\n",
       "    .dataframe tbody tr th:only-of-type {\n",
       "        vertical-align: middle;\n",
       "    }\n",
       "\n",
       "    .dataframe tbody tr th {\n",
       "        vertical-align: top;\n",
       "    }\n",
       "\n",
       "    .dataframe thead th {\n",
       "        text-align: right;\n",
       "    }\n",
       "</style>\n",
       "<table border=\"1\" class=\"dataframe\">\n",
       "  <thead>\n",
       "    <tr style=\"text-align: right;\">\n",
       "      <th></th>\n",
       "      <th>game_id</th>\n",
       "      <th>count_test</th>\n",
       "      <th>count_total</th>\n",
       "      <th>proportion</th>\n",
       "      <th>Unnamed: 0</th>\n",
       "      <th>game_name</th>\n",
       "      <th>type</th>\n",
       "      <th>category</th>\n",
       "    </tr>\n",
       "  </thead>\n",
       "  <tbody>\n",
       "    <tr>\n",
       "      <th>0</th>\n",
       "      <td>55690</td>\n",
       "      <td>1580</td>\n",
       "      <td>8387</td>\n",
       "      <td>0.19</td>\n",
       "      <td>55690</td>\n",
       "      <td>Kingdom Death: Monster</td>\n",
       "      <td>['Thematic']</td>\n",
       "      <td>['Adventure', 'Fantasy', 'Horror', 'Mature / A...</td>\n",
       "    </tr>\n",
       "    <tr>\n",
       "      <th>1</th>\n",
       "      <td>12333</td>\n",
       "      <td>3091</td>\n",
       "      <td>21970</td>\n",
       "      <td>0.14</td>\n",
       "      <td>12333</td>\n",
       "      <td>Twilight Struggle</td>\n",
       "      <td>['Strategy,', 'Wargames']</td>\n",
       "      <td>['Modern Warfare', 'Political', 'Wargame']</td>\n",
       "    </tr>\n",
       "    <tr>\n",
       "      <th>2</th>\n",
       "      <td>174430</td>\n",
       "      <td>4547</td>\n",
       "      <td>36052</td>\n",
       "      <td>0.13</td>\n",
       "      <td>174430</td>\n",
       "      <td>Gloomhaven</td>\n",
       "      <td>['Strategy,', 'Thematic']</td>\n",
       "      <td>['Adventure', 'Exploration', 'Fantasy', 'Fight...</td>\n",
       "    </tr>\n",
       "    <tr>\n",
       "      <th>3</th>\n",
       "      <td>96848</td>\n",
       "      <td>1483</td>\n",
       "      <td>18863</td>\n",
       "      <td>0.08</td>\n",
       "      <td>96848</td>\n",
       "      <td>Mage Knight Board Game</td>\n",
       "      <td>['Strategy,', 'Thematic']</td>\n",
       "      <td>['Adventure', 'Exploration', 'Fantasy', 'Fight...</td>\n",
       "    </tr>\n",
       "    <tr>\n",
       "      <th>4</th>\n",
       "      <td>115746</td>\n",
       "      <td>1018</td>\n",
       "      <td>12944</td>\n",
       "      <td>0.08</td>\n",
       "      <td>115746</td>\n",
       "      <td>War of the Ring (Second Edition)</td>\n",
       "      <td>['Thematic,', 'Wargames']</td>\n",
       "      <td>['Adventure', 'Fantasy', 'Fighting', 'Miniatur...</td>\n",
       "    </tr>\n",
       "    <tr>\n",
       "      <th>5</th>\n",
       "      <td>167791</td>\n",
       "      <td>3987</td>\n",
       "      <td>50242</td>\n",
       "      <td>0.08</td>\n",
       "      <td>167791</td>\n",
       "      <td>Terraforming Mars</td>\n",
       "      <td>['Strategy']</td>\n",
       "      <td>['Economic', 'Environmental', 'Industry / Manu...</td>\n",
       "    </tr>\n",
       "    <tr>\n",
       "      <th>6</th>\n",
       "      <td>3076</td>\n",
       "      <td>1819</td>\n",
       "      <td>24709</td>\n",
       "      <td>0.07</td>\n",
       "      <td>3076</td>\n",
       "      <td>Puerto Rico</td>\n",
       "      <td>['Strategy']</td>\n",
       "      <td>['City Building', 'Economic', 'Farming']</td>\n",
       "    </tr>\n",
       "    <tr>\n",
       "      <th>7</th>\n",
       "      <td>31260</td>\n",
       "      <td>1811</td>\n",
       "      <td>24735</td>\n",
       "      <td>0.07</td>\n",
       "      <td>31260</td>\n",
       "      <td>Agricola</td>\n",
       "      <td>['Strategy']</td>\n",
       "      <td>['Animals', 'Economic', 'Farming']</td>\n",
       "    </tr>\n",
       "    <tr>\n",
       "      <th>8</th>\n",
       "      <td>37111</td>\n",
       "      <td>972</td>\n",
       "      <td>14256</td>\n",
       "      <td>0.07</td>\n",
       "      <td>37111</td>\n",
       "      <td>Battlestar Galactica: The Board Game</td>\n",
       "      <td>['Thematic']</td>\n",
       "      <td>['Bluffing', 'Deduction', 'Movies / TV / Radio...</td>\n",
       "    </tr>\n",
       "    <tr>\n",
       "      <th>9</th>\n",
       "      <td>28143</td>\n",
       "      <td>1147</td>\n",
       "      <td>19698</td>\n",
       "      <td>0.06</td>\n",
       "      <td>28143</td>\n",
       "      <td>Race for the Galaxy</td>\n",
       "      <td>['Strategy']</td>\n",
       "      <td>['Card Game', 'Civilization', 'Economic', 'Sci...</td>\n",
       "    </tr>\n",
       "    <tr>\n",
       "      <th>10</th>\n",
       "      <td>2651</td>\n",
       "      <td>1367</td>\n",
       "      <td>23463</td>\n",
       "      <td>0.06</td>\n",
       "      <td>2651</td>\n",
       "      <td>Power Grid</td>\n",
       "      <td>['Strategy']</td>\n",
       "      <td>['Economic', 'Industry / Manufacturing']</td>\n",
       "    </tr>\n",
       "    <tr>\n",
       "      <th>11</th>\n",
       "      <td>162886</td>\n",
       "      <td>1370</td>\n",
       "      <td>23038</td>\n",
       "      <td>0.06</td>\n",
       "      <td>162886</td>\n",
       "      <td>Spirit Island</td>\n",
       "      <td>['Strategy']</td>\n",
       "      <td>['Age of Reason', 'Environmental', 'Fantasy', ...</td>\n",
       "    </tr>\n",
       "    <tr>\n",
       "      <th>12</th>\n",
       "      <td>120677</td>\n",
       "      <td>1704</td>\n",
       "      <td>26979</td>\n",
       "      <td>0.06</td>\n",
       "      <td>120677</td>\n",
       "      <td>Terra Mystica</td>\n",
       "      <td>['Strategy']</td>\n",
       "      <td>['Civilization', 'Economic', 'Fantasy', 'Terri...</td>\n",
       "    </tr>\n",
       "    <tr>\n",
       "      <th>13</th>\n",
       "      <td>84876</td>\n",
       "      <td>1805</td>\n",
       "      <td>30860</td>\n",
       "      <td>0.06</td>\n",
       "      <td>84876</td>\n",
       "      <td>The Castles of Burgundy</td>\n",
       "      <td>['Strategy']</td>\n",
       "      <td>['Dice', 'Medieval', 'Territory Building']</td>\n",
       "    </tr>\n",
       "    <tr>\n",
       "      <th>14</th>\n",
       "      <td>169786</td>\n",
       "      <td>3121</td>\n",
       "      <td>50252</td>\n",
       "      <td>0.06</td>\n",
       "      <td>169786</td>\n",
       "      <td>Scythe</td>\n",
       "      <td>['Strategy']</td>\n",
       "      <td>['Economic', 'Fighting', 'Science Fiction', 'T...</td>\n",
       "    </tr>\n",
       "    <tr>\n",
       "      <th>15</th>\n",
       "      <td>10547</td>\n",
       "      <td>1057</td>\n",
       "      <td>21306</td>\n",
       "      <td>0.05</td>\n",
       "      <td>10547</td>\n",
       "      <td>Betrayal at House on the Hill</td>\n",
       "      <td>['Thematic']</td>\n",
       "      <td>['Adventure', 'Exploration', 'Horror', 'Miniat...</td>\n",
       "    </tr>\n",
       "    <tr>\n",
       "      <th>16</th>\n",
       "      <td>72125</td>\n",
       "      <td>675</td>\n",
       "      <td>13578</td>\n",
       "      <td>0.05</td>\n",
       "      <td>72125</td>\n",
       "      <td>Eclipse</td>\n",
       "      <td>['Strategy']</td>\n",
       "      <td>['Civilization', 'Fighting', 'Science Fiction'...</td>\n",
       "    </tr>\n",
       "    <tr>\n",
       "      <th>17</th>\n",
       "      <td>28720</td>\n",
       "      <td>628</td>\n",
       "      <td>13699</td>\n",
       "      <td>0.05</td>\n",
       "      <td>28720</td>\n",
       "      <td>Brass: Lancashire</td>\n",
       "      <td>['Strategy']</td>\n",
       "      <td>['Economic', 'Industry / Manufacturing', 'Tran...</td>\n",
       "    </tr>\n",
       "    <tr>\n",
       "      <th>18</th>\n",
       "      <td>164153</td>\n",
       "      <td>1050</td>\n",
       "      <td>21672</td>\n",
       "      <td>0.05</td>\n",
       "      <td>164153</td>\n",
       "      <td>Star Wars: Imperial Assault</td>\n",
       "      <td>['Thematic']</td>\n",
       "      <td>['Adventure', 'Fighting', 'Miniatures', 'Movie...</td>\n",
       "    </tr>\n",
       "    <tr>\n",
       "      <th>19</th>\n",
       "      <td>146508</td>\n",
       "      <td>1468</td>\n",
       "      <td>29190</td>\n",
       "      <td>0.05</td>\n",
       "      <td>146508</td>\n",
       "      <td>T.I.M.E Stories</td>\n",
       "      <td>['Thematic']</td>\n",
       "      <td>['Adventure', 'Mature / Adult', 'Puzzle', 'Sci...</td>\n",
       "    </tr>\n",
       "    <tr>\n",
       "      <th>20</th>\n",
       "      <td>146021</td>\n",
       "      <td>1111</td>\n",
       "      <td>21712</td>\n",
       "      <td>0.05</td>\n",
       "      <td>146021</td>\n",
       "      <td>Eldritch Horror</td>\n",
       "      <td>['Thematic']</td>\n",
       "      <td>['Adventure', 'Fantasy', 'Fighting', 'Horror',...</td>\n",
       "    </tr>\n",
       "    <tr>\n",
       "      <th>21</th>\n",
       "      <td>182028</td>\n",
       "      <td>1352</td>\n",
       "      <td>24873</td>\n",
       "      <td>0.05</td>\n",
       "      <td>182028</td>\n",
       "      <td>Through the Ages: A New Story of Civilization</td>\n",
       "      <td>['Strategy']</td>\n",
       "      <td>['Card Game', 'Civilization', 'Economic']</td>\n",
       "    </tr>\n",
       "    <tr>\n",
       "      <th>22</th>\n",
       "      <td>36218</td>\n",
       "      <td>1674</td>\n",
       "      <td>31045</td>\n",
       "      <td>0.05</td>\n",
       "      <td>36218</td>\n",
       "      <td>Dominion</td>\n",
       "      <td>['Strategy']</td>\n",
       "      <td>['Card Game', 'Medieval']</td>\n",
       "    </tr>\n",
       "    <tr>\n",
       "      <th>23</th>\n",
       "      <td>161936</td>\n",
       "      <td>2138</td>\n",
       "      <td>41115</td>\n",
       "      <td>0.05</td>\n",
       "      <td>161936</td>\n",
       "      <td>Pandemic Legacy: Season 1</td>\n",
       "      <td>['Strategy,', 'Thematic']</td>\n",
       "      <td>['Environmental', 'Medical']</td>\n",
       "    </tr>\n",
       "    <tr>\n",
       "      <th>24</th>\n",
       "      <td>68448</td>\n",
       "      <td>2165</td>\n",
       "      <td>40390</td>\n",
       "      <td>0.05</td>\n",
       "      <td>68448</td>\n",
       "      <td>7 Wonders</td>\n",
       "      <td>['Family,', 'Strategy']</td>\n",
       "      <td>['Ancient', 'Card Game', 'City Building', 'Civ...</td>\n",
       "    </tr>\n",
       "    <tr>\n",
       "      <th>25</th>\n",
       "      <td>188</td>\n",
       "      <td>278</td>\n",
       "      <td>6128</td>\n",
       "      <td>0.05</td>\n",
       "      <td>188</td>\n",
       "      <td>Go</td>\n",
       "      <td>['Abstract']</td>\n",
       "      <td>['Abstract Strategy']</td>\n",
       "    </tr>\n",
       "  </tbody>\n",
       "</table>\n",
       "</div>"
      ],
      "text/plain": [
       "    game_id  count_test  count_total  proportion  Unnamed: 0  \\\n",
       "0     55690        1580         8387        0.19       55690   \n",
       "1     12333        3091        21970        0.14       12333   \n",
       "2    174430        4547        36052        0.13      174430   \n",
       "3     96848        1483        18863        0.08       96848   \n",
       "4    115746        1018        12944        0.08      115746   \n",
       "5    167791        3987        50242        0.08      167791   \n",
       "6      3076        1819        24709        0.07        3076   \n",
       "7     31260        1811        24735        0.07       31260   \n",
       "8     37111         972        14256        0.07       37111   \n",
       "9     28143        1147        19698        0.06       28143   \n",
       "10     2651        1367        23463        0.06        2651   \n",
       "11   162886        1370        23038        0.06      162886   \n",
       "12   120677        1704        26979        0.06      120677   \n",
       "13    84876        1805        30860        0.06       84876   \n",
       "14   169786        3121        50252        0.06      169786   \n",
       "15    10547        1057        21306        0.05       10547   \n",
       "16    72125         675        13578        0.05       72125   \n",
       "17    28720         628        13699        0.05       28720   \n",
       "18   164153        1050        21672        0.05      164153   \n",
       "19   146508        1468        29190        0.05      146508   \n",
       "20   146021        1111        21712        0.05      146021   \n",
       "21   182028        1352        24873        0.05      182028   \n",
       "22    36218        1674        31045        0.05       36218   \n",
       "23   161936        2138        41115        0.05      161936   \n",
       "24    68448        2165        40390        0.05       68448   \n",
       "25      188         278         6128        0.05         188   \n",
       "\n",
       "                                        game_name                       type  \\\n",
       "0                          Kingdom Death: Monster               ['Thematic']   \n",
       "1                               Twilight Struggle  ['Strategy,', 'Wargames']   \n",
       "2                                      Gloomhaven  ['Strategy,', 'Thematic']   \n",
       "3                          Mage Knight Board Game  ['Strategy,', 'Thematic']   \n",
       "4                War of the Ring (Second Edition)  ['Thematic,', 'Wargames']   \n",
       "5                               Terraforming Mars               ['Strategy']   \n",
       "6                                     Puerto Rico               ['Strategy']   \n",
       "7                                        Agricola               ['Strategy']   \n",
       "8            Battlestar Galactica: The Board Game               ['Thematic']   \n",
       "9                             Race for the Galaxy               ['Strategy']   \n",
       "10                                     Power Grid               ['Strategy']   \n",
       "11                                  Spirit Island               ['Strategy']   \n",
       "12                                  Terra Mystica               ['Strategy']   \n",
       "13                        The Castles of Burgundy               ['Strategy']   \n",
       "14                                         Scythe               ['Strategy']   \n",
       "15                  Betrayal at House on the Hill               ['Thematic']   \n",
       "16                                        Eclipse               ['Strategy']   \n",
       "17                              Brass: Lancashire               ['Strategy']   \n",
       "18                    Star Wars: Imperial Assault               ['Thematic']   \n",
       "19                                T.I.M.E Stories               ['Thematic']   \n",
       "20                                Eldritch Horror               ['Thematic']   \n",
       "21  Through the Ages: A New Story of Civilization               ['Strategy']   \n",
       "22                                       Dominion               ['Strategy']   \n",
       "23                      Pandemic Legacy: Season 1  ['Strategy,', 'Thematic']   \n",
       "24                                      7 Wonders    ['Family,', 'Strategy']   \n",
       "25                                             Go               ['Abstract']   \n",
       "\n",
       "                                             category  \n",
       "0   ['Adventure', 'Fantasy', 'Horror', 'Mature / A...  \n",
       "1          ['Modern Warfare', 'Political', 'Wargame']  \n",
       "2   ['Adventure', 'Exploration', 'Fantasy', 'Fight...  \n",
       "3   ['Adventure', 'Exploration', 'Fantasy', 'Fight...  \n",
       "4   ['Adventure', 'Fantasy', 'Fighting', 'Miniatur...  \n",
       "5   ['Economic', 'Environmental', 'Industry / Manu...  \n",
       "6            ['City Building', 'Economic', 'Farming']  \n",
       "7                  ['Animals', 'Economic', 'Farming']  \n",
       "8   ['Bluffing', 'Deduction', 'Movies / TV / Radio...  \n",
       "9   ['Card Game', 'Civilization', 'Economic', 'Sci...  \n",
       "10           ['Economic', 'Industry / Manufacturing']  \n",
       "11  ['Age of Reason', 'Environmental', 'Fantasy', ...  \n",
       "12  ['Civilization', 'Economic', 'Fantasy', 'Terri...  \n",
       "13         ['Dice', 'Medieval', 'Territory Building']  \n",
       "14  ['Economic', 'Fighting', 'Science Fiction', 'T...  \n",
       "15  ['Adventure', 'Exploration', 'Horror', 'Miniat...  \n",
       "16  ['Civilization', 'Fighting', 'Science Fiction'...  \n",
       "17  ['Economic', 'Industry / Manufacturing', 'Tran...  \n",
       "18  ['Adventure', 'Fighting', 'Miniatures', 'Movie...  \n",
       "19  ['Adventure', 'Mature / Adult', 'Puzzle', 'Sci...  \n",
       "20  ['Adventure', 'Fantasy', 'Fighting', 'Horror',...  \n",
       "21          ['Card Game', 'Civilization', 'Economic']  \n",
       "22                          ['Card Game', 'Medieval']  \n",
       "23                       ['Environmental', 'Medical']  \n",
       "24  ['Ancient', 'Card Game', 'City Building', 'Civ...  \n",
       "25                              ['Abstract Strategy']  "
      ]
     },
     "execution_count": 27,
     "metadata": {},
     "output_type": "execute_result"
    }
   ],
   "source": [
    "# Test set vs all data\n",
    "comparison_test = test_count.merge(total_count, on=\"game_id\", how=\"left\", suffixes=('_test', '_total'))\n",
    "comparison_test[\"proportion\"] = round(comparison_test.count_test/comparison_test.count_total, 2)\n",
    "\n",
    "comparison_test[comparison_test.proportion>=0.05].sort_values(\"proportion\", ascending=False).merge(games, on=\"game_id\")"
   ]
  },
  {
   "cell_type": "code",
   "execution_count": 52,
   "metadata": {},
   "outputs": [
    {
     "name": "stdout",
     "output_type": "stream",
     "text": [
      "\\begin{tabular}{llrrr}\n",
      "\\toprule\n",
      "{} &                                      game\\_name &  proportion &  total\\_count &  avg\\_rating \\\\\n",
      "\\midrule\n",
      "0  &                         Kingdom Death: Monster &        0.23 &         8387 &        8.39 \\\\\n",
      "1  &                                     Gloomhaven &        0.21 &        36052 &        8.76 \\\\\n",
      "2  &                              Twilight Struggle &        0.19 &        21970 &        8.22 \\\\\n",
      "3  &                              Terraforming Mars &        0.15 &        50242 &        8.35 \\\\\n",
      "4  &                         Mage Knight Board Game &        0.13 &        18863 &        8.03 \\\\\n",
      "5  &                                         Scythe &        0.12 &        50252 &        8.22 \\\\\n",
      "6  &                                       Agricola &        0.12 &        24735 &        7.75 \\\\\n",
      "7  &               War of the Ring (Second Edition) &        0.12 &        12944 &        8.35 \\\\\n",
      "8  &                      Pandemic Legacy: Season 1 &        0.11 &        41115 &        8.59 \\\\\n",
      "9  &                                    Puerto Rico &        0.11 &        24709 &        7.82 \\\\\n",
      "10 &                                  Terra Mystica &        0.11 &        26979 &        8.11 \\\\\n",
      "11 &  Through the Ages: A New Story of Civilization &        0.11 &        24873 &        8.47 \\\\\n",
      "\\bottomrule\n",
      "\\end{tabular}\n",
      "\n"
     ]
    }
   ],
   "source": [
    "comparison = comparison_test.merge(comparison_val, on=\"game_id\")\n",
    "comparison[\"proportion\"] = round((comparison.count_test + comparison.count_validation)/comparison.count_total_x, 2)\n",
    "comparison = comparison[comparison.proportion>0.1].sort_values(\"proportion\", ascending=False)\\\n",
    "             .merge(games, on=\"game_id\")\n",
    "comparison.rename(columns={\"count_total_x\":\"total_count\"}, inplace=True)\n",
    "\n",
    "# games avg rating\n",
    "games_avg_rating = df[df.score>0].groupby(\"game_id\").agg(avg_rating=(\"score\", \"mean\")).reset_index()\n",
    "games_avg_rating[\"avg_rating\"] = round(games_avg_rating[\"avg_rating\"],2)\n",
    "\n",
    "comparison = comparison.merge(games_avg_rating, on=\"game_id\", how=\"inner\")\n",
    "print(comparison[[\"game_name\", \"proportion\", \"total_count\", \"avg_rating\"]].to_latex())"
   ]
  },
  {
   "cell_type": "code",
   "execution_count": 45,
   "metadata": {},
   "outputs": [
    {
     "data": {
      "text/html": [
       "<div>\n",
       "<style scoped>\n",
       "    .dataframe tbody tr th:only-of-type {\n",
       "        vertical-align: middle;\n",
       "    }\n",
       "\n",
       "    .dataframe tbody tr th {\n",
       "        vertical-align: top;\n",
       "    }\n",
       "\n",
       "    .dataframe thead th {\n",
       "        text-align: right;\n",
       "    }\n",
       "</style>\n",
       "<table border=\"1\" class=\"dataframe\">\n",
       "  <thead>\n",
       "    <tr style=\"text-align: right;\">\n",
       "      <th></th>\n",
       "      <th>game_id</th>\n",
       "      <th>avg_rating</th>\n",
       "    </tr>\n",
       "  </thead>\n",
       "  <tbody>\n",
       "    <tr>\n",
       "      <th>0</th>\n",
       "      <td>1</td>\n",
       "      <td>7.354749</td>\n",
       "    </tr>\n",
       "    <tr>\n",
       "      <th>1</th>\n",
       "      <td>3</td>\n",
       "      <td>7.443195</td>\n",
       "    </tr>\n",
       "    <tr>\n",
       "      <th>2</th>\n",
       "      <td>5</td>\n",
       "      <td>7.231432</td>\n",
       "    </tr>\n",
       "    <tr>\n",
       "      <th>3</th>\n",
       "      <td>7</td>\n",
       "      <td>6.471241</td>\n",
       "    </tr>\n",
       "    <tr>\n",
       "      <th>4</th>\n",
       "      <td>10</td>\n",
       "      <td>6.617255</td>\n",
       "    </tr>\n",
       "    <tr>\n",
       "      <th>...</th>\n",
       "      <td>...</td>\n",
       "      <td>...</td>\n",
       "    </tr>\n",
       "    <tr>\n",
       "      <th>2260</th>\n",
       "      <td>269210</td>\n",
       "      <td>7.604962</td>\n",
       "    </tr>\n",
       "    <tr>\n",
       "      <th>2261</th>\n",
       "      <td>269385</td>\n",
       "      <td>8.135807</td>\n",
       "    </tr>\n",
       "    <tr>\n",
       "      <th>2262</th>\n",
       "      <td>269725</td>\n",
       "      <td>6.824013</td>\n",
       "    </tr>\n",
       "    <tr>\n",
       "      <th>2263</th>\n",
       "      <td>271896</td>\n",
       "      <td>7.782376</td>\n",
       "    </tr>\n",
       "    <tr>\n",
       "      <th>2264</th>\n",
       "      <td>272453</td>\n",
       "      <td>8.019186</td>\n",
       "    </tr>\n",
       "  </tbody>\n",
       "</table>\n",
       "<p>2265 rows × 2 columns</p>\n",
       "</div>"
      ],
      "text/plain": [
       "      game_id  avg_rating\n",
       "0           1    7.354749\n",
       "1           3    7.443195\n",
       "2           5    7.231432\n",
       "3           7    6.471241\n",
       "4          10    6.617255\n",
       "...       ...         ...\n",
       "2260   269210    7.604962\n",
       "2261   269385    8.135807\n",
       "2262   269725    6.824013\n",
       "2263   271896    7.782376\n",
       "2264   272453    8.019186\n",
       "\n",
       "[2265 rows x 2 columns]"
      ]
     },
     "execution_count": 45,
     "metadata": {},
     "output_type": "execute_result"
    }
   ],
   "source": [
    "games_avg_rating"
   ]
  },
  {
   "cell_type": "code",
   "execution_count": null,
   "metadata": {},
   "outputs": [],
   "source": []
  },
  {
   "cell_type": "code",
   "execution_count": null,
   "metadata": {},
   "outputs": [],
   "source": []
  },
  {
   "cell_type": "code",
   "execution_count": null,
   "metadata": {},
   "outputs": [],
   "source": []
  }
 ],
 "metadata": {
  "kernelspec": {
   "display_name": "Python 3 (ipykernel)",
   "language": "python",
   "name": "python3"
  },
  "language_info": {
   "codemirror_mode": {
    "name": "ipython",
    "version": 3
   },
   "file_extension": ".py",
   "mimetype": "text/x-python",
   "name": "python",
   "nbconvert_exporter": "python",
   "pygments_lexer": "ipython3",
   "version": "3.8.12"
  }
 },
 "nbformat": 4,
 "nbformat_minor": 4
}
